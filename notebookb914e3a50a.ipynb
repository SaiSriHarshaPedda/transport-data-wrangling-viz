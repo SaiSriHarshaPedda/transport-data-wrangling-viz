{
 "cells": [
  {
   "cell_type": "code",
   "execution_count": 1,
   "id": "4333a94d",
   "metadata": {
    "_cell_guid": "b1076dfc-b9ad-4769-8c92-a6c4dae69d19",
    "_uuid": "8f2839f25d086af736a60e9eeb907d3b93b6e0e5",
    "execution": {
     "iopub.execute_input": "2025-03-01T13:53:09.736628Z",
     "iopub.status.busy": "2025-03-01T13:53:09.736288Z",
     "iopub.status.idle": "2025-03-01T13:53:10.905640Z",
     "shell.execute_reply": "2025-03-01T13:53:10.904525Z"
    },
    "papermill": {
     "duration": 1.179128,
     "end_time": "2025-03-01T13:53:10.907432",
     "exception": false,
     "start_time": "2025-03-01T13:53:09.728304",
     "status": "completed"
    },
    "tags": []
   },
   "outputs": [
    {
     "name": "stdout",
     "output_type": "stream",
     "text": [
      "/kaggle/input/transport-details/DEVASHREE NEW 2024 2.xlsx\n"
     ]
    }
   ],
   "source": [
    "# This Python 3 environment comes with many helpful analytics libraries installed\n",
    "# It is defined by the kaggle/python Docker image: https://github.com/kaggle/docker-python\n",
    "# For example, here's several helpful packages to load\n",
    "\n",
    "import numpy as np # linear algebra\n",
    "import pandas as pd # data processing, CSV file I/O (e.g. pd.read_csv)\n",
    "\n",
    "# Input data files are available in the read-only \"../input/\" directory\n",
    "# For example, running this (by clicking run or pressing Shift+Enter) will list all files under the input directory\n",
    "\n",
    "import os\n",
    "for dirname, _, filenames in os.walk('/kaggle/input'):\n",
    "    for filename in filenames:\n",
    "        print(os.path.join(dirname, filename))\n",
    "\n",
    "# You can write up to 20GB to the current directory (/kaggle/working/) that gets preserved as output when you create a version using \"Save & Run All\" \n",
    "# You can also write temporary files to /kaggle/temp/, but they won't be saved outside of the current session"
   ]
  },
  {
   "cell_type": "code",
   "execution_count": 2,
   "id": "152e74d0",
   "metadata": {
    "execution": {
     "iopub.execute_input": "2025-03-01T13:53:10.921847Z",
     "iopub.status.busy": "2025-03-01T13:53:10.921390Z",
     "iopub.status.idle": "2025-03-01T13:53:10.925991Z",
     "shell.execute_reply": "2025-03-01T13:53:10.924498Z"
    },
    "papermill": {
     "duration": 0.01353,
     "end_time": "2025-03-01T13:53:10.927915",
     "exception": false,
     "start_time": "2025-03-01T13:53:10.914385",
     "status": "completed"
    },
    "tags": []
   },
   "outputs": [],
   "source": [
    "file_path='/kaggle/input/transport-details/DEVASHREE NEW 2024 2.xlsx'"
   ]
  },
  {
   "cell_type": "code",
   "execution_count": 3,
   "id": "f372de60",
   "metadata": {
    "execution": {
     "iopub.execute_input": "2025-03-01T13:53:10.942554Z",
     "iopub.status.busy": "2025-03-01T13:53:10.942220Z",
     "iopub.status.idle": "2025-03-01T13:53:13.247685Z",
     "shell.execute_reply": "2025-03-01T13:53:13.246828Z"
    },
    "papermill": {
     "duration": 2.314556,
     "end_time": "2025-03-01T13:53:13.249429",
     "exception": false,
     "start_time": "2025-03-01T13:53:10.934873",
     "status": "completed"
    },
    "tags": []
   },
   "outputs": [],
   "source": [
    "df=pd.read_excel(file_path,sheet_name='Sheet1',usecols=range(8))"
   ]
  },
  {
   "cell_type": "code",
   "execution_count": 4,
   "id": "abf8d02b",
   "metadata": {
    "execution": {
     "iopub.execute_input": "2025-03-01T13:53:13.266781Z",
     "iopub.status.busy": "2025-03-01T13:53:13.266324Z",
     "iopub.status.idle": "2025-03-01T13:53:13.280530Z",
     "shell.execute_reply": "2025-03-01T13:53:13.279323Z"
    },
    "papermill": {
     "duration": 0.02457,
     "end_time": "2025-03-01T13:53:13.282180",
     "exception": false,
     "start_time": "2025-03-01T13:53:13.257610",
     "status": "completed"
    },
    "tags": []
   },
   "outputs": [
    {
     "data": {
      "text/plain": [
       "LO DATE       object\n",
       "UN DATE       object\n",
       "PARTY         object\n",
       "VECHILE NO    object\n",
       "GC            object\n",
       "L.W           object\n",
       "FRIGHT        object\n",
       "TOTAL         object\n",
       "dtype: object"
      ]
     },
     "execution_count": 4,
     "metadata": {},
     "output_type": "execute_result"
    }
   ],
   "source": [
    "df.dtypes"
   ]
  },
  {
   "cell_type": "code",
   "execution_count": 5,
   "id": "644e9b64",
   "metadata": {
    "execution": {
     "iopub.execute_input": "2025-03-01T13:53:13.296284Z",
     "iopub.status.busy": "2025-03-01T13:53:13.295954Z",
     "iopub.status.idle": "2025-03-01T13:53:13.373152Z",
     "shell.execute_reply": "2025-03-01T13:53:13.372203Z"
    },
    "papermill": {
     "duration": 0.085552,
     "end_time": "2025-03-01T13:53:13.374509",
     "exception": false,
     "start_time": "2025-03-01T13:53:13.288957",
     "status": "completed"
    },
    "tags": []
   },
   "outputs": [
    {
     "data": {
      "text/html": [
       "<div>\n",
       "<style scoped>\n",
       "    .dataframe tbody tr th:only-of-type {\n",
       "        vertical-align: middle;\n",
       "    }\n",
       "\n",
       "    .dataframe tbody tr th {\n",
       "        vertical-align: top;\n",
       "    }\n",
       "\n",
       "    .dataframe thead th {\n",
       "        text-align: right;\n",
       "    }\n",
       "</style>\n",
       "<table border=\"1\" class=\"dataframe\">\n",
       "  <thead>\n",
       "    <tr style=\"text-align: right;\">\n",
       "      <th></th>\n",
       "      <th>LO DATE</th>\n",
       "      <th>UN DATE</th>\n",
       "      <th>PARTY</th>\n",
       "      <th>VECHILE NO</th>\n",
       "      <th>GC</th>\n",
       "      <th>L.W</th>\n",
       "      <th>FRIGHT</th>\n",
       "      <th>TOTAL</th>\n",
       "    </tr>\n",
       "  </thead>\n",
       "  <tbody>\n",
       "    <tr>\n",
       "      <th>0</th>\n",
       "      <td>2022-11-15 00:00:00</td>\n",
       "      <td>2022-11-17 00:00:00</td>\n",
       "      <td>JEEVAKA NETTING</td>\n",
       "      <td>TS07UF4929</td>\n",
       "      <td>132</td>\n",
       "      <td>51.75</td>\n",
       "      <td>NaN</td>\n",
       "      <td>NaN</td>\n",
       "    </tr>\n",
       "    <tr>\n",
       "      <th>1</th>\n",
       "      <td>2022-11-11 00:00:00</td>\n",
       "      <td>2022-11-15 00:00:00</td>\n",
       "      <td>JEEVAKA NETTING</td>\n",
       "      <td>TS06UA4712</td>\n",
       "      <td>03</td>\n",
       "      <td>48.99</td>\n",
       "      <td>NaN</td>\n",
       "      <td>NaN</td>\n",
       "    </tr>\n",
       "    <tr>\n",
       "      <th>2</th>\n",
       "      <td>2022-11-12 00:00:00</td>\n",
       "      <td>2022-11-15 00:00:00</td>\n",
       "      <td>JEEVAKA NETTING</td>\n",
       "      <td>TS07UA9099</td>\n",
       "      <td>12</td>\n",
       "      <td>46.94</td>\n",
       "      <td>NaN</td>\n",
       "      <td>NaN</td>\n",
       "    </tr>\n",
       "    <tr>\n",
       "      <th>3</th>\n",
       "      <td>2022-11-12 00:00:00</td>\n",
       "      <td>2022-11-13 00:00:00</td>\n",
       "      <td>JEEVAKA NETTING</td>\n",
       "      <td>TS06UC7272</td>\n",
       "      <td>13</td>\n",
       "      <td>55.31</td>\n",
       "      <td>NaN</td>\n",
       "      <td>NaN</td>\n",
       "    </tr>\n",
       "    <tr>\n",
       "      <th>4</th>\n",
       "      <td>2022-11-14 00:00:00</td>\n",
       "      <td>2022-11-16 00:00:00</td>\n",
       "      <td>SUSHMA</td>\n",
       "      <td>TS07UA3339</td>\n",
       "      <td>36</td>\n",
       "      <td>48.57</td>\n",
       "      <td>NaN</td>\n",
       "      <td>NaN</td>\n",
       "    </tr>\n",
       "  </tbody>\n",
       "</table>\n",
       "</div>"
      ],
      "text/plain": [
       "               LO DATE              UN DATE            PARTY  VECHILE NO   GC  \\\n",
       "0  2022-11-15 00:00:00  2022-11-17 00:00:00  JEEVAKA NETTING  TS07UF4929  132   \n",
       "1  2022-11-11 00:00:00  2022-11-15 00:00:00  JEEVAKA NETTING  TS06UA4712   03   \n",
       "2  2022-11-12 00:00:00  2022-11-15 00:00:00  JEEVAKA NETTING  TS07UA9099   12   \n",
       "3  2022-11-12 00:00:00  2022-11-13 00:00:00  JEEVAKA NETTING  TS06UC7272   13   \n",
       "4  2022-11-14 00:00:00  2022-11-16 00:00:00          SUSHMA   TS07UA3339   36   \n",
       "\n",
       "     L.W FRIGHT TOTAL  \n",
       "0  51.75    NaN   NaN  \n",
       "1  48.99    NaN   NaN  \n",
       "2  46.94    NaN   NaN  \n",
       "3  55.31    NaN   NaN  \n",
       "4  48.57    NaN   NaN  "
      ]
     },
     "execution_count": 5,
     "metadata": {},
     "output_type": "execute_result"
    }
   ],
   "source": [
    "df.head()"
   ]
  },
  {
   "cell_type": "code",
   "execution_count": 6,
   "id": "457141b3",
   "metadata": {
    "execution": {
     "iopub.execute_input": "2025-03-01T13:53:13.388420Z",
     "iopub.status.busy": "2025-03-01T13:53:13.388107Z",
     "iopub.status.idle": "2025-03-01T13:53:13.941881Z",
     "shell.execute_reply": "2025-03-01T13:53:13.940563Z"
    },
    "papermill": {
     "duration": 0.562111,
     "end_time": "2025-03-01T13:53:13.943352",
     "exception": false,
     "start_time": "2025-03-01T13:53:13.381241",
     "status": "completed"
    },
    "tags": []
   },
   "outputs": [
    {
     "name": "stdout",
     "output_type": "stream",
     "text": [
      "               LO DATE              UN DATE            PARTY  VECHILE NO   GC  \\\n",
      "0  2022-11-15 00:00:00  2022-11-17 00:00:00  JEEVAKA NETTING  TS07UF4929  132   \n",
      "1  2022-11-11 00:00:00  2022-11-15 00:00:00  JEEVAKA NETTING  TS06UA4712   03   \n",
      "2  2022-11-12 00:00:00  2022-11-15 00:00:00  JEEVAKA NETTING  TS07UA9099   12   \n",
      "3  2022-11-12 00:00:00  2022-11-13 00:00:00  JEEVAKA NETTING  TS06UC7272   13   \n",
      "4  2022-11-14 00:00:00  2022-11-16 00:00:00          SUSHMA   TS07UA3339   36   \n",
      "\n",
      "     L.W FRIGHT TOTAL  \n",
      "0  51.75    NaN   NaN  \n",
      "1  48.99    NaN   NaN  \n",
      "2  46.94    NaN   NaN  \n",
      "3  55.31    NaN   NaN  \n",
      "4  48.57    NaN   NaN  \n"
     ]
    }
   ],
   "source": [
    "# Filter out rows containing header-like text \n",
    "df = df[~df.apply(lambda row: row.astype(str).str.contains('HEADER|LO DATE|UN DATE|PARTY|VECHILE NO|GC|L.W|FRIGHT|TOTAL', na=False).any(), axis=1)]\n",
    "\n",
    "# Reset the index of the cleaned dataframe\n",
    "df.reset_index(drop=True, inplace=True)\n",
    "\n",
    "# Display the cleaned dataframe\n",
    "print(df.head())"
   ]
  },
  {
   "cell_type": "code",
   "execution_count": 7,
   "id": "a5fb0f2d",
   "metadata": {
    "execution": {
     "iopub.execute_input": "2025-03-01T13:53:13.957772Z",
     "iopub.status.busy": "2025-03-01T13:53:13.957388Z",
     "iopub.status.idle": "2025-03-01T13:53:13.965596Z",
     "shell.execute_reply": "2025-03-01T13:53:13.964790Z"
    },
    "papermill": {
     "duration": 0.016447,
     "end_time": "2025-03-01T13:53:13.966681",
     "exception": false,
     "start_time": "2025-03-01T13:53:13.950234",
     "status": "completed"
    },
    "tags": []
   },
   "outputs": [],
   "source": [
    "  # This will drop rows that are completely (NaN in all columns)\n",
    "df = df.dropna(how='all')\n"
   ]
  },
  {
   "cell_type": "code",
   "execution_count": 8,
   "id": "7fa1abbf",
   "metadata": {
    "execution": {
     "iopub.execute_input": "2025-03-01T13:53:13.981296Z",
     "iopub.status.busy": "2025-03-01T13:53:13.980885Z",
     "iopub.status.idle": "2025-03-01T13:53:14.004631Z",
     "shell.execute_reply": "2025-03-01T13:53:14.003626Z"
    },
    "papermill": {
     "duration": 0.032375,
     "end_time": "2025-03-01T13:53:14.005964",
     "exception": false,
     "start_time": "2025-03-01T13:53:13.973589",
     "status": "completed"
    },
    "tags": []
   },
   "outputs": [],
   "source": [
    "df[['LO DATE', 'UN DATE']] = df[['LO DATE', 'UN DATE']].apply(pd.to_datetime, errors='coerce', format=\"%Y-%m-%d\")\n",
    "df[['PARTY', 'VECHILE NO']] = df[['PARTY', 'VECHILE NO']].astype(str)\n",
    "\n"
   ]
  },
  {
   "cell_type": "code",
   "execution_count": 9,
   "id": "19195f94",
   "metadata": {
    "execution": {
     "iopub.execute_input": "2025-03-01T13:53:14.020216Z",
     "iopub.status.busy": "2025-03-01T13:53:14.019828Z",
     "iopub.status.idle": "2025-03-01T13:53:14.032922Z",
     "shell.execute_reply": "2025-03-01T13:53:14.031901Z"
    },
    "papermill": {
     "duration": 0.021534,
     "end_time": "2025-03-01T13:53:14.034326",
     "exception": false,
     "start_time": "2025-03-01T13:53:14.012792",
     "status": "completed"
    },
    "tags": []
   },
   "outputs": [],
   "source": [
    "df[['GC', 'FRIGHT']] = df[['GC', 'FRIGHT']].apply(pd.to_numeric, errors='coerce')\n",
    "df[['GC', 'FRIGHT']] = df[['GC', 'FRIGHT']].astype('Int64')  # Optional: Convert to nullable Int64\n",
    "\n"
   ]
  },
  {
   "cell_type": "code",
   "execution_count": 10,
   "id": "446c56f9",
   "metadata": {
    "execution": {
     "iopub.execute_input": "2025-03-01T13:53:14.048252Z",
     "iopub.status.busy": "2025-03-01T13:53:14.047863Z",
     "iopub.status.idle": "2025-03-01T13:53:14.054237Z",
     "shell.execute_reply": "2025-03-01T13:53:14.053282Z"
    },
    "papermill": {
     "duration": 0.01454,
     "end_time": "2025-03-01T13:53:14.055506",
     "exception": false,
     "start_time": "2025-03-01T13:53:14.040966",
     "status": "completed"
    },
    "tags": []
   },
   "outputs": [
    {
     "data": {
      "text/plain": [
       "LO DATE       datetime64[ns]\n",
       "UN DATE       datetime64[ns]\n",
       "PARTY                 object\n",
       "VECHILE NO            object\n",
       "GC                     Int64\n",
       "L.W                   object\n",
       "FRIGHT                 Int64\n",
       "TOTAL                 object\n",
       "dtype: object"
      ]
     },
     "execution_count": 10,
     "metadata": {},
     "output_type": "execute_result"
    }
   ],
   "source": [
    "df.dtypes"
   ]
  },
  {
   "cell_type": "code",
   "execution_count": 11,
   "id": "f2b6693d",
   "metadata": {
    "execution": {
     "iopub.execute_input": "2025-03-01T13:53:14.068886Z",
     "iopub.status.busy": "2025-03-01T13:53:14.068553Z",
     "iopub.status.idle": "2025-03-01T13:53:14.078799Z",
     "shell.execute_reply": "2025-03-01T13:53:14.077674Z"
    },
    "papermill": {
     "duration": 0.018445,
     "end_time": "2025-03-01T13:53:14.080149",
     "exception": false,
     "start_time": "2025-03-01T13:53:14.061704",
     "status": "completed"
    },
    "tags": []
   },
   "outputs": [
    {
     "name": "stdout",
     "output_type": "stream",
     "text": [
      "        LO DATE    UN DATE                    PARTY            VECHILE NO  \\\n",
      "0    2022-11-15 2022-11-17          JEEVAKA NETTING            TS07UF4929   \n",
      "1    2022-11-11 2022-11-15          JEEVAKA NETTING            TS06UA4712   \n",
      "2    2022-11-12 2022-11-15          JEEVAKA NETTING            TS07UA9099   \n",
      "3    2022-11-12 2022-11-13          JEEVAKA NETTING            TS06UC7272   \n",
      "4    2022-11-14 2022-11-16                  SUSHMA             TS07UA3339   \n",
      "5    2022-11-15 2022-11-16                 ILC IRON            TS07UC0804   \n",
      "9    2022-11-13 2022-11-13          JEEVAKA NETTING            TS06UC6989   \n",
      "10   2022-11-15 2022-11-15          JEEVAKA NETTING            TS13UC0189   \n",
      "148         NaT        NaT                      nan  MANJUNATHA TRANSPORT   \n",
      "978  2023-11-25 2023-12-01      KAMINI IRON & STEEL            TS07UC0918   \n",
      "979  2023-11-28 2023-12-01      KAMINI IRON & STEEL            TS06UC7272   \n",
      "980  2023-11-30 2023-12-02    BAB AKHILA SAI JYOTHI            TS07UA9099   \n",
      "981  2023-11-29 2023-12-03      KAMINI IRON & STEEL            TS07UF4895   \n",
      "1101 2023-01-04        NaT                    43.45                   225   \n",
      "1102 2023-01-04        NaT                    45.28                   225   \n",
      "1746        NaT 2024-08-20            APPLE SURAIDO            TS06UB4762   \n",
      "1979 2024-10-17 2024-10-18  M/S KAMINI IRON & STEEL            TS06UA9945   \n",
      "\n",
      "        GC    L.W  FRIGHT    TOTAL  \n",
      "0      132  51.75    <NA>      NaN  \n",
      "1        3  48.99    <NA>      NaN  \n",
      "2       12  46.94    <NA>      NaN  \n",
      "3       13  55.31    <NA>      NaN  \n",
      "4       36  48.57    <NA>      NaN  \n",
      "5      127  51.27    <NA>      NaN  \n",
      "9       23  60.34    <NA>      NaN  \n",
      "10      22  60.44    <NA>      NaN  \n",
      "148   <NA>    NaN    <NA>      NaN  \n",
      "978   2691  44.03     950      NaN  \n",
      "979   2735  49.38     950      NaN  \n",
      "980   2757  46.41     950      NaN  \n",
      "981   2749  46.12     950      NaN  \n",
      "1101  <NA>    NaN    <NA>  9776.25  \n",
      "1102  <NA>    NaN    <NA>    10188  \n",
      "1746  1200  45.24     900    40716  \n",
      "1979  1787           1000      NaN  \n"
     ]
    }
   ],
   "source": [
    "#This displays all the rows where at least one value is NaN\n",
    "nan_rows = df[df.isna().any(axis=1)]\n",
    "print(nan_rows)"
   ]
  },
  {
   "cell_type": "code",
   "execution_count": 12,
   "id": "b5dd45cc",
   "metadata": {
    "execution": {
     "iopub.execute_input": "2025-03-01T13:53:14.094923Z",
     "iopub.status.busy": "2025-03-01T13:53:14.094630Z",
     "iopub.status.idle": "2025-03-01T13:53:14.103146Z",
     "shell.execute_reply": "2025-03-01T13:53:14.102097Z"
    },
    "papermill": {
     "duration": 0.017248,
     "end_time": "2025-03-01T13:53:14.104580",
     "exception": false,
     "start_time": "2025-03-01T13:53:14.087332",
     "status": "completed"
    },
    "tags": []
   },
   "outputs": [
    {
     "name": "stdout",
     "output_type": "stream",
     "text": [
      "        LO DATE    UN DATE          PARTY            VECHILE NO    GC    L.W  \\\n",
      "148         NaT        NaT            nan  MANJUNATHA TRANSPORT  <NA>    NaN   \n",
      "1101 2023-01-04        NaT          43.45                   225  <NA>    NaN   \n",
      "1102 2023-01-04        NaT          45.28                   225  <NA>    NaN   \n",
      "1746        NaT 2024-08-20  APPLE SURAIDO            TS06UB4762  1200  45.24   \n",
      "\n",
      "      FRIGHT    TOTAL  \n",
      "148     <NA>      NaN  \n",
      "1101    <NA>  9776.25  \n",
      "1102    <NA>    10188  \n",
      "1746     900    40716  \n"
     ]
    }
   ],
   "source": [
    "nan_rows = df[df[['LO DATE', 'UN DATE']].isna().any(axis=1)]\n",
    "print(nan_rows)\n"
   ]
  },
  {
   "cell_type": "code",
   "execution_count": 13,
   "id": "eeec69a0",
   "metadata": {
    "execution": {
     "iopub.execute_input": "2025-03-01T13:53:14.118936Z",
     "iopub.status.busy": "2025-03-01T13:53:14.118630Z",
     "iopub.status.idle": "2025-03-01T13:53:14.122219Z",
     "shell.execute_reply": "2025-03-01T13:53:14.121218Z"
    },
    "papermill": {
     "duration": 0.012037,
     "end_time": "2025-03-01T13:53:14.123436",
     "exception": false,
     "start_time": "2025-03-01T13:53:14.111399",
     "status": "completed"
    },
    "tags": []
   },
   "outputs": [],
   "source": [
    "#df[['LO DATE', 'UN DATE']]=df[['LO DATE','UN DATE' ]].interpolate(method='linear')"
   ]
  },
  {
   "cell_type": "code",
   "execution_count": 14,
   "id": "17c872e1",
   "metadata": {
    "execution": {
     "iopub.execute_input": "2025-03-01T13:53:14.137532Z",
     "iopub.status.busy": "2025-03-01T13:53:14.137244Z",
     "iopub.status.idle": "2025-03-01T13:53:14.143538Z",
     "shell.execute_reply": "2025-03-01T13:53:14.142677Z"
    },
    "papermill": {
     "duration": 0.014758,
     "end_time": "2025-03-01T13:53:14.144791",
     "exception": false,
     "start_time": "2025-03-01T13:53:14.130033",
     "status": "completed"
    },
    "tags": []
   },
   "outputs": [],
   "source": [
    "\n",
    "nan_rows1 = df[df['L.W'].isna()]  # Select rows where 'L.W' is NaN\n",
    "df = df.drop(nan_rows1.index)  # Drop these rows using their index"
   ]
  },
  {
   "cell_type": "code",
   "execution_count": 15,
   "id": "05c9d73f",
   "metadata": {
    "execution": {
     "iopub.execute_input": "2025-03-01T13:53:14.159333Z",
     "iopub.status.busy": "2025-03-01T13:53:14.159003Z",
     "iopub.status.idle": "2025-03-01T13:53:14.163541Z",
     "shell.execute_reply": "2025-03-01T13:53:14.162593Z"
    },
    "papermill": {
     "duration": 0.013129,
     "end_time": "2025-03-01T13:53:14.164763",
     "exception": false,
     "start_time": "2025-03-01T13:53:14.151634",
     "status": "completed"
    },
    "tags": []
   },
   "outputs": [],
   "source": [
    "df['FRIGHT'] = df['FRIGHT'].fillna(900)\n"
   ]
  },
  {
   "cell_type": "code",
   "execution_count": 16,
   "id": "88a6bbe2",
   "metadata": {
    "execution": {
     "iopub.execute_input": "2025-03-01T13:53:14.179262Z",
     "iopub.status.busy": "2025-03-01T13:53:14.178918Z",
     "iopub.status.idle": "2025-03-01T13:53:14.186499Z",
     "shell.execute_reply": "2025-03-01T13:53:14.185400Z"
    },
    "papermill": {
     "duration": 0.016766,
     "end_time": "2025-03-01T13:53:14.188336",
     "exception": false,
     "start_time": "2025-03-01T13:53:14.171570",
     "status": "completed"
    },
    "tags": []
   },
   "outputs": [],
   "source": [
    "#THERE IS A WRONG ENTRY WHERE LODATE=2002 WHICH IS ACTUALLY 2024 WE CAME ACROSS THIS ERROR WHILE PLOTTING SNS COUNTPLOT BY YEAR SO IAM REPLACING THAT\n",
    "df['LO DATE'] = df['LO DATE'].apply(lambda x: x.replace(year=2024) if x.year == 2002 else x)\n"
   ]
  },
  {
   "cell_type": "code",
   "execution_count": 17,
   "id": "d29475bc",
   "metadata": {
    "execution": {
     "iopub.execute_input": "2025-03-01T13:53:14.209357Z",
     "iopub.status.busy": "2025-03-01T13:53:14.208963Z",
     "iopub.status.idle": "2025-03-01T13:53:14.215237Z",
     "shell.execute_reply": "2025-03-01T13:53:14.213920Z"
    },
    "papermill": {
     "duration": 0.021438,
     "end_time": "2025-03-01T13:53:14.218004",
     "exception": false,
     "start_time": "2025-03-01T13:53:14.196566",
     "status": "completed"
    },
    "tags": []
   },
   "outputs": [],
   "source": [
    "df['TOTAL'] = df['TOTAL'].fillna(df['FRIGHT'] * df['L.W'])\n"
   ]
  },
  {
   "cell_type": "code",
   "execution_count": 18,
   "id": "aa92e5ed",
   "metadata": {
    "execution": {
     "iopub.execute_input": "2025-03-01T13:53:14.236074Z",
     "iopub.status.busy": "2025-03-01T13:53:14.235774Z",
     "iopub.status.idle": "2025-03-01T13:53:14.241880Z",
     "shell.execute_reply": "2025-03-01T13:53:14.240950Z"
    },
    "papermill": {
     "duration": 0.016072,
     "end_time": "2025-03-01T13:53:14.243407",
     "exception": false,
     "start_time": "2025-03-01T13:53:14.227335",
     "status": "completed"
    },
    "tags": []
   },
   "outputs": [
    {
     "name": "stdout",
     "output_type": "stream",
     "text": [
      "LO DATE       1\n",
      "UN DATE       0\n",
      "PARTY         0\n",
      "VECHILE NO    0\n",
      "GC            0\n",
      "L.W           0\n",
      "FRIGHT        0\n",
      "TOTAL         0\n",
      "dtype: int64\n"
     ]
    }
   ],
   "source": [
    "nan_count = df.isna().sum()  # Counts NaNs in each column\n",
    "print(nan_count)"
   ]
  },
  {
   "cell_type": "code",
   "execution_count": 19,
   "id": "f850950e",
   "metadata": {
    "execution": {
     "iopub.execute_input": "2025-03-01T13:53:14.261589Z",
     "iopub.status.busy": "2025-03-01T13:53:14.261270Z",
     "iopub.status.idle": "2025-03-01T13:53:14.278514Z",
     "shell.execute_reply": "2025-03-01T13:53:14.277657Z"
    },
    "papermill": {
     "duration": 0.026818,
     "end_time": "2025-03-01T13:53:14.280334",
     "exception": false,
     "start_time": "2025-03-01T13:53:14.253516",
     "status": "completed"
    },
    "tags": []
   },
   "outputs": [
    {
     "name": "stdout",
     "output_type": "stream",
     "text": [
      "1\n",
      "     LO DATE    UN DATE          PARTY  VECHILE NO    GC    L.W  FRIGHT  TOTAL\n",
      "1746     NaT 2024-08-20  APPLE SURAIDO  TS06UB4762  1200  45.24     900  40716\n",
      "        LO DATE    UN DATE          PARTY  VECHILE NO    GC    L.W  FRIGHT  \\\n",
      "1746 2024-08-19 2024-08-20  APPLE SURAIDO  TS06UB4762  1200  45.24     900   \n",
      "\n",
      "      TOTAL  \n",
      "1746  40716  \n"
     ]
    }
   ],
   "source": [
    "print(df['LO DATE'].isna().sum())  # Count NaT values\n",
    "print(df[df['LO DATE'].isna()])\n",
    "df['LO DATE'] = df['LO DATE'].ffill()  \n",
    "print(df[df['GC'] == 1200])"
   ]
  },
  {
   "cell_type": "code",
   "execution_count": 20,
   "id": "684901b0",
   "metadata": {
    "execution": {
     "iopub.execute_input": "2025-03-01T13:53:14.295526Z",
     "iopub.status.busy": "2025-03-01T13:53:14.295237Z",
     "iopub.status.idle": "2025-03-01T13:53:14.310750Z",
     "shell.execute_reply": "2025-03-01T13:53:14.309478Z"
    },
    "papermill": {
     "duration": 0.024754,
     "end_time": "2025-03-01T13:53:14.312485",
     "exception": false,
     "start_time": "2025-03-01T13:53:14.287731",
     "status": "completed"
    },
    "tags": []
   },
   "outputs": [
    {
     "data": {
      "text/html": [
       "<div>\n",
       "<style scoped>\n",
       "    .dataframe tbody tr th:only-of-type {\n",
       "        vertical-align: middle;\n",
       "    }\n",
       "\n",
       "    .dataframe tbody tr th {\n",
       "        vertical-align: top;\n",
       "    }\n",
       "\n",
       "    .dataframe thead th {\n",
       "        text-align: right;\n",
       "    }\n",
       "</style>\n",
       "<table border=\"1\" class=\"dataframe\">\n",
       "  <thead>\n",
       "    <tr style=\"text-align: right;\">\n",
       "      <th></th>\n",
       "      <th>LO DATE</th>\n",
       "      <th>UN DATE</th>\n",
       "      <th>PARTY</th>\n",
       "      <th>VECHILE NO</th>\n",
       "      <th>GC</th>\n",
       "      <th>L.W</th>\n",
       "      <th>FRIGHT</th>\n",
       "      <th>TOTAL</th>\n",
       "    </tr>\n",
       "  </thead>\n",
       "  <tbody>\n",
       "    <tr>\n",
       "      <th>0</th>\n",
       "      <td>2022-11-15</td>\n",
       "      <td>2022-11-17</td>\n",
       "      <td>JEEVAKA NETTING</td>\n",
       "      <td>TS07UF4929</td>\n",
       "      <td>132</td>\n",
       "      <td>51.75</td>\n",
       "      <td>900</td>\n",
       "      <td>46575.0</td>\n",
       "    </tr>\n",
       "    <tr>\n",
       "      <th>1</th>\n",
       "      <td>2022-11-11</td>\n",
       "      <td>2022-11-15</td>\n",
       "      <td>JEEVAKA NETTING</td>\n",
       "      <td>TS06UA4712</td>\n",
       "      <td>3</td>\n",
       "      <td>48.99</td>\n",
       "      <td>900</td>\n",
       "      <td>44091.0</td>\n",
       "    </tr>\n",
       "    <tr>\n",
       "      <th>2</th>\n",
       "      <td>2022-11-12</td>\n",
       "      <td>2022-11-15</td>\n",
       "      <td>JEEVAKA NETTING</td>\n",
       "      <td>TS07UA9099</td>\n",
       "      <td>12</td>\n",
       "      <td>46.94</td>\n",
       "      <td>900</td>\n",
       "      <td>42246.0</td>\n",
       "    </tr>\n",
       "    <tr>\n",
       "      <th>3</th>\n",
       "      <td>2022-11-12</td>\n",
       "      <td>2022-11-13</td>\n",
       "      <td>JEEVAKA NETTING</td>\n",
       "      <td>TS06UC7272</td>\n",
       "      <td>13</td>\n",
       "      <td>55.31</td>\n",
       "      <td>900</td>\n",
       "      <td>49779.0</td>\n",
       "    </tr>\n",
       "    <tr>\n",
       "      <th>4</th>\n",
       "      <td>2022-11-14</td>\n",
       "      <td>2022-11-16</td>\n",
       "      <td>SUSHMA</td>\n",
       "      <td>TS07UA3339</td>\n",
       "      <td>36</td>\n",
       "      <td>48.57</td>\n",
       "      <td>900</td>\n",
       "      <td>43713.0</td>\n",
       "    </tr>\n",
       "    <tr>\n",
       "      <th>5</th>\n",
       "      <td>2022-11-15</td>\n",
       "      <td>2022-11-16</td>\n",
       "      <td>ILC IRON</td>\n",
       "      <td>TS07UC0804</td>\n",
       "      <td>127</td>\n",
       "      <td>51.27</td>\n",
       "      <td>900</td>\n",
       "      <td>46143.0</td>\n",
       "    </tr>\n",
       "    <tr>\n",
       "      <th>9</th>\n",
       "      <td>2022-11-13</td>\n",
       "      <td>2022-11-13</td>\n",
       "      <td>JEEVAKA NETTING</td>\n",
       "      <td>TS06UC6989</td>\n",
       "      <td>23</td>\n",
       "      <td>60.34</td>\n",
       "      <td>900</td>\n",
       "      <td>54306.0</td>\n",
       "    </tr>\n",
       "    <tr>\n",
       "      <th>10</th>\n",
       "      <td>2022-11-15</td>\n",
       "      <td>2022-11-15</td>\n",
       "      <td>JEEVAKA NETTING</td>\n",
       "      <td>TS13UC0189</td>\n",
       "      <td>22</td>\n",
       "      <td>60.44</td>\n",
       "      <td>900</td>\n",
       "      <td>54396.0</td>\n",
       "    </tr>\n",
       "    <tr>\n",
       "      <th>14</th>\n",
       "      <td>2022-11-16</td>\n",
       "      <td>2022-11-18</td>\n",
       "      <td>APPLE SURAIDO</td>\n",
       "      <td>TS07UC0803</td>\n",
       "      <td>140</td>\n",
       "      <td>45.38</td>\n",
       "      <td>900</td>\n",
       "      <td>40842</td>\n",
       "    </tr>\n",
       "    <tr>\n",
       "      <th>15</th>\n",
       "      <td>2022-11-18</td>\n",
       "      <td>2022-11-19</td>\n",
       "      <td>KAMINI IRON</td>\n",
       "      <td>TS08UD2789</td>\n",
       "      <td>197</td>\n",
       "      <td>52.44</td>\n",
       "      <td>900</td>\n",
       "      <td>47196</td>\n",
       "    </tr>\n",
       "    <tr>\n",
       "      <th>16</th>\n",
       "      <td>2022-11-17</td>\n",
       "      <td>2022-11-18</td>\n",
       "      <td>JEEVAKA NETTING</td>\n",
       "      <td>TS07UF3789</td>\n",
       "      <td>178</td>\n",
       "      <td>47.71</td>\n",
       "      <td>900</td>\n",
       "      <td>42939</td>\n",
       "    </tr>\n",
       "    <tr>\n",
       "      <th>17</th>\n",
       "      <td>2022-11-17</td>\n",
       "      <td>2022-11-19</td>\n",
       "      <td>JEEVAKA NETTING</td>\n",
       "      <td>TS06UB1529</td>\n",
       "      <td>172</td>\n",
       "      <td>49.06</td>\n",
       "      <td>900</td>\n",
       "      <td>44154</td>\n",
       "    </tr>\n",
       "    <tr>\n",
       "      <th>18</th>\n",
       "      <td>2022-11-18</td>\n",
       "      <td>2022-11-19</td>\n",
       "      <td>KAMINI IRON</td>\n",
       "      <td>TS31T1988</td>\n",
       "      <td>210</td>\n",
       "      <td>45.8</td>\n",
       "      <td>900</td>\n",
       "      <td>41220</td>\n",
       "    </tr>\n",
       "    <tr>\n",
       "      <th>19</th>\n",
       "      <td>2022-11-17</td>\n",
       "      <td>2022-11-18</td>\n",
       "      <td>JEEVAKA NETTING</td>\n",
       "      <td>TS07UH2624</td>\n",
       "      <td>208</td>\n",
       "      <td>55.83</td>\n",
       "      <td>900</td>\n",
       "      <td>50247</td>\n",
       "    </tr>\n",
       "    <tr>\n",
       "      <th>20</th>\n",
       "      <td>2022-11-18</td>\n",
       "      <td>2022-11-19</td>\n",
       "      <td>APPLE SURAIDO</td>\n",
       "      <td>TS07UH4527</td>\n",
       "      <td>190</td>\n",
       "      <td>46.08</td>\n",
       "      <td>900</td>\n",
       "      <td>41472</td>\n",
       "    </tr>\n",
       "    <tr>\n",
       "      <th>21</th>\n",
       "      <td>2022-11-18</td>\n",
       "      <td>2022-11-19</td>\n",
       "      <td>JEEVAKA NETTING</td>\n",
       "      <td>TS07UF5679</td>\n",
       "      <td>222</td>\n",
       "      <td>50.79</td>\n",
       "      <td>900</td>\n",
       "      <td>45711</td>\n",
       "    </tr>\n",
       "    <tr>\n",
       "      <th>25</th>\n",
       "      <td>2022-11-21</td>\n",
       "      <td>2022-11-22</td>\n",
       "      <td>SHREE MAHAVIR</td>\n",
       "      <td>TS06UA4712</td>\n",
       "      <td>264</td>\n",
       "      <td>46.08</td>\n",
       "      <td>900</td>\n",
       "      <td>41472</td>\n",
       "    </tr>\n",
       "    <tr>\n",
       "      <th>26</th>\n",
       "      <td>2022-11-20</td>\n",
       "      <td>2022-11-21</td>\n",
       "      <td>SHREE MAHAVIR</td>\n",
       "      <td>TS06UB1158</td>\n",
       "      <td>250</td>\n",
       "      <td>46.82</td>\n",
       "      <td>900</td>\n",
       "      <td>42138</td>\n",
       "    </tr>\n",
       "    <tr>\n",
       "      <th>27</th>\n",
       "      <td>2022-11-19</td>\n",
       "      <td>2022-11-20</td>\n",
       "      <td>JEEVAKA NETTING</td>\n",
       "      <td>TS07UC7799</td>\n",
       "      <td>242</td>\n",
       "      <td>54.65</td>\n",
       "      <td>900</td>\n",
       "      <td>49185</td>\n",
       "    </tr>\n",
       "    <tr>\n",
       "      <th>28</th>\n",
       "      <td>2022-11-19</td>\n",
       "      <td>2022-11-21</td>\n",
       "      <td>JEEVAKA NETTING</td>\n",
       "      <td>AP35X7665</td>\n",
       "      <td>243</td>\n",
       "      <td>42.02</td>\n",
       "      <td>900</td>\n",
       "      <td>37818</td>\n",
       "    </tr>\n",
       "    <tr>\n",
       "      <th>29</th>\n",
       "      <td>2022-11-21</td>\n",
       "      <td>2022-11-22</td>\n",
       "      <td>APPLE SURAIDO</td>\n",
       "      <td>AP28TD0788</td>\n",
       "      <td>256</td>\n",
       "      <td>44.26</td>\n",
       "      <td>900</td>\n",
       "      <td>39834</td>\n",
       "    </tr>\n",
       "    <tr>\n",
       "      <th>30</th>\n",
       "      <td>2022-11-21</td>\n",
       "      <td>2022-11-22</td>\n",
       "      <td>KAMINI IRON</td>\n",
       "      <td>TS07UA9099</td>\n",
       "      <td>265</td>\n",
       "      <td>45.5</td>\n",
       "      <td>900</td>\n",
       "      <td>40950</td>\n",
       "    </tr>\n",
       "    <tr>\n",
       "      <th>34</th>\n",
       "      <td>2022-11-22</td>\n",
       "      <td>2022-11-23</td>\n",
       "      <td>APPLE SURAIDO</td>\n",
       "      <td>TS07UC0804</td>\n",
       "      <td>278</td>\n",
       "      <td>44.96</td>\n",
       "      <td>900</td>\n",
       "      <td>40464</td>\n",
       "    </tr>\n",
       "    <tr>\n",
       "      <th>35</th>\n",
       "      <td>2022-11-22</td>\n",
       "      <td>2022-11-23</td>\n",
       "      <td>SHREE MAHAVIR</td>\n",
       "      <td>TS06UA9279</td>\n",
       "      <td>287</td>\n",
       "      <td>43.89</td>\n",
       "      <td>900</td>\n",
       "      <td>39501</td>\n",
       "    </tr>\n",
       "    <tr>\n",
       "      <th>36</th>\n",
       "      <td>2022-11-23</td>\n",
       "      <td>2022-11-24</td>\n",
       "      <td>APPLE SURAIDO</td>\n",
       "      <td>TS31T1988</td>\n",
       "      <td>290</td>\n",
       "      <td>45.32</td>\n",
       "      <td>900</td>\n",
       "      <td>40788</td>\n",
       "    </tr>\n",
       "  </tbody>\n",
       "</table>\n",
       "</div>"
      ],
      "text/plain": [
       "      LO DATE    UN DATE            PARTY  VECHILE NO   GC    L.W  FRIGHT  \\\n",
       "0  2022-11-15 2022-11-17  JEEVAKA NETTING  TS07UF4929  132  51.75     900   \n",
       "1  2022-11-11 2022-11-15  JEEVAKA NETTING  TS06UA4712    3  48.99     900   \n",
       "2  2022-11-12 2022-11-15  JEEVAKA NETTING  TS07UA9099   12  46.94     900   \n",
       "3  2022-11-12 2022-11-13  JEEVAKA NETTING  TS06UC7272   13  55.31     900   \n",
       "4  2022-11-14 2022-11-16          SUSHMA   TS07UA3339   36  48.57     900   \n",
       "5  2022-11-15 2022-11-16         ILC IRON  TS07UC0804  127  51.27     900   \n",
       "9  2022-11-13 2022-11-13  JEEVAKA NETTING  TS06UC6989   23  60.34     900   \n",
       "10 2022-11-15 2022-11-15  JEEVAKA NETTING  TS13UC0189   22  60.44     900   \n",
       "14 2022-11-16 2022-11-18    APPLE SURAIDO  TS07UC0803  140  45.38     900   \n",
       "15 2022-11-18 2022-11-19      KAMINI IRON  TS08UD2789  197  52.44     900   \n",
       "16 2022-11-17 2022-11-18  JEEVAKA NETTING  TS07UF3789  178  47.71     900   \n",
       "17 2022-11-17 2022-11-19  JEEVAKA NETTING  TS06UB1529  172  49.06     900   \n",
       "18 2022-11-18 2022-11-19      KAMINI IRON   TS31T1988  210   45.8     900   \n",
       "19 2022-11-17 2022-11-18  JEEVAKA NETTING  TS07UH2624  208  55.83     900   \n",
       "20 2022-11-18 2022-11-19    APPLE SURAIDO  TS07UH4527  190  46.08     900   \n",
       "21 2022-11-18 2022-11-19  JEEVAKA NETTING  TS07UF5679  222  50.79     900   \n",
       "25 2022-11-21 2022-11-22    SHREE MAHAVIR  TS06UA4712  264  46.08     900   \n",
       "26 2022-11-20 2022-11-21    SHREE MAHAVIR  TS06UB1158  250  46.82     900   \n",
       "27 2022-11-19 2022-11-20  JEEVAKA NETTING  TS07UC7799  242  54.65     900   \n",
       "28 2022-11-19 2022-11-21  JEEVAKA NETTING   AP35X7665  243  42.02     900   \n",
       "29 2022-11-21 2022-11-22    APPLE SURAIDO  AP28TD0788  256  44.26     900   \n",
       "30 2022-11-21 2022-11-22      KAMINI IRON  TS07UA9099  265   45.5     900   \n",
       "34 2022-11-22 2022-11-23    APPLE SURAIDO  TS07UC0804  278  44.96     900   \n",
       "35 2022-11-22 2022-11-23    SHREE MAHAVIR  TS06UA9279  287  43.89     900   \n",
       "36 2022-11-23 2022-11-24    APPLE SURAIDO   TS31T1988  290  45.32     900   \n",
       "\n",
       "      TOTAL  \n",
       "0   46575.0  \n",
       "1   44091.0  \n",
       "2   42246.0  \n",
       "3   49779.0  \n",
       "4   43713.0  \n",
       "5   46143.0  \n",
       "9   54306.0  \n",
       "10  54396.0  \n",
       "14    40842  \n",
       "15    47196  \n",
       "16    42939  \n",
       "17    44154  \n",
       "18    41220  \n",
       "19    50247  \n",
       "20    41472  \n",
       "21    45711  \n",
       "25    41472  \n",
       "26    42138  \n",
       "27    49185  \n",
       "28    37818  \n",
       "29    39834  \n",
       "30    40950  \n",
       "34    40464  \n",
       "35    39501  \n",
       "36    40788  "
      ]
     },
     "execution_count": 20,
     "metadata": {},
     "output_type": "execute_result"
    }
   ],
   "source": [
    "df.head(25)"
   ]
  },
  {
   "cell_type": "code",
   "execution_count": 21,
   "id": "91a25fb6",
   "metadata": {
    "execution": {
     "iopub.execute_input": "2025-03-01T13:53:14.330468Z",
     "iopub.status.busy": "2025-03-01T13:53:14.330117Z",
     "iopub.status.idle": "2025-03-01T13:53:14.344259Z",
     "shell.execute_reply": "2025-03-01T13:53:14.342962Z"
    },
    "papermill": {
     "duration": 0.023957,
     "end_time": "2025-03-01T13:53:14.345906",
     "exception": false,
     "start_time": "2025-03-01T13:53:14.321949",
     "status": "completed"
    },
    "tags": []
   },
   "outputs": [
    {
     "name": "stdout",
     "output_type": "stream",
     "text": [
      "PARTY\n",
      "APPLE SURAIDO                  148\n",
      "KAMINI IRON & STEEL            108\n",
      "JEEVAKA NETTING                 87\n",
      "ILC IRON & STEEL                60\n",
      "AARAL MARKETING                 48\n",
      "M/S KAMINI IRON & STEEL         47\n",
      "M/S AARAL MARKETING             45\n",
      "M/S JEEVAKA NETTING             44\n",
      "BABA AKHILA SAI JYOTHI          40\n",
      "M/S APPLE SURAIDO FITTING       35\n",
      "M/S I.L.C IRON & STEEL          33\n",
      "M/S APPLE SURAIDO FITTINGS      32\n",
      "M/S APPLE SURAIDO               30\n",
      "KAMINI IRON                     28\n",
      "M/S KOTHARI ISPAT               26\n",
      "M/S SWASTIK STEELS              25\n",
      "KANIKA ISPAT                    24\n",
      "VANYA STEELS                    23\n",
      "M/S RAJENDER METALLIC           22\n",
      "A.S IRON & STEEL                20\n",
      "RAJENDER METALLICS              18\n",
      "SD CORP                         18\n",
      "M/S AKASH STEELS                17\n",
      "M/S KAMINI IRON & STEELS        16\n",
      "KAMINI IRON AND STEEL           15\n",
      "M/S VANYA STEELS                14\n",
      "TN COMMERCIAL                   14\n",
      "M/S KAMINI IRON                 13\n",
      "M/S SRI KRISHNA STEELS          13\n",
      "SHREE MAHAVIR                   13\n",
      "M/S SUSHMA SALES                13\n",
      "M/S ARCHANA IRON TRADERS        12\n",
      "M/S S.D CORP                    12\n",
      "M/S KANIKA ISPAT                12\n",
      "ARCHANA IRON                    11\n",
      "M/S SATVIK GLOBAL               11\n",
      "M/S ANUPAM FUELS                11\n",
      "M/S BABA AKHILA JYOTHI          10\n",
      "SATVIK GLOBAL                   10\n",
      "KAMINI IRON &STEEL              10\n",
      "RAM SHYAM ENTERPRISES           10\n",
      "M/S SHREE MAHAVIR STEELS        10\n",
      "M/S ILC IRON & STEEL             9\n",
      "BHADRASHREE STEEL                9\n",
      "T N COMMERCIALS                  9\n",
      "SRI KRISHNA STEELS               8\n",
      "M/S T.N COMMERCIAL               8\n",
      "M/S VANYA STEELS                 8\n",
      "SHREE MAHAVIR STEELS             8\n",
      "I.L.C IRON & STEEL               8\n",
      "KARNATAKA FERRO                  8\n",
      "T N COMMERCIAL                   7\n",
      "VANYA STEEL                      7\n",
      "M/S SHARMA STEELS                7\n",
      "RAJENDRA METALLICS               6\n",
      "S.D CORPORATION                  6\n",
      "SHREE MAHAVIR STEEL              6\n",
      "M/S APPLE SURAIDO FIITTINGS      6\n",
      "A S IRON & STEEL                 6\n",
      "M/S RAJENDER METTALIC            6\n",
      "Name: count, dtype: int64\n"
     ]
    }
   ],
   "source": [
    "counts = df['PARTY'].value_counts()\n",
    "print((counts.head(60)))\n"
   ]
  },
  {
   "cell_type": "code",
   "execution_count": 22,
   "id": "6049fc5b",
   "metadata": {
    "execution": {
     "iopub.execute_input": "2025-03-01T13:53:14.366625Z",
     "iopub.status.busy": "2025-03-01T13:53:14.366208Z",
     "iopub.status.idle": "2025-03-01T13:53:14.372721Z",
     "shell.execute_reply": "2025-03-01T13:53:14.371578Z"
    },
    "papermill": {
     "duration": 0.017299,
     "end_time": "2025-03-01T13:53:14.374199",
     "exception": false,
     "start_time": "2025-03-01T13:53:14.356900",
     "status": "completed"
    },
    "tags": []
   },
   "outputs": [
    {
     "data": {
      "text/plain": [
       "180"
      ]
     },
     "execution_count": 22,
     "metadata": {},
     "output_type": "execute_result"
    }
   ],
   "source": [
    "len(counts)"
   ]
  },
  {
   "cell_type": "code",
   "execution_count": 23,
   "id": "513e0b3c",
   "metadata": {
    "execution": {
     "iopub.execute_input": "2025-03-01T13:53:14.393172Z",
     "iopub.status.busy": "2025-03-01T13:53:14.392787Z",
     "iopub.status.idle": "2025-03-01T13:53:14.398015Z",
     "shell.execute_reply": "2025-03-01T13:53:14.396885Z"
    },
    "papermill": {
     "duration": 0.015395,
     "end_time": "2025-03-01T13:53:14.399856",
     "exception": false,
     "start_time": "2025-03-01T13:53:14.384461",
     "status": "completed"
    },
    "tags": []
   },
   "outputs": [
    {
     "data": {
      "text/plain": [
       "\"\\ndf['PARTY'] = df['PARTY'].apply(lambda x: 'M/S KAMINI IRON & STEEL' if 'KAMINI' in x else x)\\ndf['PARTY'] = df['PARTY'].apply(lambda x: 'M/S APPLE SURAIDO FITTINGS' if 'APPLE' in x else x)\\ndf['PARTY'] = df['PARTY'].apply(lambda x: 'M/S JEEVAKA NETTING ' if 'JEEVAKA' in x else x)\\ndf['PARTY'] = df['PARTY'].apply(lambda x: 'M/S ILC IRON & STEEL ' if 'ILC' in x else x)\\ndf['PARTY'] = df['PARTY'].apply(lambda x: 'M/S ILC IRON & STEEL ' if 'I.L.C' in x else x)\\ndf['PARTY'] = df['PARTY'].apply(lambda x: 'M/S AARAL MARKETING ' if 'AARAL' in x else x)\\ndf['PARTY'] = df['PARTY'].apply(lambda x: 'M/S ARCHANA IRON TRADERS' if 'ARCHANA' in x else x) \\n\""
      ]
     },
     "execution_count": 23,
     "metadata": {},
     "output_type": "execute_result"
    }
   ],
   "source": [
    "\"\"\"\n",
    "df['PARTY'] = df['PARTY'].apply(lambda x: 'M/S KAMINI IRON & STEEL' if 'KAMINI' in x else x)\n",
    "df['PARTY'] = df['PARTY'].apply(lambda x: 'M/S APPLE SURAIDO FITTINGS' if 'APPLE' in x else x)\n",
    "df['PARTY'] = df['PARTY'].apply(lambda x: 'M/S JEEVAKA NETTING ' if 'JEEVAKA' in x else x)\n",
    "df['PARTY'] = df['PARTY'].apply(lambda x: 'M/S ILC IRON & STEEL ' if 'ILC' in x else x)\n",
    "df['PARTY'] = df['PARTY'].apply(lambda x: 'M/S ILC IRON & STEEL ' if 'I.L.C' in x else x)\n",
    "df['PARTY'] = df['PARTY'].apply(lambda x: 'M/S AARAL MARKETING ' if 'AARAL' in x else x)\n",
    "df['PARTY'] = df['PARTY'].apply(lambda x: 'M/S ARCHANA IRON TRADERS' if 'ARCHANA' in x else x) \n",
    "\"\"\"\n"
   ]
  },
  {
   "cell_type": "code",
   "execution_count": 24,
   "id": "046c84d9",
   "metadata": {
    "execution": {
     "iopub.execute_input": "2025-03-01T13:53:14.415654Z",
     "iopub.status.busy": "2025-03-01T13:53:14.415303Z",
     "iopub.status.idle": "2025-03-01T13:53:14.420938Z",
     "shell.execute_reply": "2025-03-01T13:53:14.420159Z"
    },
    "papermill": {
     "duration": 0.014619,
     "end_time": "2025-03-01T13:53:14.422108",
     "exception": false,
     "start_time": "2025-03-01T13:53:14.407489",
     "status": "completed"
    },
    "tags": []
   },
   "outputs": [
    {
     "data": {
      "text/plain": [
       "'party_map = {\\n    \\'KAMINI\\': \\'M/S KAMINI IRON & STEEL\\',\\n    \\'APPLE\\': \\'M/S APPLE SURAIDO FITTINGS\\',\\n    \\'JEEVAKA\\': \\'M/S JEEVAKA NETTING\\',\\n    \\'ILC\\': \\'M/S ILC IRON & STEEL\\',\\n    \\'I.L.C\\': \\'M/S ILC IRON & STEEL\\',\\n    \\'AARAL\\': \\'M/S AARAL MARKETING\\',\\n    \\'BABA\\': \\'M/S BABA AKHILA JYOTHI\\',\\n    \\'ARCHANA\\': \\'M/S ARCHANA IRON TRADERS\\',\\n    \"SD CORP\": \"M/S SD CORP\",\\n    \"S.D CORP\": \"M/S SD CORP\",\\n    \"S.D CORPORATION\": \"M/S SD CORP\",\\n    \"S D CORP\": \"M/S SD CORP\",\\n    \\'SD CROP\\': \"M/S SD CORP\", \\n    \"TN COMMERCIAL\": \"M/S T.N COMMERCIAL\",\\n    \"T N COMMERCIALS\": \"M/S T.N COMMERCIAL\",\\n    \"T.N COMMERCIAL\": \"M/S T.N COMMERCIAL\",\\n    \"T N COMMERCIAL\": \"M/S T.N COMMERCIAL\",\\n    \"TN COMMERCIALS\": \"M/S T.N COMMERCIAL\",\\n    \"T N COMMERICIALS\": \"M/S T.N COMMERCIAL\",\\n    \\n    \"SHREE MAHAVIR\": \"M/S SHREE MAHAVIR STEELS\",\\n    \"SHREE MAHAVIR STEELS\": \"M/S SHREE MAHAVIR STEELS\",\\n    \"SHREE MAHAVIR STEEL\": \"M/S SHREE MAHAVIR STEELS\",\\n    \\n    \"KANIKA ISPAT\": \"M/S KANIKA ISPAT\",\\n    \"M/S KANIKA ISPAT PVT LTD\": \"M/S KANIKA ISPAT\",\\n    \\n    \"VANYA STEELS\": \"M/S VANYA STEELS\",\\n    \"VANYA STEEL\": \"M/S VANYA STEELS\",\\n    \\n    \"A.S IRON & STEEL\": \"M/S A.S IRON & STEEL\",\\n    \"A S IRON & STEEL\": \"M/S A.S IRON & STEEL\",\\n    \\'AS IRON & STEEL \\':\"M/S A.S IRON & STEEL\",\\n    \"RAJENDER METALLICS\": \"M/S RAJENDER METALLIC\",\\n    \"M/S RAJENDER METTALIC\": \"M/S RAJENDER METALLIC\",\\n    \"RAJENDRA METALLIC\": \"M/S RAJENDER METALLIC\",\\n    \"RAJENDRA METALLICS\": \"M/S RAJENDER METALLIC\",\\n    \\n    \"BHADRASHREE STEEL\": \"M/S BHADRASHREE STEEL\",\\n    \"M/S BHADRASHREE STEEL\": \"M/S BHADRASHREE STEEL\",\\n    \"BHADRA SHREE STEELS\": \"M/S BHADRASHREE STEEL\",\\n    \\n    \"M/S HARIOM PIPE INDUSTRIES\": \"M/S HARIOM PIPE INDUSTRIES\",\\n    \"M/S HARIOM PIPES\": \"M/S HARIOM PIPE INDUSTRIES\",\\n    \\'HARI OM PIPE\\':\"M/S HARIOM PIPE INDUSTRIES\",\\n    \"SATVIK GLOBAL\": \"M/S SATVIK GLOBAL\",\\n    \\'KARNATAKA FERRO\\':\\'M/S KARNATAKA FERRO\\',\\n    \\'SRI KRISHNA STEELS\\':\\'M/S SRI KRISHNA STEELS \\',\\n    \\'SRI KRISHNA STEEL\\':\\'M/S SRI KRISHNA STEELS \\'\\n}\\ndf[\\'PARTY\\'] = df[\\'PARTY\\'].apply(lambda x: next(\\n    (replacement for key, replacement in party_map.items() if key in x), x\\n))'"
      ]
     },
     "execution_count": 24,
     "metadata": {},
     "output_type": "execute_result"
    }
   ],
   "source": [
    "\"\"\"party_map = {\n",
    "    'KAMINI': 'M/S KAMINI IRON & STEEL',\n",
    "    'APPLE': 'M/S APPLE SURAIDO FITTINGS',\n",
    "    'JEEVAKA': 'M/S JEEVAKA NETTING',\n",
    "    'ILC': 'M/S ILC IRON & STEEL',\n",
    "    'I.L.C': 'M/S ILC IRON & STEEL',\n",
    "    'AARAL': 'M/S AARAL MARKETING',\n",
    "    'BABA': 'M/S BABA AKHILA JYOTHI',\n",
    "    'ARCHANA': 'M/S ARCHANA IRON TRADERS',\n",
    "    \"SD CORP\": \"M/S SD CORP\",\n",
    "    \"S.D CORP\": \"M/S SD CORP\",\n",
    "    \"S.D CORPORATION\": \"M/S SD CORP\",\n",
    "    \"S D CORP\": \"M/S SD CORP\",\n",
    "    'SD CROP': \"M/S SD CORP\", \n",
    "    \"TN COMMERCIAL\": \"M/S T.N COMMERCIAL\",\n",
    "    \"T N COMMERCIALS\": \"M/S T.N COMMERCIAL\",\n",
    "    \"T.N COMMERCIAL\": \"M/S T.N COMMERCIAL\",\n",
    "    \"T N COMMERCIAL\": \"M/S T.N COMMERCIAL\",\n",
    "    \"TN COMMERCIALS\": \"M/S T.N COMMERCIAL\",\n",
    "    \"T N COMMERICIALS\": \"M/S T.N COMMERCIAL\",\n",
    "    \n",
    "    \"SHREE MAHAVIR\": \"M/S SHREE MAHAVIR STEELS\",\n",
    "    \"SHREE MAHAVIR STEELS\": \"M/S SHREE MAHAVIR STEELS\",\n",
    "    \"SHREE MAHAVIR STEEL\": \"M/S SHREE MAHAVIR STEELS\",\n",
    "    \n",
    "    \"KANIKA ISPAT\": \"M/S KANIKA ISPAT\",\n",
    "    \"M/S KANIKA ISPAT PVT LTD\": \"M/S KANIKA ISPAT\",\n",
    "    \n",
    "    \"VANYA STEELS\": \"M/S VANYA STEELS\",\n",
    "    \"VANYA STEEL\": \"M/S VANYA STEELS\",\n",
    "    \n",
    "    \"A.S IRON & STEEL\": \"M/S A.S IRON & STEEL\",\n",
    "    \"A S IRON & STEEL\": \"M/S A.S IRON & STEEL\",\n",
    "    'AS IRON & STEEL ':\"M/S A.S IRON & STEEL\",\n",
    "    \"RAJENDER METALLICS\": \"M/S RAJENDER METALLIC\",\n",
    "    \"M/S RAJENDER METTALIC\": \"M/S RAJENDER METALLIC\",\n",
    "    \"RAJENDRA METALLIC\": \"M/S RAJENDER METALLIC\",\n",
    "    \"RAJENDRA METALLICS\": \"M/S RAJENDER METALLIC\",\n",
    "    \n",
    "    \"BHADRASHREE STEEL\": \"M/S BHADRASHREE STEEL\",\n",
    "    \"M/S BHADRASHREE STEEL\": \"M/S BHADRASHREE STEEL\",\n",
    "    \"BHADRA SHREE STEELS\": \"M/S BHADRASHREE STEEL\",\n",
    "    \n",
    "    \"M/S HARIOM PIPE INDUSTRIES\": \"M/S HARIOM PIPE INDUSTRIES\",\n",
    "    \"M/S HARIOM PIPES\": \"M/S HARIOM PIPE INDUSTRIES\",\n",
    "    'HARI OM PIPE':\"M/S HARIOM PIPE INDUSTRIES\",\n",
    "    \"SATVIK GLOBAL\": \"M/S SATVIK GLOBAL\",\n",
    "    'KARNATAKA FERRO':'M/S KARNATAKA FERRO',\n",
    "    'SRI KRISHNA STEELS':'M/S SRI KRISHNA STEELS ',\n",
    "    'SRI KRISHNA STEEL':'M/S SRI KRISHNA STEELS '\n",
    "}\n",
    "df['PARTY'] = df['PARTY'].apply(lambda x: next(\n",
    "    (replacement for key, replacement in party_map.items() if key in x), x\n",
    "))\"\"\""
   ]
  },
  {
   "cell_type": "code",
   "execution_count": 25,
   "id": "f02749b3",
   "metadata": {
    "execution": {
     "iopub.execute_input": "2025-03-01T13:53:14.437606Z",
     "iopub.status.busy": "2025-03-01T13:53:14.437249Z",
     "iopub.status.idle": "2025-03-01T13:53:14.442224Z",
     "shell.execute_reply": "2025-03-01T13:53:14.441324Z"
    },
    "papermill": {
     "duration": 0.014317,
     "end_time": "2025-03-01T13:53:14.443577",
     "exception": false,
     "start_time": "2025-03-01T13:53:14.429260",
     "status": "completed"
    },
    "tags": []
   },
   "outputs": [
    {
     "data": {
      "text/plain": [
       "\"import pandas as pd\\nimport difflib\\n\\n# Example function using fuzzy matching\\ndef get_closest_match(value, mapping, threshold=0.7):\\n    matches = difflib.get_close_matches(value, mapping.keys(), n=1, cutoff=threshold)\\n    return mapping[matches[0]] if matches else value\\n\\ndf['PARTY'] = df['PARTY'].apply(lambda x: get_closest_match(x, party_map))\""
      ]
     },
     "execution_count": 25,
     "metadata": {},
     "output_type": "execute_result"
    }
   ],
   "source": [
    "\"\"\"import pandas as pd\n",
    "import difflib\n",
    "\n",
    "# Example function using fuzzy matching\n",
    "def get_closest_match(value, mapping, threshold=0.7):\n",
    "    matches = difflib.get_close_matches(value, mapping.keys(), n=1, cutoff=threshold)\n",
    "    return mapping[matches[0]] if matches else value\n",
    "\n",
    "df['PARTY'] = df['PARTY'].apply(lambda x: get_closest_match(x, party_map))\"\"\"\n"
   ]
  },
  {
   "cell_type": "code",
   "execution_count": 26,
   "id": "735e38d5",
   "metadata": {
    "execution": {
     "iopub.execute_input": "2025-03-01T13:53:14.460245Z",
     "iopub.status.busy": "2025-03-01T13:53:14.459881Z",
     "iopub.status.idle": "2025-03-01T13:53:21.762883Z",
     "shell.execute_reply": "2025-03-01T13:53:21.761806Z"
    },
    "papermill": {
     "duration": 7.313185,
     "end_time": "2025-03-01T13:53:21.764684",
     "exception": false,
     "start_time": "2025-03-01T13:53:14.451499",
     "status": "completed"
    },
    "tags": []
   },
   "outputs": [
    {
     "name": "stdout",
     "output_type": "stream",
     "text": [
      "Collecting rapidfuzz\r\n",
      "  Downloading rapidfuzz-3.12.1-cp310-cp310-manylinux_2_17_x86_64.manylinux2014_x86_64.whl.metadata (11 kB)\r\n",
      "Downloading rapidfuzz-3.12.1-cp310-cp310-manylinux_2_17_x86_64.manylinux2014_x86_64.whl (3.1 MB)\r\n",
      "\u001b[2K   \u001b[90m━━━━━━━━━━━━━━━━━━━━━━━━━━━━━━━━━━━━━━━━\u001b[0m \u001b[32m3.1/3.1 MB\u001b[0m \u001b[31m27.8 MB/s\u001b[0m eta \u001b[36m0:00:00\u001b[0m\r\n",
      "\u001b[?25hInstalling collected packages: rapidfuzz\r\n",
      "Successfully installed rapidfuzz-3.12.1\r\n",
      "Note: you may need to restart the kernel to use updated packages.\n"
     ]
    }
   ],
   "source": [
    "pip install rapidfuzz"
   ]
  },
  {
   "cell_type": "code",
   "execution_count": 27,
   "id": "2ba0a72e",
   "metadata": {
    "execution": {
     "iopub.execute_input": "2025-03-01T13:53:21.782969Z",
     "iopub.status.busy": "2025-03-01T13:53:21.782619Z",
     "iopub.status.idle": "2025-03-01T13:53:21.841961Z",
     "shell.execute_reply": "2025-03-01T13:53:21.841097Z"
    },
    "papermill": {
     "duration": 0.070222,
     "end_time": "2025-03-01T13:53:21.843756",
     "exception": false,
     "start_time": "2025-03-01T13:53:21.773534",
     "status": "completed"
    },
    "tags": []
   },
   "outputs": [],
   "source": [
    "from rapidfuzz import process\n",
    "# List of standard party names\n",
    "unique_parties = [\n",
    "    \"M/S APPLE SURAIDO FITTINGS\",\n",
    "    \"M/S KAMINI IRON & STEEL\",\n",
    "    \"M/S ILC IRON & STEEL\",\n",
    "    \"M/S JEEVAKA NETTING\",\n",
    "    \"M/S AARAL MARKETING\",\n",
    "    \"M/S BABA AKHILA JYOTHI\",\n",
    "    \"M/S ARCHANA IRON TRADERS\",\n",
    "    \"M/S KOTHARI ISPAT\",\n",
    "    \"M/S SWASTIK STEELS\",\n",
    "    \"M/S KANIKA ISPAT\",\n",
    "    \"M/S VANYA STEELS\",\n",
    "    \"M/S RAJENDER METALLIC\",\n",
    "    \"M/S A.S IRON & STEEL\",\n",
    "    \"M/S SD CORP\",\n",
    "    \"M/S AKASH STEELS\",\n",
    "    \"M/S VANYA STEELS\",\n",
    "    \"M/S SRI KRISHNA STEELS\",\n",
    "    \"M/S SUSHMA SALES\",\n",
    "    \"M/S ANUPAM FUELS\",\n",
    "    \"M/S SATVIK GLOBAL\",\n",
    "    \"RAM SHYAM ENTERPRISES\",\n",
    "    \"M/S SHREE MAHAVIR STEELS\",\n",
    "    \"M/S BHADRASHREE STEEL\",\n",
    "    \"M/S T.N COMMERCIAL\",\n",
    "    \"KARNATAKA FERRO\",\n",
    "    \"M/S SHARMA STEELS\",\n",
    "    \"M/S SHREEM TRADERS\",\n",
    "    \"M/S RADHA STEEL\",\n",
    "    \"M/S ACS ETERNAL METAL\",\n",
    "    \"M/S PRANAY ISPAT\",\n",
    "    \"M/S HARIOM PIPE INDUSTRIES\",\n",
    "    \"M/S TUNICS SPONGE\",\n",
    "    \"M/S TANUSH ISPAT\",\n",
    "]\n",
    "# Function to find the best match using (fuzzy matching)\n",
    "def get_best_match(value, choices, threshold=73):\n",
    "    match = process.extractOne(value, choices, score_cutoff=threshold)\n",
    "    return match[0] if match else value  # Return best match or original value\n",
    "\n",
    "# Apply fuzzy matching to clean the 'PARTY' column\n",
    "df['PARTY'] = df['PARTY'].apply(lambda x: get_best_match(x, unique_parties))\n",
    "\n"
   ]
  },
  {
   "cell_type": "code",
   "execution_count": 28,
   "id": "3f59ee72",
   "metadata": {
    "execution": {
     "iopub.execute_input": "2025-03-01T13:53:21.861098Z",
     "iopub.status.busy": "2025-03-01T13:53:21.860706Z",
     "iopub.status.idle": "2025-03-01T13:53:21.873589Z",
     "shell.execute_reply": "2025-03-01T13:53:21.872384Z"
    },
    "papermill": {
     "duration": 0.023054,
     "end_time": "2025-03-01T13:53:21.875209",
     "exception": false,
     "start_time": "2025-03-01T13:53:21.852155",
     "status": "completed"
    },
    "tags": []
   },
   "outputs": [
    {
     "name": "stdout",
     "output_type": "stream",
     "text": [
      "Unmatched Values for Review:\n",
      "['BINDHU SARIA' 'AGARWAL SPONGE' 'GARG STEEL TRADING'\n",
      " 'SAIVIJAY PRAGATI STEEL' 'S.D CORPORATION' 'V R INTERNATIONAL' 'RAJ EXIM']\n",
      "PARTY\n",
      "M/S KAMINI IRON & STEEL       271\n",
      "M/S APPLE SURAIDO FITTINGS    258\n",
      "M/S ILC IRON & STEEL          142\n",
      "M/S JEEVAKA NETTING           137\n",
      "M/S AARAL MARKETING            94\n",
      "M/S RAJENDER METALLIC          67\n",
      "M/S BABA AKHILA JYOTHI         57\n",
      "M/S T.N COMMERCIAL             56\n",
      "M/S VANYA STEELS               54\n",
      "M/S SD CORP                    51\n",
      "M/S SHREE MAHAVIR STEELS       42\n",
      "M/S KANIKA ISPAT               40\n",
      "M/S ARCHANA IRON TRADERS       33\n",
      "M/S A.S IRON & STEEL           31\n",
      "M/S SWASTIK STEELS             31\n",
      "M/S KOTHARI ISPAT              27\n",
      "M/S BHADRASHREE STEEL          27\n",
      "M/S SRI KRISHNA STEELS         25\n",
      "M/S SATVIK GLOBAL              21\n",
      "M/S ANUPAM FUELS               20\n",
      "M/S AKASH STEELS               18\n",
      "RAM SHYAM ENTERPRISES          18\n",
      "M/S SUSHMA SALES               17\n",
      "KARNATAKA FERRO                13\n",
      "M/S RADHA STEEL                11\n",
      "M/S HARIOM PIPE INDUSTRIES     10\n",
      "M/S SHARMA STEELS               9\n",
      "M/S PRANAY ISPAT                8\n",
      "M/S SHREEM TRADERS              7\n",
      "M/S ACS ETERNAL METAL           6\n",
      "S.D CORPORATION                 6\n",
      "M/S TUNICS SPONGE               6\n",
      "M/S TANUSH ISPAT                3\n",
      "BINDHU SARIA                    2\n",
      "GARG STEEL TRADING              2\n",
      "SAIVIJAY PRAGATI STEEL          2\n",
      "V R INTERNATIONAL               1\n",
      "RAJ EXIM                        1\n",
      "AGARWAL SPONGE                  1\n",
      "Name: count, dtype: int64\n"
     ]
    }
   ],
   "source": [
    "# printing unmatched values\n",
    "unmatched = df[~df['PARTY'].isin(unique_parties)]\n",
    "if not unmatched.empty:\n",
    "    print(\"Unmatched Values for Review:\")\n",
    "    print(unmatched['PARTY'].unique())\n",
    "\n",
    "# Display cleaned df\n",
    "print(df['PARTY'].value_counts())"
   ]
  },
  {
   "cell_type": "code",
   "execution_count": 29,
   "id": "639a3b1e",
   "metadata": {
    "execution": {
     "iopub.execute_input": "2025-03-01T13:53:21.892675Z",
     "iopub.status.busy": "2025-03-01T13:53:21.892375Z",
     "iopub.status.idle": "2025-03-01T13:53:21.898819Z",
     "shell.execute_reply": "2025-03-01T13:53:21.897487Z"
    },
    "papermill": {
     "duration": 0.016803,
     "end_time": "2025-03-01T13:53:21.900361",
     "exception": false,
     "start_time": "2025-03-01T13:53:21.883558",
     "status": "completed"
    },
    "tags": []
   },
   "outputs": [],
   "source": [
    "party_map = {\n",
    "\n",
    "    \"S.D CORPORATION\": \"M/S SD CORP\",\n",
    "\n",
    "}\n",
    "df['PARTY'] = df['PARTY'].apply(lambda x: next(\n",
    "    (replacement for key, replacement in party_map.items() if key in x), x\n",
    "))"
   ]
  },
  {
   "cell_type": "code",
   "execution_count": 30,
   "id": "7de573e0",
   "metadata": {
    "execution": {
     "iopub.execute_input": "2025-03-01T13:53:21.918337Z",
     "iopub.status.busy": "2025-03-01T13:53:21.917953Z",
     "iopub.status.idle": "2025-03-01T13:53:21.923923Z",
     "shell.execute_reply": "2025-03-01T13:53:21.922775Z"
    },
    "papermill": {
     "duration": 0.017014,
     "end_time": "2025-03-01T13:53:21.925789",
     "exception": false,
     "start_time": "2025-03-01T13:53:21.908775",
     "status": "completed"
    },
    "tags": []
   },
   "outputs": [
    {
     "data": {
      "text/plain": [
       "'# Dictionary mapping variations to standardized names\\nstandardization_map = {\\n    \"M/S SD CORP\": [\"SD CORP\", \"S.D CORP\", \"S.D CORPORATION\", \"S D CORP\"],\\n    \"M/S T.N COMMERCIAL\": [\"TN COMMERCIAL\", \"T N COMMERCIALS\", \"T.N COMMERCIAL\", \"T N COMMERCIAL\", \"TN COMMERCIALS\", \"T N COMMERICIALS\"],\\n    \"M/S SHREE MAHAVIR STEELS\": [\"SHREE MAHAVIR\", \"SHREE MAHAVIR STEELS\", \"SHREE MAHAVIR STEEL\"],\\n    \"M/S KANIKA ISPAT\": [\"KANIKA ISPAT\", \"M/S KANIKA ISPAT PVT LTD\"],\\n    \"M/S VANYA STEELS\": [\"VANYA STEELS\", \"VANYA STEEL\"],\\n    \"M/S A.S IRON & STEEL\": [\"A.S IRON & STEEL\", \"A S IRON & STEEL\"],\\n    \"M/S RAJENDER METALLIC\": [\"RAJENDER METALLICS\", \"M/S RAJENDER METTALIC\", \"RAJENDRA METALLIC\", \"RAJENDRA METALLICS\"],\\n    \"M/S BHADRASHREE STEEL\": [\"BHADRASHREE STEEL\", \"M/S BHADRASHREE STEEL\", \"BHADRA SHREE STEELS\"],\\n    \"M/S HARIOM PIPE INDUSTRIES\": [\"M/S HARIOM PIPE INDUSTRIES\", \"M/S HARIOM PIPES\"],\\n    \"M/S SATVIK GLOBAL\": [\"SATVIK GLOBAL\"],\\n}\\n\\n# Function to replace variations in the original dataset\\ndef replace_variations(df, column, mapping):\\n    for standard, variations in mapping.items():\\n        df[column] = df[column].replace(variations + [standard], standard)\\n\\n# Apply replacements\\nreplace_variations(df, \\'PARTY\\', standardization_map)\\n\\n# Remove duplicates while maintaining order\\ndf = df.drop_duplicates(subset=[\\'PARTY\\'])\\n\\n# Print result\\nprint(df)\\n'"
      ]
     },
     "execution_count": 30,
     "metadata": {},
     "output_type": "execute_result"
    }
   ],
   "source": [
    "\"\"\"# Dictionary mapping variations to standardized names\n",
    "standardization_map = {\n",
    "    \"M/S SD CORP\": [\"SD CORP\", \"S.D CORP\", \"S.D CORPORATION\", \"S D CORP\"],\n",
    "    \"M/S T.N COMMERCIAL\": [\"TN COMMERCIAL\", \"T N COMMERCIALS\", \"T.N COMMERCIAL\", \"T N COMMERCIAL\", \"TN COMMERCIALS\", \"T N COMMERICIALS\"],\n",
    "    \"M/S SHREE MAHAVIR STEELS\": [\"SHREE MAHAVIR\", \"SHREE MAHAVIR STEELS\", \"SHREE MAHAVIR STEEL\"],\n",
    "    \"M/S KANIKA ISPAT\": [\"KANIKA ISPAT\", \"M/S KANIKA ISPAT PVT LTD\"],\n",
    "    \"M/S VANYA STEELS\": [\"VANYA STEELS\", \"VANYA STEEL\"],\n",
    "    \"M/S A.S IRON & STEEL\": [\"A.S IRON & STEEL\", \"A S IRON & STEEL\"],\n",
    "    \"M/S RAJENDER METALLIC\": [\"RAJENDER METALLICS\", \"M/S RAJENDER METTALIC\", \"RAJENDRA METALLIC\", \"RAJENDRA METALLICS\"],\n",
    "    \"M/S BHADRASHREE STEEL\": [\"BHADRASHREE STEEL\", \"M/S BHADRASHREE STEEL\", \"BHADRA SHREE STEELS\"],\n",
    "    \"M/S HARIOM PIPE INDUSTRIES\": [\"M/S HARIOM PIPE INDUSTRIES\", \"M/S HARIOM PIPES\"],\n",
    "    \"M/S SATVIK GLOBAL\": [\"SATVIK GLOBAL\"],\n",
    "}\n",
    "\n",
    "# Function to replace variations in the original dataset\n",
    "def replace_variations(df, column, mapping):\n",
    "    for standard, variations in mapping.items():\n",
    "        df[column] = df[column].replace(variations + [standard], standard)\n",
    "\n",
    "# Apply replacements\n",
    "replace_variations(df, 'PARTY', standardization_map)\n",
    "\n",
    "# Remove duplicates while maintaining order\n",
    "df = df.drop_duplicates(subset=['PARTY'])\n",
    "\n",
    "# Print result\n",
    "print(df)\n",
    "\"\"\""
   ]
  },
  {
   "cell_type": "code",
   "execution_count": 31,
   "id": "da2fe058",
   "metadata": {
    "execution": {
     "iopub.execute_input": "2025-03-01T13:53:21.943728Z",
     "iopub.status.busy": "2025-03-01T13:53:21.943408Z",
     "iopub.status.idle": "2025-03-01T13:53:21.949513Z",
     "shell.execute_reply": "2025-03-01T13:53:21.948175Z"
    },
    "papermill": {
     "duration": 0.016381,
     "end_time": "2025-03-01T13:53:21.950963",
     "exception": false,
     "start_time": "2025-03-01T13:53:21.934582",
     "status": "completed"
    },
    "tags": []
   },
   "outputs": [
    {
     "name": "stdout",
     "output_type": "stream",
     "text": [
      "PARTY\n",
      "M/S KAMINI IRON & STEEL       271\n",
      "M/S APPLE SURAIDO FITTINGS    258\n",
      "M/S ILC IRON & STEEL          142\n",
      "M/S JEEVAKA NETTING           137\n",
      "M/S AARAL MARKETING            94\n",
      "M/S RAJENDER METALLIC          67\n",
      "M/S BABA AKHILA JYOTHI         57\n",
      "M/S SD CORP                    57\n",
      "M/S T.N COMMERCIAL             56\n",
      "M/S VANYA STEELS               54\n",
      "M/S SHREE MAHAVIR STEELS       42\n",
      "M/S KANIKA ISPAT               40\n",
      "M/S ARCHANA IRON TRADERS       33\n",
      "M/S A.S IRON & STEEL           31\n",
      "M/S SWASTIK STEELS             31\n",
      "M/S KOTHARI ISPAT              27\n",
      "M/S BHADRASHREE STEEL          27\n",
      "M/S SRI KRISHNA STEELS         25\n",
      "M/S SATVIK GLOBAL              21\n",
      "M/S ANUPAM FUELS               20\n",
      "M/S AKASH STEELS               18\n",
      "RAM SHYAM ENTERPRISES          18\n",
      "M/S SUSHMA SALES               17\n",
      "KARNATAKA FERRO                13\n",
      "M/S RADHA STEEL                11\n",
      "M/S HARIOM PIPE INDUSTRIES     10\n",
      "M/S SHARMA STEELS               9\n",
      "M/S PRANAY ISPAT                8\n",
      "M/S SHREEM TRADERS              7\n",
      "M/S ACS ETERNAL METAL           6\n",
      "M/S TUNICS SPONGE               6\n",
      "M/S TANUSH ISPAT                3\n",
      "BINDHU SARIA                    2\n",
      "GARG STEEL TRADING              2\n",
      "SAIVIJAY PRAGATI STEEL          2\n",
      "V R INTERNATIONAL               1\n",
      "RAJ EXIM                        1\n",
      "AGARWAL SPONGE                  1\n",
      "Name: count, dtype: int64\n"
     ]
    }
   ],
   "source": [
    "counts = df['PARTY'].value_counts()\n",
    "print((counts.head(60)))"
   ]
  },
  {
   "cell_type": "code",
   "execution_count": 32,
   "id": "325a7c99",
   "metadata": {
    "execution": {
     "iopub.execute_input": "2025-03-01T13:53:21.968989Z",
     "iopub.status.busy": "2025-03-01T13:53:21.968630Z",
     "iopub.status.idle": "2025-03-01T13:53:21.973451Z",
     "shell.execute_reply": "2025-03-01T13:53:21.972310Z"
    },
    "papermill": {
     "duration": 0.015592,
     "end_time": "2025-03-01T13:53:21.975204",
     "exception": false,
     "start_time": "2025-03-01T13:53:21.959612",
     "status": "completed"
    },
    "tags": []
   },
   "outputs": [
    {
     "data": {
      "text/plain": [
       "\"df['LO DATE'] = pd.to_datetime(df['LO DATE'])  # Ensure 'LO DATE' is in datetime format\\n\\ndf['year'] = df['LO DATE'].dt.year\\ndf['month'] = df['LO DATE'].dt.month\\ndf['day'] = df['LO DATE'].dt.day\\ndf\""
      ]
     },
     "execution_count": 32,
     "metadata": {},
     "output_type": "execute_result"
    }
   ],
   "source": [
    "\"\"\"df['LO DATE'] = pd.to_datetime(df['LO DATE'])  # Ensure 'LO DATE' is in datetime format\n",
    "\n",
    "df['year'] = df['LO DATE'].dt.year\n",
    "df['month'] = df['LO DATE'].dt.month\n",
    "df['day'] = df['LO DATE'].dt.day\n",
    "df\"\"\""
   ]
  },
  {
   "cell_type": "code",
   "execution_count": 33,
   "id": "bdfd6213",
   "metadata": {
    "execution": {
     "iopub.execute_input": "2025-03-01T13:53:21.993539Z",
     "iopub.status.busy": "2025-03-01T13:53:21.993201Z",
     "iopub.status.idle": "2025-03-01T13:53:22.014902Z",
     "shell.execute_reply": "2025-03-01T13:53:22.013860Z"
    },
    "papermill": {
     "duration": 0.03285,
     "end_time": "2025-03-01T13:53:22.016808",
     "exception": false,
     "start_time": "2025-03-01T13:53:21.983958",
     "status": "completed"
    },
    "tags": []
   },
   "outputs": [
    {
     "data": {
      "text/html": [
       "<div>\n",
       "<style scoped>\n",
       "    .dataframe tbody tr th:only-of-type {\n",
       "        vertical-align: middle;\n",
       "    }\n",
       "\n",
       "    .dataframe tbody tr th {\n",
       "        vertical-align: top;\n",
       "    }\n",
       "\n",
       "    .dataframe thead th {\n",
       "        text-align: right;\n",
       "    }\n",
       "</style>\n",
       "<table border=\"1\" class=\"dataframe\">\n",
       "  <thead>\n",
       "    <tr style=\"text-align: right;\">\n",
       "      <th></th>\n",
       "      <th>LO DATE</th>\n",
       "      <th>UN DATE</th>\n",
       "      <th>PARTY</th>\n",
       "      <th>VECHILE NO</th>\n",
       "      <th>GC</th>\n",
       "      <th>L.W</th>\n",
       "      <th>FRIGHT</th>\n",
       "      <th>TOTAL</th>\n",
       "      <th>LO_year</th>\n",
       "      <th>UN_year</th>\n",
       "      <th>LO_month</th>\n",
       "      <th>UN_month</th>\n",
       "      <th>LO_day</th>\n",
       "      <th>UN_day</th>\n",
       "    </tr>\n",
       "  </thead>\n",
       "  <tbody>\n",
       "    <tr>\n",
       "      <th>2259</th>\n",
       "      <td>2025-01-10</td>\n",
       "      <td>2025-01-12</td>\n",
       "      <td>M/S KAMINI IRON &amp; STEEL</td>\n",
       "      <td>TS06UC7299</td>\n",
       "      <td>3088</td>\n",
       "      <td>44.96</td>\n",
       "      <td>1000</td>\n",
       "      <td>44960</td>\n",
       "      <td>2025</td>\n",
       "      <td>2025</td>\n",
       "      <td>1</td>\n",
       "      <td>1</td>\n",
       "      <td>10</td>\n",
       "      <td>12</td>\n",
       "    </tr>\n",
       "    <tr>\n",
       "      <th>2260</th>\n",
       "      <td>2025-01-09</td>\n",
       "      <td>2025-01-12</td>\n",
       "      <td>M/S KAMINI IRON &amp; STEEL</td>\n",
       "      <td>TS07UF4994</td>\n",
       "      <td>3078</td>\n",
       "      <td>51.63</td>\n",
       "      <td>1000</td>\n",
       "      <td>51630</td>\n",
       "      <td>2025</td>\n",
       "      <td>2025</td>\n",
       "      <td>1</td>\n",
       "      <td>1</td>\n",
       "      <td>9</td>\n",
       "      <td>12</td>\n",
       "    </tr>\n",
       "    <tr>\n",
       "      <th>2261</th>\n",
       "      <td>2025-01-12</td>\n",
       "      <td>2025-01-13</td>\n",
       "      <td>M/S APPLE SURAIDO FITTINGS</td>\n",
       "      <td>TS07UH4239</td>\n",
       "      <td>3158</td>\n",
       "      <td>44.99</td>\n",
       "      <td>1000</td>\n",
       "      <td>44990</td>\n",
       "      <td>2025</td>\n",
       "      <td>2025</td>\n",
       "      <td>1</td>\n",
       "      <td>1</td>\n",
       "      <td>12</td>\n",
       "      <td>13</td>\n",
       "    </tr>\n",
       "    <tr>\n",
       "      <th>2262</th>\n",
       "      <td>2025-01-11</td>\n",
       "      <td>2025-01-14</td>\n",
       "      <td>M/S APPLE SURAIDO FITTINGS</td>\n",
       "      <td>TS07UE2111</td>\n",
       "      <td>3169</td>\n",
       "      <td>51.85</td>\n",
       "      <td>1000</td>\n",
       "      <td>51850</td>\n",
       "      <td>2025</td>\n",
       "      <td>2025</td>\n",
       "      <td>1</td>\n",
       "      <td>1</td>\n",
       "      <td>11</td>\n",
       "      <td>14</td>\n",
       "    </tr>\n",
       "    <tr>\n",
       "      <th>2263</th>\n",
       "      <td>2025-01-11</td>\n",
       "      <td>2025-01-14</td>\n",
       "      <td>M/S APPLE SURAIDO FITTINGS</td>\n",
       "      <td>TS07UC8019</td>\n",
       "      <td>3097</td>\n",
       "      <td>46.66</td>\n",
       "      <td>1000</td>\n",
       "      <td>46660</td>\n",
       "      <td>2025</td>\n",
       "      <td>2025</td>\n",
       "      <td>1</td>\n",
       "      <td>1</td>\n",
       "      <td>11</td>\n",
       "      <td>14</td>\n",
       "    </tr>\n",
       "  </tbody>\n",
       "</table>\n",
       "</div>"
      ],
      "text/plain": [
       "        LO DATE    UN DATE                       PARTY  VECHILE NO    GC  \\\n",
       "2259 2025-01-10 2025-01-12     M/S KAMINI IRON & STEEL  TS06UC7299  3088   \n",
       "2260 2025-01-09 2025-01-12     M/S KAMINI IRON & STEEL  TS07UF4994  3078   \n",
       "2261 2025-01-12 2025-01-13  M/S APPLE SURAIDO FITTINGS  TS07UH4239  3158   \n",
       "2262 2025-01-11 2025-01-14  M/S APPLE SURAIDO FITTINGS  TS07UE2111  3169   \n",
       "2263 2025-01-11 2025-01-14  M/S APPLE SURAIDO FITTINGS  TS07UC8019  3097   \n",
       "\n",
       "        L.W  FRIGHT  TOTAL  LO_year  UN_year  LO_month  UN_month  LO_day  \\\n",
       "2259  44.96    1000  44960     2025     2025         1         1      10   \n",
       "2260  51.63    1000  51630     2025     2025         1         1       9   \n",
       "2261  44.99    1000  44990     2025     2025         1         1      12   \n",
       "2262  51.85    1000  51850     2025     2025         1         1      11   \n",
       "2263  46.66    1000  46660     2025     2025         1         1      11   \n",
       "\n",
       "      UN_day  \n",
       "2259      12  \n",
       "2260      12  \n",
       "2261      13  \n",
       "2262      14  \n",
       "2263      14  "
      ]
     },
     "execution_count": 33,
     "metadata": {},
     "output_type": "execute_result"
    }
   ],
   "source": [
    "# Extract year, month, and day for both columns\n",
    "df[['LO_year', 'UN_year']] = df[['LO DATE', 'UN DATE']].apply(lambda x: x.dt.year)\n",
    "df[['LO_month', 'UN_month']] = df[['LO DATE', 'UN DATE']].apply(lambda x: x.dt.month)\n",
    "df[['LO_day', 'UN_day']] = df[['LO DATE', 'UN DATE']].apply(lambda x: x.dt.day)\n",
    "df.tail()"
   ]
  },
  {
   "cell_type": "code",
   "execution_count": 34,
   "id": "f4c3135c",
   "metadata": {
    "execution": {
     "iopub.execute_input": "2025-03-01T13:53:22.035171Z",
     "iopub.status.busy": "2025-03-01T13:53:22.034826Z",
     "iopub.status.idle": "2025-03-01T13:53:22.041373Z",
     "shell.execute_reply": "2025-03-01T13:53:22.040236Z"
    },
    "papermill": {
     "duration": 0.017568,
     "end_time": "2025-03-01T13:53:22.043160",
     "exception": false,
     "start_time": "2025-03-01T13:53:22.025592",
     "status": "completed"
    },
    "tags": []
   },
   "outputs": [
    {
     "data": {
      "text/plain": [
       "LO DATE       datetime64[ns]\n",
       "UN DATE       datetime64[ns]\n",
       "PARTY                 object\n",
       "VECHILE NO            object\n",
       "GC                     Int64\n",
       "L.W                   object\n",
       "FRIGHT                 Int64\n",
       "TOTAL                 object\n",
       "LO_year                int32\n",
       "UN_year                int32\n",
       "LO_month               int32\n",
       "UN_month               int32\n",
       "LO_day                 int32\n",
       "UN_day                 int32\n",
       "dtype: object"
      ]
     },
     "execution_count": 34,
     "metadata": {},
     "output_type": "execute_result"
    }
   ],
   "source": [
    "df.dtypes"
   ]
  },
  {
   "cell_type": "code",
   "execution_count": 35,
   "id": "636d459e",
   "metadata": {
    "execution": {
     "iopub.execute_input": "2025-03-01T13:53:22.061542Z",
     "iopub.status.busy": "2025-03-01T13:53:22.061236Z",
     "iopub.status.idle": "2025-03-01T13:53:24.057585Z",
     "shell.execute_reply": "2025-03-01T13:53:24.056516Z"
    },
    "papermill": {
     "duration": 2.006999,
     "end_time": "2025-03-01T13:53:24.059077",
     "exception": false,
     "start_time": "2025-03-01T13:53:22.052078",
     "status": "completed"
    },
    "tags": []
   },
   "outputs": [
    {
     "name": "stdout",
     "output_type": "stream",
     "text": [
      "Setup Complete\n"
     ]
    }
   ],
   "source": [
    "pd.plotting.register_matplotlib_converters()\n",
    "import matplotlib.pyplot as plt\n",
    "%matplotlib inline\n",
    "import seaborn as sns\n",
    "print(\"Setup Complete\")"
   ]
  },
  {
   "cell_type": "code",
   "execution_count": 36,
   "id": "0420fe0f",
   "metadata": {
    "execution": {
     "iopub.execute_input": "2025-03-01T13:53:24.077783Z",
     "iopub.status.busy": "2025-03-01T13:53:24.077298Z",
     "iopub.status.idle": "2025-03-01T13:53:24.082666Z",
     "shell.execute_reply": "2025-03-01T13:53:24.081544Z"
    },
    "papermill": {
     "duration": 0.016194,
     "end_time": "2025-03-01T13:53:24.084197",
     "exception": false,
     "start_time": "2025-03-01T13:53:24.068003",
     "status": "completed"
    },
    "tags": []
   },
   "outputs": [
    {
     "data": {
      "text/plain": [
       "'# Set the width and height of the figure\\nplt.figure(figsize=(10,6))\\n\\n# Add title\\nplt.title(\"Freight Truck Arrivals, by Month\")\\n\\n# Bar chart showing average arrival delay for Spirit Airlines flights by month\\nsns.barplot(x=df[\\'LO_month\\'], y=df[\\'NK\\'])\\n\\n# Add label for vertical axis\\nplt.ylabel(\"Arrival delay (in minutes)\")'"
      ]
     },
     "execution_count": 36,
     "metadata": {},
     "output_type": "execute_result"
    }
   ],
   "source": [
    "\"\"\"# Set the width and height of the figure\n",
    "plt.figure(figsize=(10,6))\n",
    "\n",
    "# Add title\n",
    "plt.title(\"Freight Truck Arrivals, by Month\")\n",
    "\n",
    "# Bar chart showing average arrival delay for Spirit Airlines flights by month\n",
    "sns.barplot(x=df['LO_month'], y=df['NK'])\n",
    "\n",
    "# Add label for vertical axis\n",
    "plt.ylabel(\"Arrival delay (in minutes)\")\"\"\""
   ]
  },
  {
   "cell_type": "code",
   "execution_count": 37,
   "id": "0b6e0ee7",
   "metadata": {
    "execution": {
     "iopub.execute_input": "2025-03-01T13:53:24.103797Z",
     "iopub.status.busy": "2025-03-01T13:53:24.103452Z",
     "iopub.status.idle": "2025-03-01T13:53:24.371154Z",
     "shell.execute_reply": "2025-03-01T13:53:24.370142Z"
    },
    "papermill": {
     "duration": 0.28059,
     "end_time": "2025-03-01T13:53:24.373606",
     "exception": false,
     "start_time": "2025-03-01T13:53:24.093016",
     "status": "completed"
    },
    "tags": []
   },
   "outputs": [
    {
     "data": {
      "text/plain": [
       "<Axes: title={'center': 'Freight Truck Arrivals, by Month in The Year 2022'}, xlabel='LO_month', ylabel='count'>"
      ]
     },
     "execution_count": 37,
     "metadata": {},
     "output_type": "execute_result"
    },
    {
     "data": {
      "image/png": "[encoded data removed]",
      "text/plain": [
       "<Figure size 1000x600 with 1 Axes>"
      ]
     },
     "metadata": {},
     "output_type": "display_data"
    }
   ],
   "source": [
    "plt.figure(figsize=(10,6))\n",
    "plt.title(\"Freight Truck Arrivals, by Month in The Year 2022\")\n",
    "df_2022 = df[df['LO_year'] == 2022]\n",
    "sns.countplot(x=df_2022['LO_month'])\n"
   ]
  },
  {
   "cell_type": "code",
   "execution_count": 38,
   "id": "7043562a",
   "metadata": {
    "execution": {
     "iopub.execute_input": "2025-03-01T13:53:24.396103Z",
     "iopub.status.busy": "2025-03-01T13:53:24.395801Z",
     "iopub.status.idle": "2025-03-01T13:53:24.582967Z",
     "shell.execute_reply": "2025-03-01T13:53:24.582117Z"
    },
    "papermill": {
     "duration": 0.198163,
     "end_time": "2025-03-01T13:53:24.584439",
     "exception": false,
     "start_time": "2025-03-01T13:53:24.386276",
     "status": "completed"
    },
    "tags": []
   },
   "outputs": [
    {
     "data": {
      "text/plain": [
       "<Axes: title={'center': 'Freight Truck Arrivals, by Month in The Year 2023'}, xlabel='LO_month', ylabel='count'>"
      ]
     },
     "execution_count": 38,
     "metadata": {},
     "output_type": "execute_result"
    },
    {
     "data": {
      "image/png": "[encoded data removed]",
      "text/plain": [
       "<Figure size 1000x600 with 1 Axes>"
      ]
     },
     "metadata": {},
     "output_type": "display_data"
    }
   ],
   "source": [
    "plt.figure(figsize=(10,6))\n",
    "plt.title(\"Freight Truck Arrivals, by Month in The Year 2023\")\n",
    "df_2023 = df[df['LO_year'] == 2023]\n",
    "sns.countplot(x=df_2023['LO_month'])"
   ]
  },
  {
   "cell_type": "code",
   "execution_count": 39,
   "id": "7953ee5f",
   "metadata": {
    "execution": {
     "iopub.execute_input": "2025-03-01T13:53:24.605224Z",
     "iopub.status.busy": "2025-03-01T13:53:24.604817Z",
     "iopub.status.idle": "2025-03-01T13:53:24.793019Z",
     "shell.execute_reply": "2025-03-01T13:53:24.792155Z"
    },
    "papermill": {
     "duration": 0.200073,
     "end_time": "2025-03-01T13:53:24.794373",
     "exception": false,
     "start_time": "2025-03-01T13:53:24.594300",
     "status": "completed"
    },
    "tags": []
   },
   "outputs": [
    {
     "data": {
      "text/plain": [
       "<Axes: title={'center': 'Freight Truck Arrivals, by Month in The Year 2024'}, xlabel='LO_month', ylabel='count'>"
      ]
     },
     "execution_count": 39,
     "metadata": {},
     "output_type": "execute_result"
    },
    {
     "data": {
      "image/png": "[encoded data removed]",
      "text/plain": [
       "<Figure size 1000x600 with 1 Axes>"
      ]
     },
     "metadata": {},
     "output_type": "display_data"
    }
   ],
   "source": [
    "plt.figure(figsize=(10,6))\n",
    "plt.title(\"Freight Truck Arrivals, by Month in The Year 2024\")\n",
    "df_2024 = df[df['LO_year'] == 2024]\n",
    "sns.countplot(x=df_2024['LO_month'])"
   ]
  },
  {
   "cell_type": "code",
   "execution_count": 40,
   "id": "34ffdb66",
   "metadata": {
    "execution": {
     "iopub.execute_input": "2025-03-01T13:53:24.814791Z",
     "iopub.status.busy": "2025-03-01T13:53:24.814424Z",
     "iopub.status.idle": "2025-03-01T13:53:24.942932Z",
     "shell.execute_reply": "2025-03-01T13:53:24.941527Z"
    },
    "papermill": {
     "duration": 0.140769,
     "end_time": "2025-03-01T13:53:24.944944",
     "exception": false,
     "start_time": "2025-03-01T13:53:24.804175",
     "status": "completed"
    },
    "tags": []
   },
   "outputs": [
    {
     "data": {
      "text/plain": [
       "<Axes: title={'center': 'Freight Truck Arrivals, by Month in The Year 2025'}, xlabel='LO_month', ylabel='count'>"
      ]
     },
     "execution_count": 40,
     "metadata": {},
     "output_type": "execute_result"
    },
    {
     "data": {
      "image/png": "[encoded data removed]",
      "text/plain": [
       "<Figure size 1000x600 with 1 Axes>"
      ]
     },
     "metadata": {},
     "output_type": "display_data"
    }
   ],
   "source": [
    "plt.figure(figsize=(10,6))\n",
    "plt.title(\"Freight Truck Arrivals, by Month in The Year 2025\")\n",
    "df_2025 = df[df['LO_year'] == 2025]\n",
    "sns.countplot(x=df_2025['LO_month'])"
   ]
  },
  {
   "cell_type": "code",
   "execution_count": 41,
   "id": "bc5759a1",
   "metadata": {
    "execution": {
     "iopub.execute_input": "2025-03-01T13:53:24.966744Z",
     "iopub.status.busy": "2025-03-01T13:53:24.966425Z",
     "iopub.status.idle": "2025-03-01T13:53:25.098273Z",
     "shell.execute_reply": "2025-03-01T13:53:25.097007Z"
    },
    "papermill": {
     "duration": 0.144981,
     "end_time": "2025-03-01T13:53:25.100450",
     "exception": false,
     "start_time": "2025-03-01T13:53:24.955469",
     "status": "completed"
    },
    "tags": []
   },
   "outputs": [
    {
     "data": {
      "application/vnd.jupyter.widget-view+json": {
       "model_id": "53f537cc700641e495b4d7fc15b65536",
       "version_major": 2,
       "version_minor": 0
      },
      "text/plain": [
       "interactive(children=(Dropdown(description='Select Year:', options=(2022, 2023, 2024, 2025), style=Description…"
      ]
     },
     "metadata": {},
     "output_type": "display_data"
    }
   ],
   "source": [
    "import ipywidgets as widgets\n",
    "from IPython.display import display\n",
    "\n",
    "# Get unique years from the dataset\n",
    "unique_years = sorted(df['LO_year'].unique())\n",
    "\n",
    "# Create a dropdown widget\n",
    "year_dropdown = widgets.Dropdown(\n",
    "    options=unique_years,\n",
    "    value=unique_years[0],  # Default value\n",
    "    description='Select Year:',\n",
    "    style={'description_width': 'initial'}\n",
    ")\n",
    "\n",
    "# Function to update the plot\n",
    "def plot_data(YEAR):\n",
    "    plt.figure(figsize=(10,6))\n",
    "    plt.title(f\"Freight Truck Arrivals, by Month in The Year {YEAR}\")\n",
    "    df_YEAR = df[df['LO_year'] == YEAR]\n",
    "    sns.countplot(data=df_YEAR, x=\"LO_month\")\n",
    "    plt.show()\n",
    "\n",
    "# Use an interactive widget to update the graph when dropdown changes\n",
    "interactive_plot = widgets.interactive(plot_data, YEAR=year_dropdown)\n",
    "\n",
    "# Display only the interactive widget (removes duplicate dropdown)\n",
    "display(interactive_plot)"
   ]
  },
  {
   "cell_type": "code",
   "execution_count": 42,
   "id": "1fbb447f",
   "metadata": {
    "execution": {
     "iopub.execute_input": "2025-03-01T13:53:25.124312Z",
     "iopub.status.busy": "2025-03-01T13:53:25.123812Z",
     "iopub.status.idle": "2025-03-01T13:53:25.284924Z",
     "shell.execute_reply": "2025-03-01T13:53:25.284142Z"
    },
    "papermill": {
     "duration": 0.17463,
     "end_time": "2025-03-01T13:53:25.286755",
     "exception": false,
     "start_time": "2025-03-01T13:53:25.112125",
     "status": "completed"
    },
    "tags": []
   },
   "outputs": [
    {
     "data": {
      "text/plain": [
       "<Axes: title={'center': 'Freight Truck Arrivals,  in The Year'}, xlabel='LO_year', ylabel='count'>"
      ]
     },
     "execution_count": 42,
     "metadata": {},
     "output_type": "execute_result"
    },
    {
     "data": {
      "image/png": "[encoded data removed]",
      "text/plain": [
       "<Figure size 1000x600 with 1 Axes>"
      ]
     },
     "metadata": {},
     "output_type": "display_data"
    }
   ],
   "source": [
    "plt.figure(figsize=(10,6))\n",
    "plt.title(f\"Freight Truck Arrivals,  in The Year\")\n",
    "sns.countplot(data=df,x=\"LO_year\")"
   ]
  },
  {
   "cell_type": "code",
   "execution_count": 43,
   "id": "bc5a6abd",
   "metadata": {
    "execution": {
     "iopub.execute_input": "2025-03-01T13:53:25.309708Z",
     "iopub.status.busy": "2025-03-01T13:53:25.309364Z",
     "iopub.status.idle": "2025-03-01T13:53:25.484253Z",
     "shell.execute_reply": "2025-03-01T13:53:25.482967Z"
    },
    "papermill": {
     "duration": 0.188398,
     "end_time": "2025-03-01T13:53:25.486121",
     "exception": false,
     "start_time": "2025-03-01T13:53:25.297723",
     "status": "completed"
    },
    "tags": []
   },
   "outputs": [
    {
     "data": {
      "image/png": "[encoded data removed]",
      "text/plain": [
       "<Figure size 800x800 with 1 Axes>"
      ]
     },
     "metadata": {},
     "output_type": "display_data"
    }
   ],
   "source": [
    "party_counts = df['PARTY'].value_counts().head()\n",
    "\n",
    "labels = party_counts.index\n",
    "sizes = party_counts.values\n",
    "\n",
    "# Define Seaborn color palette (matching the number of labels)\n",
    "colors = sns.color_palette(\"pastel\", len(labels))\n",
    "# Create an \"explode\" effect (only explode the largest category)\n",
    "explode = [0.1 if i == 0 else 0 for i in range(len(labels))]\n",
    "# function to show count and percentage\n",
    "def autopct_format(pct, all_vals):\n",
    "    absolute = int(round(pct/100.*sum(all_vals)))  # Convert percentage to count\n",
    "    return f\"{absolute}\\n({pct:.1f}%)\"  # Show both count and percentage\n",
    "# pie chart\n",
    "plt.figure(figsize=(8, 8))\n",
    "plt.pie(\n",
    "    sizes, \n",
    "    labels=labels, \n",
    "    autopct=lambda pct: autopct_format(pct, sizes), \n",
    "    colors=colors, \n",
    "    explode=explode,\n",
    "    startangle=140, \n",
    "    shadow=True,\n",
    "    textprops={'fontsize': 13}  # Set font size for labels\n",
    ")\n",
    "plt.title(\"Top 5 PARTY Categories Distribution Of Complete Data\", fontsize=18)\n",
    "plt.show()"
   ]
  },
  {
   "cell_type": "code",
   "execution_count": 44,
   "id": "83f40e51",
   "metadata": {
    "execution": {
     "iopub.execute_input": "2025-03-01T13:53:25.512325Z",
     "iopub.status.busy": "2025-03-01T13:53:25.512004Z",
     "iopub.status.idle": "2025-03-01T13:53:25.662198Z",
     "shell.execute_reply": "2025-03-01T13:53:25.661164Z"
    },
    "papermill": {
     "duration": 0.1654,
     "end_time": "2025-03-01T13:53:25.664482",
     "exception": false,
     "start_time": "2025-03-01T13:53:25.499082",
     "status": "completed"
    },
    "tags": []
   },
   "outputs": [
    {
     "data": {
      "application/vnd.jupyter.widget-view+json": {
       "model_id": "561803a08c5e44cea094468420243eff",
       "version_major": 2,
       "version_minor": 0
      },
      "text/plain": [
       "interactive(children=(Dropdown(description='Select Year:', options=(2022, 2023, 2024, 2025), style=Description…"
      ]
     },
     "metadata": {},
     "output_type": "display_data"
    }
   ],
   "source": [
    "# Get unique years from the dataset\n",
    "unique_years = sorted(df['LO_year'].unique())\n",
    "\n",
    "# Create a dropdown widget\n",
    "year_dropdown = widgets.Dropdown(\n",
    "    options=unique_years,\n",
    "    value=unique_years[0],  \n",
    "    description='Select Year:',\n",
    "    style={'description_width': 'initial'}\n",
    ")\n",
    "\n",
    "# Function to plot the pie chart\n",
    "def plot_pie(YEAR):\n",
    "    party_counts = df[df['LO_year'] == YEAR]['PARTY'].value_counts().head()\n",
    "\n",
    "    # Extract labels and sizes\n",
    "    labels = party_counts.index\n",
    "    sizes = party_counts.values\n",
    "\n",
    "    # Define Seaborn color palette\n",
    "    colors = sns.color_palette(\"pastel\", len(labels))\n",
    "\n",
    "    # Create an \"explode\" effect (only explode the largest category)\n",
    "    explode = [0.1 if i == 0 else 0 for i in range(len(labels))]\n",
    "\n",
    "    # Function to show count and percentage\n",
    "    def autopct_format(pct, all_vals):\n",
    "        absolute = int(round(pct / 100. * sum(all_vals)))  # Convert percentage to count\n",
    "        return f\"{absolute}\\n({pct:.1f}%)\"  # Show both count and percentage\n",
    "\n",
    "    # Create pie chart\n",
    "    plt.figure(figsize=(8, 8))\n",
    "    plt.pie(\n",
    "        sizes, \n",
    "        labels=labels, \n",
    "        autopct=lambda pct: autopct_format(pct, sizes), \n",
    "        colors=colors, \n",
    "        explode=explode,\n",
    "        startangle=140, \n",
    "        shadow=True,\n",
    "        textprops={'fontsize': 13}  # Set font size for labels\n",
    "    )\n",
    "    plt.title(f\"Top 5 PARTY Categories Distribution in {YEAR}\", fontsize=18)\n",
    "    plt.show()\n",
    "\n",
    "# Event Handling\n",
    "interactive_plot = widgets.interactive(plot_pie, YEAR=year_dropdown)\n",
    "display(interactive_plot)\n"
   ]
  },
  {
   "cell_type": "code",
   "execution_count": 45,
   "id": "4b0bbb8d",
   "metadata": {
    "execution": {
     "iopub.execute_input": "2025-03-01T13:53:25.693122Z",
     "iopub.status.busy": "2025-03-01T13:53:25.692672Z",
     "iopub.status.idle": "2025-03-01T13:53:25.698570Z",
     "shell.execute_reply": "2025-03-01T13:53:25.697760Z"
    },
    "papermill": {
     "duration": 0.02103,
     "end_time": "2025-03-01T13:53:25.699892",
     "exception": false,
     "start_time": "2025-03-01T13:53:25.678862",
     "status": "completed"
    },
    "tags": []
   },
   "outputs": [
    {
     "data": {
      "text/plain": [
       "'\\n\\n# Get unique months and years from the dataset\\nunique_months = sorted(df[\\'LO_month\\'].unique())  # Fixed variable name\\nunique_years = sorted(df[\\'LO_year\\'].unique())\\n\\n# Create dropdown widgets\\nyear_dropdown = widgets.Dropdown(\\n    options=unique_years,\\n    value=unique_years[0],  # Default year\\n    description=\\'Select Year:\\',\\n    style={\\'description_width\\': \\'initial\\'}\\n)\\n\\nmonth_dropdown = widgets.Dropdown(\\n    options=unique_months,  # Fixed: using unique_months\\n    value=unique_months[0],  # Default month\\n    description=\\'Select Month:\\',  # Fixed: Correct description\\n    style={\\'description_width\\': \\'initial\\'}\\n)\\n\\n# Function to plot the pie chart\\ndef plot_pie(YEAR, MONTH):\\n    # Filter DataFrame for the given year and month\\n    party_counts = df[(df[\\'LO_year\\'] == YEAR) & (df[\\'LO_month\\'] == MONTH)][\\'PARTY\\'].value_counts().head()\\n    \\n    # If no data is available for the selected month, avoid errors\\n    if party_counts.empty:\\n        print(f\"No data available for Year: {YEAR}, Month: {MONTH}\")\\n        return\\n    \\n    # Extract labels and sizes\\n    labels = party_counts.index\\n    sizes = party_counts.values\\n    \\n    # Define Seaborn color palette (matching the number of labels)\\n    colors = sns.color_palette(\"pastel\", len(labels))\\n\\n    # Create an \"explode\" effect (only explode the largest category)\\n    explode = [0.1 if i == 0 else 0 for i in range(len(labels))]\\n\\n    # Function to show count and percentage\\n    def autopct_format(pct, all_vals):\\n        absolute = int(round(pct/100. * sum(all_vals)))  # Convert percentage to count\\n        return f\"{absolute}\\n({pct:.1f}%)\"  # Show both count and percentage\\n\\n    # Create pie chart\\n    plt.figure(figsize=(8, 8))\\n    plt.pie(\\n        sizes, \\n        labels=labels, \\n        autopct=lambda pct: autopct_format(pct, sizes), \\n        colors=colors, \\n        explode=explode,\\n        startangle=140, \\n        shadow=True,\\n        textprops={\\'fontsize\\': 13}  # Set font size for labels\\n    )\\n    plt.title(f\"Top 5 PARTY Categories Distribution for {MONTH}/{YEAR}\", fontsize=18)\\n    plt.show()\\n\\n# Interactive widget to update the plot when dropdown changes\\ninteractive_plot = widgets.interactive(plot_pie, YEAR=year_dropdown, MONTH=month_dropdown)\\ndisplay(interactive_plot)'"
      ]
     },
     "execution_count": 45,
     "metadata": {},
     "output_type": "execute_result"
    }
   ],
   "source": [
    "\"\"\"\n",
    "\n",
    "# Get unique months and years from the dataset\n",
    "unique_months = sorted(df['LO_month'].unique())  # Fixed variable name\n",
    "unique_years = sorted(df['LO_year'].unique())\n",
    "\n",
    "# Create dropdown widgets\n",
    "year_dropdown = widgets.Dropdown(\n",
    "    options=unique_years,\n",
    "    value=unique_years[0],  # Default year\n",
    "    description='Select Year:',\n",
    "    style={'description_width': 'initial'}\n",
    ")\n",
    "\n",
    "month_dropdown = widgets.Dropdown(\n",
    "    options=unique_months,  # Fixed: using unique_months\n",
    "    value=unique_months[0],  # Default month\n",
    "    description='Select Month:',  # Fixed: Correct description\n",
    "    style={'description_width': 'initial'}\n",
    ")\n",
    "\n",
    "# Function to plot the pie chart\n",
    "def plot_pie(YEAR, MONTH):\n",
    "    # Filter DataFrame for the given year and month\n",
    "    party_counts = df[(df['LO_year'] == YEAR) & (df['LO_month'] == MONTH)]['PARTY'].value_counts().head()\n",
    "    \n",
    "    # If no data is available for the selected month, avoid errors\n",
    "    if party_counts.empty:\n",
    "        print(f\"No data available for Year: {YEAR}, Month: {MONTH}\")\n",
    "        return\n",
    "    \n",
    "    # Extract labels and sizes\n",
    "    labels = party_counts.index\n",
    "    sizes = party_counts.values\n",
    "    \n",
    "    # Define Seaborn color palette (matching the number of labels)\n",
    "    colors = sns.color_palette(\"pastel\", len(labels))\n",
    "\n",
    "    # Create an \"explode\" effect (only explode the largest category)\n",
    "    explode = [0.1 if i == 0 else 0 for i in range(len(labels))]\n",
    "\n",
    "    # Function to show count and percentage\n",
    "    def autopct_format(pct, all_vals):\n",
    "        absolute = int(round(pct/100. * sum(all_vals)))  # Convert percentage to count\n",
    "        return f\"{absolute}\\n({pct:.1f}%)\"  # Show both count and percentage\n",
    "\n",
    "    # Create pie chart\n",
    "    plt.figure(figsize=(8, 8))\n",
    "    plt.pie(\n",
    "        sizes, \n",
    "        labels=labels, \n",
    "        autopct=lambda pct: autopct_format(pct, sizes), \n",
    "        colors=colors, \n",
    "        explode=explode,\n",
    "        startangle=140, \n",
    "        shadow=True,\n",
    "        textprops={'fontsize': 13}  # Set font size for labels\n",
    "    )\n",
    "    plt.title(f\"Top 5 PARTY Categories Distribution for {MONTH}/{YEAR}\", fontsize=18)\n",
    "    plt.show()\n",
    "\n",
    "# Interactive widget to update the plot when dropdown changes\n",
    "interactive_plot = widgets.interactive(plot_pie, YEAR=year_dropdown, MONTH=month_dropdown)\n",
    "display(interactive_plot)\"\"\"\n"
   ]
  },
  {
   "cell_type": "code",
   "execution_count": 46,
   "id": "67a31d3e",
   "metadata": {
    "execution": {
     "iopub.execute_input": "2025-03-01T13:53:25.727535Z",
     "iopub.status.busy": "2025-03-01T13:53:25.727188Z",
     "iopub.status.idle": "2025-03-01T13:53:25.752402Z",
     "shell.execute_reply": "2025-03-01T13:53:25.751327Z"
    },
    "papermill": {
     "duration": 0.042566,
     "end_time": "2025-03-01T13:53:25.755150",
     "exception": false,
     "start_time": "2025-03-01T13:53:25.712584",
     "status": "completed"
    },
    "tags": []
   },
   "outputs": [
    {
     "data": {
      "application/vnd.jupyter.widget-view+json": {
       "model_id": "1bfc008f462d49c99d6b7b824067ddd6",
       "version_major": 2,
       "version_minor": 0
      },
      "text/plain": [
       "interactive(children=(Dropdown(description='Select Year:', options=(2022, 2023, 2024, 2025), style=Description…"
      ]
     },
     "metadata": {},
     "output_type": "display_data"
    }
   ],
   "source": [
    "\n",
    "\n",
    "month_mapping = {\n",
    "    1: \"Jan\", 2: \"Feb\", 3: \"Mar\", 4: \"Apr\", 5: \"May\", 6: \"Jun\",\n",
    "    7: \"Jul\", 8: \"Aug\", 9: \"Sep\", 10: \"Oct\", 11: \"Nov\", 12: \"Dec\"\n",
    "}\n",
    "\n",
    "\n",
    "unique_months = sorted(df['LO_month'].unique())  \n",
    "unique_years = sorted(df['LO_year'].unique())\n",
    "\n",
    "\n",
    "month_options = {month_mapping[m]: m for m in unique_months}\n",
    "\n",
    "# Create dropdown widgets\n",
    "year_dropdown = widgets.Dropdown(\n",
    "    options=unique_years,\n",
    "    value=unique_years[0],  # Default year\n",
    "    description='Select Year:',\n",
    "    style={'description_width': 'initial'}\n",
    ")\n",
    "\n",
    "month_dropdown = widgets.Dropdown(\n",
    "    options=month_options,  # Display month names but return numbers\n",
    "    value=unique_months[0],  # Default month\n",
    "    description='Select Month:',\n",
    "    style={'description_width': 'initial'}\n",
    ")\n",
    "\n",
    "# Function to plot the pie chart\n",
    "def plot_pie(YEAR, MONTH):\n",
    "    # Filter DataFrame for the given year and month\n",
    "    party_counts = df[(df['LO_year'] == YEAR) & (df['LO_month'] == MONTH)]['PARTY'].value_counts().head()\n",
    "    if party_counts.empty:\n",
    "        print(f\"No data available for {month_mapping[MONTH]} {YEAR}\")\n",
    "        return\n",
    "    labels = party_counts.index\n",
    "    sizes = party_counts.values\n",
    "    \n",
    "\n",
    "    colors = sns.color_palette(\"pastel\", len(labels))\n",
    "\n",
    "    \n",
    "    explode = [0.1 if i == 0 else 0 for i in range(len(labels))]\n",
    "\n",
    "    # Function to show count and percentage\n",
    "    def autopct_form(pct, all_vals):\n",
    "        absolute = int(round(pct / 100. * sum(all_vals)))  # Convert percentage to count\n",
    "        return f\"{absolute}\\n({pct:.1f}%)\"\n",
    "\n",
    "    # Create pie chart\n",
    "    plt.figure(figsize=(8, 8))\n",
    "    plt.pie(\n",
    "        sizes, \n",
    "        labels=labels, \n",
    "        autopct=lambda pct: autopct_form(pct, sizes), \n",
    "        colors=colors, \n",
    "        explode=explode,\n",
    "        startangle=140, \n",
    "        shadow=True,\n",
    "        textprops={'fontsize': 13}  \n",
    "    )\n",
    "    plt.title(f\"Top 5 PARTY Categories Distribution for {month_mapping[MONTH]} {YEAR}\", fontsize=18)\n",
    "    plt.show()\n",
    "\n",
    "# Event Handling\n",
    "interactive_plot = widgets.interactive(plot_pie, YEAR=year_dropdown, MONTH=month_dropdown)\n",
    "display(interactive_plot)\n"
   ]
  }
 ],
 "metadata": {
  "kaggle": {
   "accelerator": "none",
   "dataSources": [
    {
     "datasetId": 6578727,
     "sourceId": 10625314,
     "sourceType": "datasetVersion"
    }
   ],
   "dockerImageVersionId": 30839,
   "isGpuEnabled": false,
   "isInternetEnabled": true,
   "language": "python",
   "sourceType": "notebook"
  },
  "kernelspec": {
   "display_name": "Python 3",
   "language": "python",
   "name": "python3"
  },
  "language_info": {
   "codemirror_mode": {
    "name": "ipython",
    "version": 3
   },
   "file_extension": ".py",
   "mimetype": "text/x-python",
   "name": "python",
   "nbconvert_exporter": "python",
   "pygments_lexer": "ipython3",
   "version": "3.10.12"
  },
  "papermill": {
   "default_parameters": {},
   "duration": 19.401091,
   "end_time": "2025-03-01T13:53:26.588112",
   "environment_variables": {},
   "exception": null,
   "input_path": "__notebook__.ipynb",
   "output_path": "__notebook__.ipynb",
   "parameters": {},
   "start_time": "2025-03-01T13:53:07.187021",
   "version": "2.6.0"
  },
  "widgets": {
   "application/vnd.jupyter.widget-state+json": {
    "state": {
     "1223820a55e3499c9ae06c9b735d092e": {
      "model_module": "@jupyter-widgets/controls",
      "model_module_version": "2.0.0",
      "model_name": "DropdownModel",
      "state": {
       "_dom_classes": [],
       "_model_module": "@jupyter-widgets/controls",
       "_model_module_version": "2.0.0",
       "_model_name": "DropdownModel",
       "_options_labels": [
        "2022",
        "2023",
        "2024",
        "2025"
       ],
       "_view_count": null,
       "_view_module": "@jupyter-widgets/controls",
       "_view_module_version": "2.0.0",
       "_view_name": "DropdownView",
       "description": "Select Year:",
       "description_allow_html": false,
       "disabled": false,
       "index": 0,
       "layout": "IPY_MODEL_6ff79920f924400f9d5debe6733c0279",
       "style": "IPY_MODEL_d42e8265e99f412f894481862bdaadf3",
       "tabbable": null,
       "tooltip": null
      }
     },
     "1bfc008f462d49c99d6b7b824067ddd6": {
      "model_module": "@jupyter-widgets/controls",
      "model_module_version": "2.0.0",
      "model_name": "VBoxModel",
      "state": {
       "_dom_classes": [
        "widget-interact"
       ],
       "_model_module": "@jupyter-widgets/controls",
       "_model_module_version": "2.0.0",
       "_model_name": "VBoxModel",
       "_view_count": null,
       "_view_module": "@jupyter-widgets/controls",
       "_view_module_version": "2.0.0",
       "_view_name": "VBoxView",
       "box_style": "",
       "children": [
        "IPY_MODEL_e5e3c88c1ef74f92801e9f9b8341408e",
        "IPY_MODEL_2e762f9d37914b9b998a1ca92503ecaf",
        "IPY_MODEL_f5754408212e40deaa638273e425bcda"
       ],
       "layout": "IPY_MODEL_a00012a212134b0fab586a5ae862372a",
       "tabbable": null,
       "tooltip": null
      }
     },
     "1caa41913a4d44149a9c3dcde4cd7e25": {
      "model_module": "@jupyter-widgets/base",
      "model_module_version": "2.0.0",
      "model_name": "LayoutModel",
      "state": {
       "_model_module": "@jupyter-widgets/base",
       "_model_module_version": "2.0.0",
       "_model_name": "LayoutModel",
       "_view_count": null,
       "_view_module": "@jupyter-widgets/base",
       "_view_module_version": "2.0.0",
       "_view_name": "LayoutView",
       "align_content": null,
       "align_items": null,
       "align_self": null,
       "border_bottom": null,
       "border_left": null,
       "border_right": null,
       "border_top": null,
       "bottom": null,
       "display": null,
       "flex": null,
       "flex_flow": null,
       "grid_area": null,
       "grid_auto_columns": null,
       "grid_auto_flow": null,
       "grid_auto_rows": null,
       "grid_column": null,
       "grid_gap": null,
       "grid_row": null,
       "grid_template_areas": null,
       "grid_template_columns": null,
       "grid_template_rows": null,
       "height": null,
       "justify_content": null,
       "justify_items": null,
       "left": null,
       "margin": null,
       "max_height": null,
       "max_width": null,
       "min_height": null,
       "min_width": null,
       "object_fit": null,
       "object_position": null,
       "order": null,
       "overflow": null,
       "padding": null,
       "right": null,
       "top": null,
       "visibility": null,
       "width": null
      }
     },
     "1e34c1d450fd4f3db6a2e64c11feca90": {
      "model_module": "@jupyter-widgets/base",
      "model_module_version": "2.0.0",
      "model_name": "LayoutModel",
      "state": {
       "_model_module": "@jupyter-widgets/base",
       "_model_module_version": "2.0.0",
       "_model_name": "LayoutModel",
       "_view_count": null,
       "_view_module": "@jupyter-widgets/base",
       "_view_module_version": "2.0.0",
       "_view_name": "LayoutView",
       "align_content": null,
       "align_items": null,
       "align_self": null,
       "border_bottom": null,
       "border_left": null,
       "border_right": null,
       "border_top": null,
       "bottom": null,
       "display": null,
       "flex": null,
       "flex_flow": null,
       "grid_area": null,
       "grid_auto_columns": null,
       "grid_auto_flow": null,
       "grid_auto_rows": null,
       "grid_column": null,
       "grid_gap": null,
       "grid_row": null,
       "grid_template_areas": null,
       "grid_template_columns": null,
       "grid_template_rows": null,
       "height": null,
       "justify_content": null,
       "justify_items": null,
       "left": null,
       "margin": null,
       "max_height": null,
       "max_width": null,
       "min_height": null,
       "min_width": null,
       "object_fit": null,
       "object_position": null,
       "order": null,
       "overflow": null,
       "padding": null,
       "right": null,
       "top": null,
       "visibility": null,
       "width": null
      }
     },
     "2a67a782fde74b41a824e90a2d750507": {
      "model_module": "@jupyter-widgets/controls",
      "model_module_version": "2.0.0",
      "model_name": "DescriptionStyleModel",
      "state": {
       "_model_module": "@jupyter-widgets/controls",
       "_model_module_version": "2.0.0",
       "_model_name": "DescriptionStyleModel",
       "_view_count": null,
       "_view_module": "@jupyter-widgets/base",
       "_view_module_version": "2.0.0",
       "_view_name": "StyleView",
       "description_width": "initial"
      }
     },
     "2bb61eee8a6c4cb7aa43bad05152698c": {
      "model_module": "@jupyter-widgets/base",
      "model_module_version": "2.0.0",
      "model_name": "LayoutModel",
      "state": {
       "_model_module": "@jupyter-widgets/base",
       "_model_module_version": "2.0.0",
       "_model_name": "LayoutModel",
       "_view_count": null,
       "_view_module": "@jupyter-widgets/base",
       "_view_module_version": "2.0.0",
       "_view_name": "LayoutView",
       "align_content": null,
       "align_items": null,
       "align_self": null,
       "border_bottom": null,
       "border_left": null,
       "border_right": null,
       "border_top": null,
       "bottom": null,
       "display": null,
       "flex": null,
       "flex_flow": null,
       "grid_area": null,
       "grid_auto_columns": null,
       "grid_auto_flow": null,
       "grid_auto_rows": null,
       "grid_column": null,
       "grid_gap": null,
       "grid_row": null,
       "grid_template_areas": null,
       "grid_template_columns": null,
       "grid_template_rows": null,
       "height": null,
       "justify_content": null,
       "justify_items": null,
       "left": null,
       "margin": null,
       "max_height": null,
       "max_width": null,
       "min_height": null,
       "min_width": null,
       "object_fit": null,
       "object_position": null,
       "order": null,
       "overflow": null,
       "padding": null,
       "right": null,
       "top": null,
       "visibility": null,
       "width": null
      }
     },
     "2e75bc3889c944e2b49901a90546e93d": {
      "model_module": "@jupyter-widgets/base",
      "model_module_version": "2.0.0",
      "model_name": "LayoutModel",
      "state": {
       "_model_module": "@jupyter-widgets/base",
       "_model_module_version": "2.0.0",
       "_model_name": "LayoutModel",
       "_view_count": null,
       "_view_module": "@jupyter-widgets/base",
       "_view_module_version": "2.0.0",
       "_view_name": "LayoutView",
       "align_content": null,
       "align_items": null,
       "align_self": null,
       "border_bottom": null,
       "border_left": null,
       "border_right": null,
       "border_top": null,
       "bottom": null,
       "display": null,
       "flex": null,
       "flex_flow": null,
       "grid_area": null,
       "grid_auto_columns": null,
       "grid_auto_flow": null,
       "grid_auto_rows": null,
       "grid_column": null,
       "grid_gap": null,
       "grid_row": null,
       "grid_template_areas": null,
       "grid_template_columns": null,
       "grid_template_rows": null,
       "height": null,
       "justify_content": null,
       "justify_items": null,
       "left": null,
       "margin": null,
       "max_height": null,
       "max_width": null,
       "min_height": null,
       "min_width": null,
       "object_fit": null,
       "object_position": null,
       "order": null,
       "overflow": null,
       "padding": null,
       "right": null,
       "top": null,
       "visibility": null,
       "width": null
      }
     },
     "2e762f9d37914b9b998a1ca92503ecaf": {
      "model_module": "@jupyter-widgets/controls",
      "model_module_version": "2.0.0",
      "model_name": "DropdownModel",
      "state": {
       "_dom_classes": [],
       "_model_module": "@jupyter-widgets/controls",
       "_model_module_version": "2.0.0",
       "_model_name": "DropdownModel",
       "_options_labels": [
        "Jan",
        "Feb",
        "Mar",
        "Apr",
        "May",
        "Jun",
        "Jul",
        "Aug",
        "Sep",
        "Oct",
        "Nov",
        "Dec"
       ],
       "_view_count": null,
       "_view_module": "@jupyter-widgets/controls",
       "_view_module_version": "2.0.0",
       "_view_name": "DropdownView",
       "description": "Select Month:",
       "description_allow_html": false,
       "disabled": false,
       "index": 0,
       "layout": "IPY_MODEL_1caa41913a4d44149a9c3dcde4cd7e25",
       "style": "IPY_MODEL_b8583d8f7c8341e1b66c48196bf3993b",
       "tabbable": null,
       "tooltip": null
      }
     },
     "3801b3300da2413eaf363c104b5dc37d": {
      "model_module": "@jupyter-widgets/output",
      "model_module_version": "1.0.0",
      "model_name": "OutputModel",
      "state": {
       "_dom_classes": [],
       "_model_module": "@jupyter-widgets/output",
       "_model_module_version": "1.0.0",
       "_model_name": "OutputModel",
       "_view_count": null,
       "_view_module": "@jupyter-widgets/output",
       "_view_module_version": "1.0.0",
       "_view_name": "OutputView",
       "layout": "IPY_MODEL_1e34c1d450fd4f3db6a2e64c11feca90",
       "msg_id": "",
       "outputs": [
        {
         "data": {
          "image/png": "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\n",
          "text/plain": "<Figure size 1000x600 with 1 Axes>"
         },
         "metadata": {},
         "output_type": "display_data"
        }
       ],
       "tabbable": null,
       "tooltip": null
      }
     },
     "53f537cc700641e495b4d7fc15b65536": {
      "model_module": "@jupyter-widgets/controls",
      "model_module_version": "2.0.0",
      "model_name": "VBoxModel",
      "state": {
       "_dom_classes": [
        "widget-interact"
       ],
       "_model_module": "@jupyter-widgets/controls",
       "_model_module_version": "2.0.0",
       "_model_name": "VBoxModel",
       "_view_count": null,
       "_view_module": "@jupyter-widgets/controls",
       "_view_module_version": "2.0.0",
       "_view_name": "VBoxView",
       "box_style": "",
       "children": [
        "IPY_MODEL_1223820a55e3499c9ae06c9b735d092e",
        "IPY_MODEL_3801b3300da2413eaf363c104b5dc37d"
       ],
       "layout": "IPY_MODEL_2e75bc3889c944e2b49901a90546e93d",
       "tabbable": null,
       "tooltip": null
      }
     },
     "54d03c456ccc4f25a3928f6fcaf907b9": {
      "model_module": "@jupyter-widgets/controls",
      "model_module_version": "2.0.0",
      "model_name": "DescriptionStyleModel",
      "state": {
       "_model_module": "@jupyter-widgets/controls",
       "_model_module_version": "2.0.0",
       "_model_name": "DescriptionStyleModel",
       "_view_count": null,
       "_view_module": "@jupyter-widgets/base",
       "_view_module_version": "2.0.0",
       "_view_name": "StyleView",
       "description_width": "initial"
      }
     },
     "561803a08c5e44cea094468420243eff": {
      "model_module": "@jupyter-widgets/controls",
      "model_module_version": "2.0.0",
      "model_name": "VBoxModel",
      "state": {
       "_dom_classes": [
        "widget-interact"
       ],
       "_model_module": "@jupyter-widgets/controls",
       "_model_module_version": "2.0.0",
       "_model_name": "VBoxModel",
       "_view_count": null,
       "_view_module": "@jupyter-widgets/controls",
       "_view_module_version": "2.0.0",
       "_view_name": "VBoxView",
       "box_style": "",
       "children": [
        "IPY_MODEL_c9cd2cec86db42ada4a46fa7722b8b44",
        "IPY_MODEL_959cff68cadd47c0b97a74841f894ca2"
       ],
       "layout": "IPY_MODEL_88951bd7b3b84e73951e5501d7e9a397",
       "tabbable": null,
       "tooltip": null
      }
     },
     "6ff79920f924400f9d5debe6733c0279": {
      "model_module": "@jupyter-widgets/base",
      "model_module_version": "2.0.0",
      "model_name": "LayoutModel",
      "state": {
       "_model_module": "@jupyter-widgets/base",
       "_model_module_version": "2.0.0",
       "_model_name": "LayoutModel",
       "_view_count": null,
       "_view_module": "@jupyter-widgets/base",
       "_view_module_version": "2.0.0",
       "_view_name": "LayoutView",
       "align_content": null,
       "align_items": null,
       "align_self": null,
       "border_bottom": null,
       "border_left": null,
       "border_right": null,
       "border_top": null,
       "bottom": null,
       "display": null,
       "flex": null,
       "flex_flow": null,
       "grid_area": null,
       "grid_auto_columns": null,
       "grid_auto_flow": null,
       "grid_auto_rows": null,
       "grid_column": null,
       "grid_gap": null,
       "grid_row": null,
       "grid_template_areas": null,
       "grid_template_columns": null,
       "grid_template_rows": null,
       "height": null,
       "justify_content": null,
       "justify_items": null,
       "left": null,
       "margin": null,
       "max_height": null,
       "max_width": null,
       "min_height": null,
       "min_width": null,
       "object_fit": null,
       "object_position": null,
       "order": null,
       "overflow": null,
       "padding": null,
       "right": null,
       "top": null,
       "visibility": null,
       "width": null
      }
     },
     "88951bd7b3b84e73951e5501d7e9a397": {
      "model_module": "@jupyter-widgets/base",
      "model_module_version": "2.0.0",
      "model_name": "LayoutModel",
      "state": {
       "_model_module": "@jupyter-widgets/base",
       "_model_module_version": "2.0.0",
       "_model_name": "LayoutModel",
       "_view_count": null,
       "_view_module": "@jupyter-widgets/base",
       "_view_module_version": "2.0.0",
       "_view_name": "LayoutView",
       "align_content": null,
       "align_items": null,
       "align_self": null,
       "border_bottom": null,
       "border_left": null,
       "border_right": null,
       "border_top": null,
       "bottom": null,
       "display": null,
       "flex": null,
       "flex_flow": null,
       "grid_area": null,
       "grid_auto_columns": null,
       "grid_auto_flow": null,
       "grid_auto_rows": null,
       "grid_column": null,
       "grid_gap": null,
       "grid_row": null,
       "grid_template_areas": null,
       "grid_template_columns": null,
       "grid_template_rows": null,
       "height": null,
       "justify_content": null,
       "justify_items": null,
       "left": null,
       "margin": null,
       "max_height": null,
       "max_width": null,
       "min_height": null,
       "min_width": null,
       "object_fit": null,
       "object_position": null,
       "order": null,
       "overflow": null,
       "padding": null,
       "right": null,
       "top": null,
       "visibility": null,
       "width": null
      }
     },
     "959cff68cadd47c0b97a74841f894ca2": {
      "model_module": "@jupyter-widgets/output",
      "model_module_version": "1.0.0",
      "model_name": "OutputModel",
      "state": {
       "_dom_classes": [],
       "_model_module": "@jupyter-widgets/output",
       "_model_module_version": "1.0.0",
       "_model_name": "OutputModel",
       "_view_count": null,
       "_view_module": "@jupyter-widgets/output",
       "_view_module_version": "1.0.0",
       "_view_name": "OutputView",
       "layout": "IPY_MODEL_c155814eaf3645438f6fe6bdedce8f5f",
       "msg_id": "",
       "outputs": [
        {
         "data": {
          "image/png": "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\n",
          "text/plain": "<Figure size 800x800 with 1 Axes>"
         },
         "metadata": {},
         "output_type": "display_data"
        }
       ],
       "tabbable": null,
       "tooltip": null
      }
     },
     "9651ba0ffb8f47d196417572a4ae6ada": {
      "model_module": "@jupyter-widgets/base",
      "model_module_version": "2.0.0",
      "model_name": "LayoutModel",
      "state": {
       "_model_module": "@jupyter-widgets/base",
       "_model_module_version": "2.0.0",
       "_model_name": "LayoutModel",
       "_view_count": null,
       "_view_module": "@jupyter-widgets/base",
       "_view_module_version": "2.0.0",
       "_view_name": "LayoutView",
       "align_content": null,
       "align_items": null,
       "align_self": null,
       "border_bottom": null,
       "border_left": null,
       "border_right": null,
       "border_top": null,
       "bottom": null,
       "display": null,
       "flex": null,
       "flex_flow": null,
       "grid_area": null,
       "grid_auto_columns": null,
       "grid_auto_flow": null,
       "grid_auto_rows": null,
       "grid_column": null,
       "grid_gap": null,
       "grid_row": null,
       "grid_template_areas": null,
       "grid_template_columns": null,
       "grid_template_rows": null,
       "height": null,
       "justify_content": null,
       "justify_items": null,
       "left": null,
       "margin": null,
       "max_height": null,
       "max_width": null,
       "min_height": null,
       "min_width": null,
       "object_fit": null,
       "object_position": null,
       "order": null,
       "overflow": null,
       "padding": null,
       "right": null,
       "top": null,
       "visibility": null,
       "width": null
      }
     },
     "a00012a212134b0fab586a5ae862372a": {
      "model_module": "@jupyter-widgets/base",
      "model_module_version": "2.0.0",
      "model_name": "LayoutModel",
      "state": {
       "_model_module": "@jupyter-widgets/base",
       "_model_module_version": "2.0.0",
       "_model_name": "LayoutModel",
       "_view_count": null,
       "_view_module": "@jupyter-widgets/base",
       "_view_module_version": "2.0.0",
       "_view_name": "LayoutView",
       "align_content": null,
       "align_items": null,
       "align_self": null,
       "border_bottom": null,
       "border_left": null,
       "border_right": null,
       "border_top": null,
       "bottom": null,
       "display": null,
       "flex": null,
       "flex_flow": null,
       "grid_area": null,
       "grid_auto_columns": null,
       "grid_auto_flow": null,
       "grid_auto_rows": null,
       "grid_column": null,
       "grid_gap": null,
       "grid_row": null,
       "grid_template_areas": null,
       "grid_template_columns": null,
       "grid_template_rows": null,
       "height": null,
       "justify_content": null,
       "justify_items": null,
       "left": null,
       "margin": null,
       "max_height": null,
       "max_width": null,
       "min_height": null,
       "min_width": null,
       "object_fit": null,
       "object_position": null,
       "order": null,
       "overflow": null,
       "padding": null,
       "right": null,
       "top": null,
       "visibility": null,
       "width": null
      }
     },
     "a1982c50834d4ac697fd5f8729cb2d2d": {
      "model_module": "@jupyter-widgets/base",
      "model_module_version": "2.0.0",
      "model_name": "LayoutModel",
      "state": {
       "_model_module": "@jupyter-widgets/base",
       "_model_module_version": "2.0.0",
       "_model_name": "LayoutModel",
       "_view_count": null,
       "_view_module": "@jupyter-widgets/base",
       "_view_module_version": "2.0.0",
       "_view_name": "LayoutView",
       "align_content": null,
       "align_items": null,
       "align_self": null,
       "border_bottom": null,
       "border_left": null,
       "border_right": null,
       "border_top": null,
       "bottom": null,
       "display": null,
       "flex": null,
       "flex_flow": null,
       "grid_area": null,
       "grid_auto_columns": null,
       "grid_auto_flow": null,
       "grid_auto_rows": null,
       "grid_column": null,
       "grid_gap": null,
       "grid_row": null,
       "grid_template_areas": null,
       "grid_template_columns": null,
       "grid_template_rows": null,
       "height": null,
       "justify_content": null,
       "justify_items": null,
       "left": null,
       "margin": null,
       "max_height": null,
       "max_width": null,
       "min_height": null,
       "min_width": null,
       "object_fit": null,
       "object_position": null,
       "order": null,
       "overflow": null,
       "padding": null,
       "right": null,
       "top": null,
       "visibility": null,
       "width": null
      }
     },
     "b8583d8f7c8341e1b66c48196bf3993b": {
      "model_module": "@jupyter-widgets/controls",
      "model_module_version": "2.0.0",
      "model_name": "DescriptionStyleModel",
      "state": {
       "_model_module": "@jupyter-widgets/controls",
       "_model_module_version": "2.0.0",
       "_model_name": "DescriptionStyleModel",
       "_view_count": null,
       "_view_module": "@jupyter-widgets/base",
       "_view_module_version": "2.0.0",
       "_view_name": "StyleView",
       "description_width": "initial"
      }
     },
     "c155814eaf3645438f6fe6bdedce8f5f": {
      "model_module": "@jupyter-widgets/base",
      "model_module_version": "2.0.0",
      "model_name": "LayoutModel",
      "state": {
       "_model_module": "@jupyter-widgets/base",
       "_model_module_version": "2.0.0",
       "_model_name": "LayoutModel",
       "_view_count": null,
       "_view_module": "@jupyter-widgets/base",
       "_view_module_version": "2.0.0",
       "_view_name": "LayoutView",
       "align_content": null,
       "align_items": null,
       "align_self": null,
       "border_bottom": null,
       "border_left": null,
       "border_right": null,
       "border_top": null,
       "bottom": null,
       "display": null,
       "flex": null,
       "flex_flow": null,
       "grid_area": null,
       "grid_auto_columns": null,
       "grid_auto_flow": null,
       "grid_auto_rows": null,
       "grid_column": null,
       "grid_gap": null,
       "grid_row": null,
       "grid_template_areas": null,
       "grid_template_columns": null,
       "grid_template_rows": null,
       "height": null,
       "justify_content": null,
       "justify_items": null,
       "left": null,
       "margin": null,
       "max_height": null,
       "max_width": null,
       "min_height": null,
       "min_width": null,
       "object_fit": null,
       "object_position": null,
       "order": null,
       "overflow": null,
       "padding": null,
       "right": null,
       "top": null,
       "visibility": null,
       "width": null
      }
     },
     "c9cd2cec86db42ada4a46fa7722b8b44": {
      "model_module": "@jupyter-widgets/controls",
      "model_module_version": "2.0.0",
      "model_name": "DropdownModel",
      "state": {
       "_dom_classes": [],
       "_model_module": "@jupyter-widgets/controls",
       "_model_module_version": "2.0.0",
       "_model_name": "DropdownModel",
       "_options_labels": [
        "2022",
        "2023",
        "2024",
        "2025"
       ],
       "_view_count": null,
       "_view_module": "@jupyter-widgets/controls",
       "_view_module_version": "2.0.0",
       "_view_name": "DropdownView",
       "description": "Select Year:",
       "description_allow_html": false,
       "disabled": false,
       "index": 0,
       "layout": "IPY_MODEL_9651ba0ffb8f47d196417572a4ae6ada",
       "style": "IPY_MODEL_2a67a782fde74b41a824e90a2d750507",
       "tabbable": null,
       "tooltip": null
      }
     },
     "d42e8265e99f412f894481862bdaadf3": {
      "model_module": "@jupyter-widgets/controls",
      "model_module_version": "2.0.0",
      "model_name": "DescriptionStyleModel",
      "state": {
       "_model_module": "@jupyter-widgets/controls",
       "_model_module_version": "2.0.0",
       "_model_name": "DescriptionStyleModel",
       "_view_count": null,
       "_view_module": "@jupyter-widgets/base",
       "_view_module_version": "2.0.0",
       "_view_name": "StyleView",
       "description_width": "initial"
      }
     },
     "e5e3c88c1ef74f92801e9f9b8341408e": {
      "model_module": "@jupyter-widgets/controls",
      "model_module_version": "2.0.0",
      "model_name": "DropdownModel",
      "state": {
       "_dom_classes": [],
       "_model_module": "@jupyter-widgets/controls",
       "_model_module_version": "2.0.0",
       "_model_name": "DropdownModel",
       "_options_labels": [
        "2022",
        "2023",
        "2024",
        "2025"
       ],
       "_view_count": null,
       "_view_module": "@jupyter-widgets/controls",
       "_view_module_version": "2.0.0",
       "_view_name": "DropdownView",
       "description": "Select Year:",
       "description_allow_html": false,
       "disabled": false,
       "index": 0,
       "layout": "IPY_MODEL_2bb61eee8a6c4cb7aa43bad05152698c",
       "style": "IPY_MODEL_54d03c456ccc4f25a3928f6fcaf907b9",
       "tabbable": null,
       "tooltip": null
      }
     },
     "f5754408212e40deaa638273e425bcda": {
      "model_module": "@jupyter-widgets/output",
      "model_module_version": "1.0.0",
      "model_name": "OutputModel",
      "state": {
       "_dom_classes": [],
       "_model_module": "@jupyter-widgets/output",
       "_model_module_version": "1.0.0",
       "_model_name": "OutputModel",
       "_view_count": null,
       "_view_module": "@jupyter-widgets/output",
       "_view_module_version": "1.0.0",
       "_view_name": "OutputView",
       "layout": "IPY_MODEL_a1982c50834d4ac697fd5f8729cb2d2d",
       "msg_id": "",
       "outputs": [
        {
         "name": "stdout",
         "output_type": "stream",
         "text": "No data available for Jan 2022\n"
        }
       ],
       "tabbable": null,
       "tooltip": null
      }
     }
    },
    "version_major": 2,
    "version_minor": 0
   }
  }
 },
 "nbformat": 4,
 "nbformat_minor": 5
}
