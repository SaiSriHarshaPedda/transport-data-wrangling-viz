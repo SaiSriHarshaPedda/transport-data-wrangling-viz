{
 "cells": [
  {
   "cell_type": "code",
   "execution_count": 1,
   "id": "20f89e58",
   "metadata": {
    "_cell_guid": "b1076dfc-b9ad-4769-8c92-a6c4dae69d19",
    "_uuid": "8f2839f25d086af736a60e9eeb907d3b93b6e0e5",
    "execution": {
     "iopub.execute_input": "2025-03-06T17:28:00.644027Z",
     "iopub.status.busy": "2025-03-06T17:28:00.643460Z",
     "iopub.status.idle": "2025-03-06T17:28:01.837156Z",
     "shell.execute_reply": "2025-03-06T17:28:01.835977Z"
    },
    "papermill": {
     "duration": 1.207797,
     "end_time": "2025-03-06T17:28:01.839198",
     "exception": false,
     "start_time": "2025-03-06T17:28:00.631401",
     "status": "completed"
    },
    "tags": []
   },
   "outputs": [
    {
     "name": "stdout",
     "output_type": "stream",
     "text": [
      "/kaggle/input/transport-details/DEVASHREE NEW 2024 2.xlsx\n"
     ]
    }
   ],
   "source": [
    "# This Python 3 environment comes with many helpful analytics libraries installed\n",
    "# It is defined by the kaggle/python Docker image: https://github.com/kaggle/docker-python\n",
    "# For example, here's several helpful packages to load\n",
    "\n",
    "import numpy as np # linear algebra\n",
    "import pandas as pd # data processing, CSV file I/O (e.g. pd.read_csv)\n",
    "\n",
    "# Input data files are available in the read-only \"../input/\" directory\n",
    "# For example, running this (by clicking run or pressing Shift+Enter) will list all files under the input directory\n",
    "\n",
    "import os\n",
    "for dirname, _, filenames in os.walk('/kaggle/input'):\n",
    "    for filename in filenames:\n",
    "        print(os.path.join(dirname, filename))\n",
    "\n",
    "# You can write up to 20GB to the current directory (/kaggle/working/) that gets preserved as output when you create a version using \"Save & Run All\" \n",
    "# You can also write temporary files to /kaggle/temp/, but they won't be saved outside of the current session"
   ]
  },
  {
   "cell_type": "code",
   "execution_count": 2,
   "id": "3d1aa616",
   "metadata": {
    "execution": {
     "iopub.execute_input": "2025-03-06T17:28:01.857605Z",
     "iopub.status.busy": "2025-03-06T17:28:01.857105Z",
     "iopub.status.idle": "2025-03-06T17:28:01.861327Z",
     "shell.execute_reply": "2025-03-06T17:28:01.860209Z"
    },
    "papermill": {
     "duration": 0.015081,
     "end_time": "2025-03-06T17:28:01.863065",
     "exception": false,
     "start_time": "2025-03-06T17:28:01.847984",
     "status": "completed"
    },
    "tags": []
   },
   "outputs": [],
   "source": [
    "file_path='/kaggle/input/transport-details/DEVASHREE NEW 2024 2.xlsx'"
   ]
  },
  {
   "cell_type": "code",
   "execution_count": 3,
   "id": "e1590ef3",
   "metadata": {
    "execution": {
     "iopub.execute_input": "2025-03-06T17:28:01.881324Z",
     "iopub.status.busy": "2025-03-06T17:28:01.880984Z",
     "iopub.status.idle": "2025-03-06T17:28:05.853341Z",
     "shell.execute_reply": "2025-03-06T17:28:05.852000Z"
    },
    "papermill": {
     "duration": 3.98394,
     "end_time": "2025-03-06T17:28:05.855471",
     "exception": false,
     "start_time": "2025-03-06T17:28:01.871531",
     "status": "completed"
    },
    "tags": []
   },
   "outputs": [],
   "source": [
    "df=pd.read_excel(file_path,sheet_name='Sheet1',usecols=range(8))"
   ]
  },
  {
   "cell_type": "code",
   "execution_count": 4,
   "id": "79d11ab4",
   "metadata": {
    "execution": {
     "iopub.execute_input": "2025-03-06T17:28:05.878018Z",
     "iopub.status.busy": "2025-03-06T17:28:05.877399Z",
     "iopub.status.idle": "2025-03-06T17:28:05.894116Z",
     "shell.execute_reply": "2025-03-06T17:28:05.892598Z"
    },
    "papermill": {
     "duration": 0.031781,
     "end_time": "2025-03-06T17:28:05.896626",
     "exception": false,
     "start_time": "2025-03-06T17:28:05.864845",
     "status": "completed"
    },
    "tags": []
   },
   "outputs": [
    {
     "data": {
      "text/plain": [
       "LO DATE       object\n",
       "UN DATE       object\n",
       "PARTY         object\n",
       "VECHILE NO    object\n",
       "GC            object\n",
       "L.W           object\n",
       "FRIGHT        object\n",
       "TOTAL         object\n",
       "dtype: object"
      ]
     },
     "execution_count": 4,
     "metadata": {},
     "output_type": "execute_result"
    }
   ],
   "source": [
    "df.dtypes"
   ]
  },
  {
   "cell_type": "code",
   "execution_count": 5,
   "id": "baa20048",
   "metadata": {
    "execution": {
     "iopub.execute_input": "2025-03-06T17:28:05.916248Z",
     "iopub.status.busy": "2025-03-06T17:28:05.915823Z",
     "iopub.status.idle": "2025-03-06T17:28:06.124420Z",
     "shell.execute_reply": "2025-03-06T17:28:06.123104Z"
    },
    "papermill": {
     "duration": 0.220457,
     "end_time": "2025-03-06T17:28:06.126277",
     "exception": false,
     "start_time": "2025-03-06T17:28:05.905820",
     "status": "completed"
    },
    "tags": []
   },
   "outputs": [
    {
     "data": {
      "text/html": [
       "<div>\n",
       "<style scoped>\n",
       "    .dataframe tbody tr th:only-of-type {\n",
       "        vertical-align: middle;\n",
       "    }\n",
       "\n",
       "    .dataframe tbody tr th {\n",
       "        vertical-align: top;\n",
       "    }\n",
       "\n",
       "    .dataframe thead th {\n",
       "        text-align: right;\n",
       "    }\n",
       "</style>\n",
       "<table border=\"1\" class=\"dataframe\">\n",
       "  <thead>\n",
       "    <tr style=\"text-align: right;\">\n",
       "      <th></th>\n",
       "      <th>LO DATE</th>\n",
       "      <th>UN DATE</th>\n",
       "      <th>PARTY</th>\n",
       "      <th>VECHILE NO</th>\n",
       "      <th>GC</th>\n",
       "      <th>L.W</th>\n",
       "      <th>FRIGHT</th>\n",
       "      <th>TOTAL</th>\n",
       "    </tr>\n",
       "  </thead>\n",
       "  <tbody>\n",
       "    <tr>\n",
       "      <th>0</th>\n",
       "      <td>2022-11-15 00:00:00</td>\n",
       "      <td>2022-11-17 00:00:00</td>\n",
       "      <td>JEEVAKA NETTING</td>\n",
       "      <td>TS07UF4929</td>\n",
       "      <td>132</td>\n",
       "      <td>51.75</td>\n",
       "      <td>NaN</td>\n",
       "      <td>NaN</td>\n",
       "    </tr>\n",
       "    <tr>\n",
       "      <th>1</th>\n",
       "      <td>2022-11-11 00:00:00</td>\n",
       "      <td>2022-11-15 00:00:00</td>\n",
       "      <td>JEEVAKA NETTING</td>\n",
       "      <td>TS06UA4712</td>\n",
       "      <td>03</td>\n",
       "      <td>48.99</td>\n",
       "      <td>NaN</td>\n",
       "      <td>NaN</td>\n",
       "    </tr>\n",
       "    <tr>\n",
       "      <th>2</th>\n",
       "      <td>2022-11-12 00:00:00</td>\n",
       "      <td>2022-11-15 00:00:00</td>\n",
       "      <td>JEEVAKA NETTING</td>\n",
       "      <td>TS07UA9099</td>\n",
       "      <td>12</td>\n",
       "      <td>46.94</td>\n",
       "      <td>NaN</td>\n",
       "      <td>NaN</td>\n",
       "    </tr>\n",
       "    <tr>\n",
       "      <th>3</th>\n",
       "      <td>2022-11-12 00:00:00</td>\n",
       "      <td>2022-11-13 00:00:00</td>\n",
       "      <td>JEEVAKA NETTING</td>\n",
       "      <td>TS06UC7272</td>\n",
       "      <td>13</td>\n",
       "      <td>55.31</td>\n",
       "      <td>NaN</td>\n",
       "      <td>NaN</td>\n",
       "    </tr>\n",
       "    <tr>\n",
       "      <th>4</th>\n",
       "      <td>2022-11-14 00:00:00</td>\n",
       "      <td>2022-11-16 00:00:00</td>\n",
       "      <td>SUSHMA</td>\n",
       "      <td>TS07UA3339</td>\n",
       "      <td>36</td>\n",
       "      <td>48.57</td>\n",
       "      <td>NaN</td>\n",
       "      <td>NaN</td>\n",
       "    </tr>\n",
       "  </tbody>\n",
       "</table>\n",
       "</div>"
      ],
      "text/plain": [
       "               LO DATE              UN DATE            PARTY  VECHILE NO   GC  \\\n",
       "0  2022-11-15 00:00:00  2022-11-17 00:00:00  JEEVAKA NETTING  TS07UF4929  132   \n",
       "1  2022-11-11 00:00:00  2022-11-15 00:00:00  JEEVAKA NETTING  TS06UA4712   03   \n",
       "2  2022-11-12 00:00:00  2022-11-15 00:00:00  JEEVAKA NETTING  TS07UA9099   12   \n",
       "3  2022-11-12 00:00:00  2022-11-13 00:00:00  JEEVAKA NETTING  TS06UC7272   13   \n",
       "4  2022-11-14 00:00:00  2022-11-16 00:00:00          SUSHMA   TS07UA3339   36   \n",
       "\n",
       "     L.W FRIGHT TOTAL  \n",
       "0  51.75    NaN   NaN  \n",
       "1  48.99    NaN   NaN  \n",
       "2  46.94    NaN   NaN  \n",
       "3  55.31    NaN   NaN  \n",
       "4  48.57    NaN   NaN  "
      ]
     },
     "execution_count": 5,
     "metadata": {},
     "output_type": "execute_result"
    }
   ],
   "source": [
    "df.head()"
   ]
  },
  {
   "cell_type": "code",
   "execution_count": 6,
   "id": "75ef4925",
   "metadata": {
    "execution": {
     "iopub.execute_input": "2025-03-06T17:28:06.145305Z",
     "iopub.status.busy": "2025-03-06T17:28:06.144889Z",
     "iopub.status.idle": "2025-03-06T17:28:07.078211Z",
     "shell.execute_reply": "2025-03-06T17:28:07.076817Z"
    },
    "papermill": {
     "duration": 0.946529,
     "end_time": "2025-03-06T17:28:07.081768",
     "exception": false,
     "start_time": "2025-03-06T17:28:06.135239",
     "status": "completed"
    },
    "tags": []
   },
   "outputs": [
    {
     "name": "stdout",
     "output_type": "stream",
     "text": [
      "               LO DATE              UN DATE            PARTY  VECHILE NO   GC  \\\n",
      "0  2022-11-15 00:00:00  2022-11-17 00:00:00  JEEVAKA NETTING  TS07UF4929  132   \n",
      "1  2022-11-11 00:00:00  2022-11-15 00:00:00  JEEVAKA NETTING  TS06UA4712   03   \n",
      "2  2022-11-12 00:00:00  2022-11-15 00:00:00  JEEVAKA NETTING  TS07UA9099   12   \n",
      "3  2022-11-12 00:00:00  2022-11-13 00:00:00  JEEVAKA NETTING  TS06UC7272   13   \n",
      "4  2022-11-14 00:00:00  2022-11-16 00:00:00          SUSHMA   TS07UA3339   36   \n",
      "\n",
      "     L.W FRIGHT TOTAL  \n",
      "0  51.75    NaN   NaN  \n",
      "1  48.99    NaN   NaN  \n",
      "2  46.94    NaN   NaN  \n",
      "3  55.31    NaN   NaN  \n",
      "4  48.57    NaN   NaN  \n"
     ]
    }
   ],
   "source": [
    "# Filter out rows containing header-like text \n",
    "df = df[~df.apply(lambda row: row.astype(str).str.contains('HEADER|LO DATE|UN DATE|PARTY|VECHILE NO|GC|L.W|FRIGHT|TOTAL', na=False).any(), axis=1)]\n",
    "\n",
    "# Reset the index of the cleaned dataframe\n",
    "df.reset_index(drop=True, inplace=True)\n",
    "\n",
    "# Display the cleaned dataframe\n",
    "print(df.head())"
   ]
  },
  {
   "cell_type": "code",
   "execution_count": 7,
   "id": "ab4f7b01",
   "metadata": {
    "execution": {
     "iopub.execute_input": "2025-03-06T17:28:07.101452Z",
     "iopub.status.busy": "2025-03-06T17:28:07.101096Z",
     "iopub.status.idle": "2025-03-06T17:28:07.113645Z",
     "shell.execute_reply": "2025-03-06T17:28:07.112401Z"
    },
    "papermill": {
     "duration": 0.024876,
     "end_time": "2025-03-06T17:28:07.115600",
     "exception": false,
     "start_time": "2025-03-06T17:28:07.090724",
     "status": "completed"
    },
    "tags": []
   },
   "outputs": [],
   "source": [
    "  # This will drop rows that are completely (NaN in all columns)\n",
    "df = df.dropna(how='all')\n"
   ]
  },
  {
   "cell_type": "code",
   "execution_count": 8,
   "id": "0ff1b2eb",
   "metadata": {
    "execution": {
     "iopub.execute_input": "2025-03-06T17:28:07.135698Z",
     "iopub.status.busy": "2025-03-06T17:28:07.135201Z",
     "iopub.status.idle": "2025-03-06T17:28:07.164201Z",
     "shell.execute_reply": "2025-03-06T17:28:07.162841Z"
    },
    "papermill": {
     "duration": 0.042412,
     "end_time": "2025-03-06T17:28:07.166808",
     "exception": false,
     "start_time": "2025-03-06T17:28:07.124396",
     "status": "completed"
    },
    "tags": []
   },
   "outputs": [],
   "source": [
    "df[['LO DATE', 'UN DATE']] = df[['LO DATE', 'UN DATE']].apply(pd.to_datetime, errors='coerce', format=\"%Y-%m-%d\")\n",
    "df[['PARTY', 'VECHILE NO']] = df[['PARTY', 'VECHILE NO']].astype(str)\n",
    "\n"
   ]
  },
  {
   "cell_type": "code",
   "execution_count": 9,
   "id": "dbe9bf2c",
   "metadata": {
    "execution": {
     "iopub.execute_input": "2025-03-06T17:28:07.188602Z",
     "iopub.status.busy": "2025-03-06T17:28:07.188105Z",
     "iopub.status.idle": "2025-03-06T17:28:07.206784Z",
     "shell.execute_reply": "2025-03-06T17:28:07.205416Z"
    },
    "papermill": {
     "duration": 0.03289,
     "end_time": "2025-03-06T17:28:07.209231",
     "exception": false,
     "start_time": "2025-03-06T17:28:07.176341",
     "status": "completed"
    },
    "tags": []
   },
   "outputs": [],
   "source": [
    "df[['GC', 'FRIGHT']] = df[['GC', 'FRIGHT']].apply(pd.to_numeric, errors='coerce')\n",
    "df[['GC', 'FRIGHT']] = df[['GC', 'FRIGHT']].astype('Int64')  # Optional: Convert to nullable Int64\n",
    "\n"
   ]
  },
  {
   "cell_type": "code",
   "execution_count": 10,
   "id": "ce45e1aa",
   "metadata": {
    "execution": {
     "iopub.execute_input": "2025-03-06T17:28:07.228798Z",
     "iopub.status.busy": "2025-03-06T17:28:07.228303Z",
     "iopub.status.idle": "2025-03-06T17:28:07.237333Z",
     "shell.execute_reply": "2025-03-06T17:28:07.236137Z"
    },
    "papermill": {
     "duration": 0.020815,
     "end_time": "2025-03-06T17:28:07.239244",
     "exception": false,
     "start_time": "2025-03-06T17:28:07.218429",
     "status": "completed"
    },
    "tags": []
   },
   "outputs": [
    {
     "data": {
      "text/plain": [
       "LO DATE       datetime64[ns]\n",
       "UN DATE       datetime64[ns]\n",
       "PARTY                 object\n",
       "VECHILE NO            object\n",
       "GC                     Int64\n",
       "L.W                   object\n",
       "FRIGHT                 Int64\n",
       "TOTAL                 object\n",
       "dtype: object"
      ]
     },
     "execution_count": 10,
     "metadata": {},
     "output_type": "execute_result"
    }
   ],
   "source": [
    "df.dtypes"
   ]
  },
  {
   "cell_type": "code",
   "execution_count": 11,
   "id": "74c23fa8",
   "metadata": {
    "execution": {
     "iopub.execute_input": "2025-03-06T17:28:07.258484Z",
     "iopub.status.busy": "2025-03-06T17:28:07.257968Z",
     "iopub.status.idle": "2025-03-06T17:28:07.273619Z",
     "shell.execute_reply": "2025-03-06T17:28:07.272409Z"
    },
    "papermill": {
     "duration": 0.027651,
     "end_time": "2025-03-06T17:28:07.275733",
     "exception": false,
     "start_time": "2025-03-06T17:28:07.248082",
     "status": "completed"
    },
    "tags": []
   },
   "outputs": [
    {
     "name": "stdout",
     "output_type": "stream",
     "text": [
      "        LO DATE    UN DATE                    PARTY            VECHILE NO  \\\n",
      "0    2022-11-15 2022-11-17          JEEVAKA NETTING            TS07UF4929   \n",
      "1    2022-11-11 2022-11-15          JEEVAKA NETTING            TS06UA4712   \n",
      "2    2022-11-12 2022-11-15          JEEVAKA NETTING            TS07UA9099   \n",
      "3    2022-11-12 2022-11-13          JEEVAKA NETTING            TS06UC7272   \n",
      "4    2022-11-14 2022-11-16                  SUSHMA             TS07UA3339   \n",
      "5    2022-11-15 2022-11-16                 ILC IRON            TS07UC0804   \n",
      "9    2022-11-13 2022-11-13          JEEVAKA NETTING            TS06UC6989   \n",
      "10   2022-11-15 2022-11-15          JEEVAKA NETTING            TS13UC0189   \n",
      "148         NaT        NaT                      nan  MANJUNATHA TRANSPORT   \n",
      "978  2023-11-25 2023-12-01      KAMINI IRON & STEEL            TS07UC0918   \n",
      "979  2023-11-28 2023-12-01      KAMINI IRON & STEEL            TS06UC7272   \n",
      "980  2023-11-30 2023-12-02    BAB AKHILA SAI JYOTHI            TS07UA9099   \n",
      "981  2023-11-29 2023-12-03      KAMINI IRON & STEEL            TS07UF4895   \n",
      "1101 2023-01-04        NaT                    43.45                   225   \n",
      "1102 2023-01-04        NaT                    45.28                   225   \n",
      "1746        NaT 2024-08-20            APPLE SURAIDO            TS06UB4762   \n",
      "1979 2024-10-17 2024-10-18  M/S KAMINI IRON & STEEL            TS06UA9945   \n",
      "\n",
      "        GC    L.W  FRIGHT    TOTAL  \n",
      "0      132  51.75    <NA>      NaN  \n",
      "1        3  48.99    <NA>      NaN  \n",
      "2       12  46.94    <NA>      NaN  \n",
      "3       13  55.31    <NA>      NaN  \n",
      "4       36  48.57    <NA>      NaN  \n",
      "5      127  51.27    <NA>      NaN  \n",
      "9       23  60.34    <NA>      NaN  \n",
      "10      22  60.44    <NA>      NaN  \n",
      "148   <NA>    NaN    <NA>      NaN  \n",
      "978   2691  44.03     950      NaN  \n",
      "979   2735  49.38     950      NaN  \n",
      "980   2757  46.41     950      NaN  \n",
      "981   2749  46.12     950      NaN  \n",
      "1101  <NA>    NaN    <NA>  9776.25  \n",
      "1102  <NA>    NaN    <NA>    10188  \n",
      "1746  1200  45.24     900    40716  \n",
      "1979  1787           1000      NaN  \n"
     ]
    }
   ],
   "source": [
    "#This displays all the rows where at least one value is NaN\n",
    "nan_rows = df[df.isna().any(axis=1)]\n",
    "print(nan_rows)"
   ]
  },
  {
   "cell_type": "code",
   "execution_count": 12,
   "id": "1dae2365",
   "metadata": {
    "execution": {
     "iopub.execute_input": "2025-03-06T17:28:07.296989Z",
     "iopub.status.busy": "2025-03-06T17:28:07.296481Z",
     "iopub.status.idle": "2025-03-06T17:28:07.310928Z",
     "shell.execute_reply": "2025-03-06T17:28:07.309492Z"
    },
    "papermill": {
     "duration": 0.027822,
     "end_time": "2025-03-06T17:28:07.312957",
     "exception": false,
     "start_time": "2025-03-06T17:28:07.285135",
     "status": "completed"
    },
    "tags": []
   },
   "outputs": [
    {
     "name": "stdout",
     "output_type": "stream",
     "text": [
      "        LO DATE    UN DATE          PARTY            VECHILE NO    GC    L.W  \\\n",
      "148         NaT        NaT            nan  MANJUNATHA TRANSPORT  <NA>    NaN   \n",
      "1101 2023-01-04        NaT          43.45                   225  <NA>    NaN   \n",
      "1102 2023-01-04        NaT          45.28                   225  <NA>    NaN   \n",
      "1746        NaT 2024-08-20  APPLE SURAIDO            TS06UB4762  1200  45.24   \n",
      "\n",
      "      FRIGHT    TOTAL  \n",
      "148     <NA>      NaN  \n",
      "1101    <NA>  9776.25  \n",
      "1102    <NA>    10188  \n",
      "1746     900    40716  \n"
     ]
    }
   ],
   "source": [
    "nan_rows = df[df[['LO DATE', 'UN DATE']].isna().any(axis=1)]\n",
    "print(nan_rows)\n"
   ]
  },
  {
   "cell_type": "code",
   "execution_count": 13,
   "id": "11d64178",
   "metadata": {
    "execution": {
     "iopub.execute_input": "2025-03-06T17:28:07.335341Z",
     "iopub.status.busy": "2025-03-06T17:28:07.334832Z",
     "iopub.status.idle": "2025-03-06T17:28:07.339482Z",
     "shell.execute_reply": "2025-03-06T17:28:07.338376Z"
    },
    "papermill": {
     "duration": 0.016783,
     "end_time": "2025-03-06T17:28:07.341333",
     "exception": false,
     "start_time": "2025-03-06T17:28:07.324550",
     "status": "completed"
    },
    "tags": []
   },
   "outputs": [],
   "source": [
    "#df[['LO DATE', 'UN DATE']]=df[['LO DATE','UN DATE' ]].interpolate(method='linear')"
   ]
  },
  {
   "cell_type": "code",
   "execution_count": 14,
   "id": "d994805a",
   "metadata": {
    "execution": {
     "iopub.execute_input": "2025-03-06T17:28:07.362504Z",
     "iopub.status.busy": "2025-03-06T17:28:07.361954Z",
     "iopub.status.idle": "2025-03-06T17:28:07.371373Z",
     "shell.execute_reply": "2025-03-06T17:28:07.370167Z"
    },
    "papermill": {
     "duration": 0.023205,
     "end_time": "2025-03-06T17:28:07.373505",
     "exception": false,
     "start_time": "2025-03-06T17:28:07.350300",
     "status": "completed"
    },
    "tags": []
   },
   "outputs": [],
   "source": [
    "\n",
    "nan_rows1 = df[df['L.W'].isna()]  # Select rows where 'L.W' is NaN\n",
    "df = df.drop(nan_rows1.index)  # Drop these rows using their index"
   ]
  },
  {
   "cell_type": "code",
   "execution_count": 15,
   "id": "66ca3070",
   "metadata": {
    "execution": {
     "iopub.execute_input": "2025-03-06T17:28:07.394637Z",
     "iopub.status.busy": "2025-03-06T17:28:07.394163Z",
     "iopub.status.idle": "2025-03-06T17:28:07.400195Z",
     "shell.execute_reply": "2025-03-06T17:28:07.399032Z"
    },
    "papermill": {
     "duration": 0.019078,
     "end_time": "2025-03-06T17:28:07.402158",
     "exception": false,
     "start_time": "2025-03-06T17:28:07.383080",
     "status": "completed"
    },
    "tags": []
   },
   "outputs": [],
   "source": [
    "df['FRIGHT'] = df['FRIGHT'].fillna(900)\n"
   ]
  },
  {
   "cell_type": "code",
   "execution_count": 16,
   "id": "72356fff",
   "metadata": {
    "execution": {
     "iopub.execute_input": "2025-03-06T17:28:07.422016Z",
     "iopub.status.busy": "2025-03-06T17:28:07.421587Z",
     "iopub.status.idle": "2025-03-06T17:28:07.430615Z",
     "shell.execute_reply": "2025-03-06T17:28:07.429494Z"
    },
    "papermill": {
     "duration": 0.021114,
     "end_time": "2025-03-06T17:28:07.432609",
     "exception": false,
     "start_time": "2025-03-06T17:28:07.411495",
     "status": "completed"
    },
    "tags": []
   },
   "outputs": [],
   "source": [
    "#THERE IS A WRONG ENTRY WHERE LODATE=2002 WHICH IS ACTUALLY 2024 WE CAME ACROSS THIS ERROR WHILE PLOTTING SNS COUNTPLOT BY YEAR SO IAM REPLACING THAT\n",
    "df['LO DATE'] = df['LO DATE'].apply(lambda x: x.replace(year=2024) if x.year == 2002 else x)\n"
   ]
  },
  {
   "cell_type": "code",
   "execution_count": 17,
   "id": "78bef5b1",
   "metadata": {
    "execution": {
     "iopub.execute_input": "2025-03-06T17:28:07.451986Z",
     "iopub.status.busy": "2025-03-06T17:28:07.451501Z",
     "iopub.status.idle": "2025-03-06T17:28:07.459917Z",
     "shell.execute_reply": "2025-03-06T17:28:07.458792Z"
    },
    "papermill": {
     "duration": 0.020504,
     "end_time": "2025-03-06T17:28:07.462054",
     "exception": false,
     "start_time": "2025-03-06T17:28:07.441550",
     "status": "completed"
    },
    "tags": []
   },
   "outputs": [],
   "source": [
    "df['TOTAL'] = df['TOTAL'].fillna(df['FRIGHT'] * df['L.W'])\n"
   ]
  },
  {
   "cell_type": "code",
   "execution_count": 18,
   "id": "561b2526",
   "metadata": {
    "execution": {
     "iopub.execute_input": "2025-03-06T17:28:07.482499Z",
     "iopub.status.busy": "2025-03-06T17:28:07.482119Z",
     "iopub.status.idle": "2025-03-06T17:28:07.490569Z",
     "shell.execute_reply": "2025-03-06T17:28:07.489120Z"
    },
    "papermill": {
     "duration": 0.020689,
     "end_time": "2025-03-06T17:28:07.492570",
     "exception": false,
     "start_time": "2025-03-06T17:28:07.471881",
     "status": "completed"
    },
    "tags": []
   },
   "outputs": [
    {
     "name": "stdout",
     "output_type": "stream",
     "text": [
      "LO DATE       1\n",
      "UN DATE       0\n",
      "PARTY         0\n",
      "VECHILE NO    0\n",
      "GC            0\n",
      "L.W           0\n",
      "FRIGHT        0\n",
      "TOTAL         0\n",
      "dtype: int64\n"
     ]
    }
   ],
   "source": [
    "nan_count = df.isna().sum()  # Counts NaNs in each column\n",
    "print(nan_count)"
   ]
  },
  {
   "cell_type": "code",
   "execution_count": 19,
   "id": "9fd8cf62",
   "metadata": {
    "execution": {
     "iopub.execute_input": "2025-03-06T17:28:07.518510Z",
     "iopub.status.busy": "2025-03-06T17:28:07.518117Z",
     "iopub.status.idle": "2025-03-06T17:28:07.539234Z",
     "shell.execute_reply": "2025-03-06T17:28:07.537817Z"
    },
    "papermill": {
     "duration": 0.033308,
     "end_time": "2025-03-06T17:28:07.541222",
     "exception": false,
     "start_time": "2025-03-06T17:28:07.507914",
     "status": "completed"
    },
    "tags": []
   },
   "outputs": [
    {
     "name": "stdout",
     "output_type": "stream",
     "text": [
      "1\n",
      "     LO DATE    UN DATE          PARTY  VECHILE NO    GC    L.W  FRIGHT  TOTAL\n",
      "1746     NaT 2024-08-20  APPLE SURAIDO  TS06UB4762  1200  45.24     900  40716\n",
      "        LO DATE    UN DATE          PARTY  VECHILE NO    GC    L.W  FRIGHT  \\\n",
      "1746 2024-08-19 2024-08-20  APPLE SURAIDO  TS06UB4762  1200  45.24     900   \n",
      "\n",
      "      TOTAL  \n",
      "1746  40716  \n"
     ]
    }
   ],
   "source": [
    "print(df['LO DATE'].isna().sum())  # Count NaT values\n",
    "print(df[df['LO DATE'].isna()])\n",
    "df['LO DATE'] = df['LO DATE'].ffill()  \n",
    "print(df[df['GC'] == 1200])"
   ]
  },
  {
   "cell_type": "code",
   "execution_count": 20,
   "id": "2d19cff6",
   "metadata": {
    "execution": {
     "iopub.execute_input": "2025-03-06T17:28:07.561588Z",
     "iopub.status.busy": "2025-03-06T17:28:07.561194Z",
     "iopub.status.idle": "2025-03-06T17:28:07.579025Z",
     "shell.execute_reply": "2025-03-06T17:28:07.577772Z"
    },
    "papermill": {
     "duration": 0.03092,
     "end_time": "2025-03-06T17:28:07.581300",
     "exception": false,
     "start_time": "2025-03-06T17:28:07.550380",
     "status": "completed"
    },
    "tags": []
   },
   "outputs": [
    {
     "data": {
      "text/html": [
       "<div>\n",
       "<style scoped>\n",
       "    .dataframe tbody tr th:only-of-type {\n",
       "        vertical-align: middle;\n",
       "    }\n",
       "\n",
       "    .dataframe tbody tr th {\n",
       "        vertical-align: top;\n",
       "    }\n",
       "\n",
       "    .dataframe thead th {\n",
       "        text-align: right;\n",
       "    }\n",
       "</style>\n",
       "<table border=\"1\" class=\"dataframe\">\n",
       "  <thead>\n",
       "    <tr style=\"text-align: right;\">\n",
       "      <th></th>\n",
       "      <th>LO DATE</th>\n",
       "      <th>UN DATE</th>\n",
       "      <th>PARTY</th>\n",
       "      <th>VECHILE NO</th>\n",
       "      <th>GC</th>\n",
       "      <th>L.W</th>\n",
       "      <th>FRIGHT</th>\n",
       "      <th>TOTAL</th>\n",
       "    </tr>\n",
       "  </thead>\n",
       "  <tbody>\n",
       "    <tr>\n",
       "      <th>0</th>\n",
       "      <td>2022-11-15</td>\n",
       "      <td>2022-11-17</td>\n",
       "      <td>JEEVAKA NETTING</td>\n",
       "      <td>TS07UF4929</td>\n",
       "      <td>132</td>\n",
       "      <td>51.75</td>\n",
       "      <td>900</td>\n",
       "      <td>46575.0</td>\n",
       "    </tr>\n",
       "    <tr>\n",
       "      <th>1</th>\n",
       "      <td>2022-11-11</td>\n",
       "      <td>2022-11-15</td>\n",
       "      <td>JEEVAKA NETTING</td>\n",
       "      <td>TS06UA4712</td>\n",
       "      <td>3</td>\n",
       "      <td>48.99</td>\n",
       "      <td>900</td>\n",
       "      <td>44091.0</td>\n",
       "    </tr>\n",
       "    <tr>\n",
       "      <th>2</th>\n",
       "      <td>2022-11-12</td>\n",
       "      <td>2022-11-15</td>\n",
       "      <td>JEEVAKA NETTING</td>\n",
       "      <td>TS07UA9099</td>\n",
       "      <td>12</td>\n",
       "      <td>46.94</td>\n",
       "      <td>900</td>\n",
       "      <td>42246.0</td>\n",
       "    </tr>\n",
       "    <tr>\n",
       "      <th>3</th>\n",
       "      <td>2022-11-12</td>\n",
       "      <td>2022-11-13</td>\n",
       "      <td>JEEVAKA NETTING</td>\n",
       "      <td>TS06UC7272</td>\n",
       "      <td>13</td>\n",
       "      <td>55.31</td>\n",
       "      <td>900</td>\n",
       "      <td>49779.0</td>\n",
       "    </tr>\n",
       "    <tr>\n",
       "      <th>4</th>\n",
       "      <td>2022-11-14</td>\n",
       "      <td>2022-11-16</td>\n",
       "      <td>SUSHMA</td>\n",
       "      <td>TS07UA3339</td>\n",
       "      <td>36</td>\n",
       "      <td>48.57</td>\n",
       "      <td>900</td>\n",
       "      <td>43713.0</td>\n",
       "    </tr>\n",
       "    <tr>\n",
       "      <th>5</th>\n",
       "      <td>2022-11-15</td>\n",
       "      <td>2022-11-16</td>\n",
       "      <td>ILC IRON</td>\n",
       "      <td>TS07UC0804</td>\n",
       "      <td>127</td>\n",
       "      <td>51.27</td>\n",
       "      <td>900</td>\n",
       "      <td>46143.0</td>\n",
       "    </tr>\n",
       "    <tr>\n",
       "      <th>9</th>\n",
       "      <td>2022-11-13</td>\n",
       "      <td>2022-11-13</td>\n",
       "      <td>JEEVAKA NETTING</td>\n",
       "      <td>TS06UC6989</td>\n",
       "      <td>23</td>\n",
       "      <td>60.34</td>\n",
       "      <td>900</td>\n",
       "      <td>54306.0</td>\n",
       "    </tr>\n",
       "    <tr>\n",
       "      <th>10</th>\n",
       "      <td>2022-11-15</td>\n",
       "      <td>2022-11-15</td>\n",
       "      <td>JEEVAKA NETTING</td>\n",
       "      <td>TS13UC0189</td>\n",
       "      <td>22</td>\n",
       "      <td>60.44</td>\n",
       "      <td>900</td>\n",
       "      <td>54396.0</td>\n",
       "    </tr>\n",
       "    <tr>\n",
       "      <th>14</th>\n",
       "      <td>2022-11-16</td>\n",
       "      <td>2022-11-18</td>\n",
       "      <td>APPLE SURAIDO</td>\n",
       "      <td>TS07UC0803</td>\n",
       "      <td>140</td>\n",
       "      <td>45.38</td>\n",
       "      <td>900</td>\n",
       "      <td>40842</td>\n",
       "    </tr>\n",
       "    <tr>\n",
       "      <th>15</th>\n",
       "      <td>2022-11-18</td>\n",
       "      <td>2022-11-19</td>\n",
       "      <td>KAMINI IRON</td>\n",
       "      <td>TS08UD2789</td>\n",
       "      <td>197</td>\n",
       "      <td>52.44</td>\n",
       "      <td>900</td>\n",
       "      <td>47196</td>\n",
       "    </tr>\n",
       "    <tr>\n",
       "      <th>16</th>\n",
       "      <td>2022-11-17</td>\n",
       "      <td>2022-11-18</td>\n",
       "      <td>JEEVAKA NETTING</td>\n",
       "      <td>TS07UF3789</td>\n",
       "      <td>178</td>\n",
       "      <td>47.71</td>\n",
       "      <td>900</td>\n",
       "      <td>42939</td>\n",
       "    </tr>\n",
       "    <tr>\n",
       "      <th>17</th>\n",
       "      <td>2022-11-17</td>\n",
       "      <td>2022-11-19</td>\n",
       "      <td>JEEVAKA NETTING</td>\n",
       "      <td>TS06UB1529</td>\n",
       "      <td>172</td>\n",
       "      <td>49.06</td>\n",
       "      <td>900</td>\n",
       "      <td>44154</td>\n",
       "    </tr>\n",
       "    <tr>\n",
       "      <th>18</th>\n",
       "      <td>2022-11-18</td>\n",
       "      <td>2022-11-19</td>\n",
       "      <td>KAMINI IRON</td>\n",
       "      <td>TS31T1988</td>\n",
       "      <td>210</td>\n",
       "      <td>45.8</td>\n",
       "      <td>900</td>\n",
       "      <td>41220</td>\n",
       "    </tr>\n",
       "    <tr>\n",
       "      <th>19</th>\n",
       "      <td>2022-11-17</td>\n",
       "      <td>2022-11-18</td>\n",
       "      <td>JEEVAKA NETTING</td>\n",
       "      <td>TS07UH2624</td>\n",
       "      <td>208</td>\n",
       "      <td>55.83</td>\n",
       "      <td>900</td>\n",
       "      <td>50247</td>\n",
       "    </tr>\n",
       "    <tr>\n",
       "      <th>20</th>\n",
       "      <td>2022-11-18</td>\n",
       "      <td>2022-11-19</td>\n",
       "      <td>APPLE SURAIDO</td>\n",
       "      <td>TS07UH4527</td>\n",
       "      <td>190</td>\n",
       "      <td>46.08</td>\n",
       "      <td>900</td>\n",
       "      <td>41472</td>\n",
       "    </tr>\n",
       "    <tr>\n",
       "      <th>21</th>\n",
       "      <td>2022-11-18</td>\n",
       "      <td>2022-11-19</td>\n",
       "      <td>JEEVAKA NETTING</td>\n",
       "      <td>TS07UF5679</td>\n",
       "      <td>222</td>\n",
       "      <td>50.79</td>\n",
       "      <td>900</td>\n",
       "      <td>45711</td>\n",
       "    </tr>\n",
       "    <tr>\n",
       "      <th>25</th>\n",
       "      <td>2022-11-21</td>\n",
       "      <td>2022-11-22</td>\n",
       "      <td>SHREE MAHAVIR</td>\n",
       "      <td>TS06UA4712</td>\n",
       "      <td>264</td>\n",
       "      <td>46.08</td>\n",
       "      <td>900</td>\n",
       "      <td>41472</td>\n",
       "    </tr>\n",
       "    <tr>\n",
       "      <th>26</th>\n",
       "      <td>2022-11-20</td>\n",
       "      <td>2022-11-21</td>\n",
       "      <td>SHREE MAHAVIR</td>\n",
       "      <td>TS06UB1158</td>\n",
       "      <td>250</td>\n",
       "      <td>46.82</td>\n",
       "      <td>900</td>\n",
       "      <td>42138</td>\n",
       "    </tr>\n",
       "    <tr>\n",
       "      <th>27</th>\n",
       "      <td>2022-11-19</td>\n",
       "      <td>2022-11-20</td>\n",
       "      <td>JEEVAKA NETTING</td>\n",
       "      <td>TS07UC7799</td>\n",
       "      <td>242</td>\n",
       "      <td>54.65</td>\n",
       "      <td>900</td>\n",
       "      <td>49185</td>\n",
       "    </tr>\n",
       "    <tr>\n",
       "      <th>28</th>\n",
       "      <td>2022-11-19</td>\n",
       "      <td>2022-11-21</td>\n",
       "      <td>JEEVAKA NETTING</td>\n",
       "      <td>AP35X7665</td>\n",
       "      <td>243</td>\n",
       "      <td>42.02</td>\n",
       "      <td>900</td>\n",
       "      <td>37818</td>\n",
       "    </tr>\n",
       "    <tr>\n",
       "      <th>29</th>\n",
       "      <td>2022-11-21</td>\n",
       "      <td>2022-11-22</td>\n",
       "      <td>APPLE SURAIDO</td>\n",
       "      <td>AP28TD0788</td>\n",
       "      <td>256</td>\n",
       "      <td>44.26</td>\n",
       "      <td>900</td>\n",
       "      <td>39834</td>\n",
       "    </tr>\n",
       "    <tr>\n",
       "      <th>30</th>\n",
       "      <td>2022-11-21</td>\n",
       "      <td>2022-11-22</td>\n",
       "      <td>KAMINI IRON</td>\n",
       "      <td>TS07UA9099</td>\n",
       "      <td>265</td>\n",
       "      <td>45.5</td>\n",
       "      <td>900</td>\n",
       "      <td>40950</td>\n",
       "    </tr>\n",
       "    <tr>\n",
       "      <th>34</th>\n",
       "      <td>2022-11-22</td>\n",
       "      <td>2022-11-23</td>\n",
       "      <td>APPLE SURAIDO</td>\n",
       "      <td>TS07UC0804</td>\n",
       "      <td>278</td>\n",
       "      <td>44.96</td>\n",
       "      <td>900</td>\n",
       "      <td>40464</td>\n",
       "    </tr>\n",
       "    <tr>\n",
       "      <th>35</th>\n",
       "      <td>2022-11-22</td>\n",
       "      <td>2022-11-23</td>\n",
       "      <td>SHREE MAHAVIR</td>\n",
       "      <td>TS06UA9279</td>\n",
       "      <td>287</td>\n",
       "      <td>43.89</td>\n",
       "      <td>900</td>\n",
       "      <td>39501</td>\n",
       "    </tr>\n",
       "    <tr>\n",
       "      <th>36</th>\n",
       "      <td>2022-11-23</td>\n",
       "      <td>2022-11-24</td>\n",
       "      <td>APPLE SURAIDO</td>\n",
       "      <td>TS31T1988</td>\n",
       "      <td>290</td>\n",
       "      <td>45.32</td>\n",
       "      <td>900</td>\n",
       "      <td>40788</td>\n",
       "    </tr>\n",
       "  </tbody>\n",
       "</table>\n",
       "</div>"
      ],
      "text/plain": [
       "      LO DATE    UN DATE            PARTY  VECHILE NO   GC    L.W  FRIGHT  \\\n",
       "0  2022-11-15 2022-11-17  JEEVAKA NETTING  TS07UF4929  132  51.75     900   \n",
       "1  2022-11-11 2022-11-15  JEEVAKA NETTING  TS06UA4712    3  48.99     900   \n",
       "2  2022-11-12 2022-11-15  JEEVAKA NETTING  TS07UA9099   12  46.94     900   \n",
       "3  2022-11-12 2022-11-13  JEEVAKA NETTING  TS06UC7272   13  55.31     900   \n",
       "4  2022-11-14 2022-11-16          SUSHMA   TS07UA3339   36  48.57     900   \n",
       "5  2022-11-15 2022-11-16         ILC IRON  TS07UC0804  127  51.27     900   \n",
       "9  2022-11-13 2022-11-13  JEEVAKA NETTING  TS06UC6989   23  60.34     900   \n",
       "10 2022-11-15 2022-11-15  JEEVAKA NETTING  TS13UC0189   22  60.44     900   \n",
       "14 2022-11-16 2022-11-18    APPLE SURAIDO  TS07UC0803  140  45.38     900   \n",
       "15 2022-11-18 2022-11-19      KAMINI IRON  TS08UD2789  197  52.44     900   \n",
       "16 2022-11-17 2022-11-18  JEEVAKA NETTING  TS07UF3789  178  47.71     900   \n",
       "17 2022-11-17 2022-11-19  JEEVAKA NETTING  TS06UB1529  172  49.06     900   \n",
       "18 2022-11-18 2022-11-19      KAMINI IRON   TS31T1988  210   45.8     900   \n",
       "19 2022-11-17 2022-11-18  JEEVAKA NETTING  TS07UH2624  208  55.83     900   \n",
       "20 2022-11-18 2022-11-19    APPLE SURAIDO  TS07UH4527  190  46.08     900   \n",
       "21 2022-11-18 2022-11-19  JEEVAKA NETTING  TS07UF5679  222  50.79     900   \n",
       "25 2022-11-21 2022-11-22    SHREE MAHAVIR  TS06UA4712  264  46.08     900   \n",
       "26 2022-11-20 2022-11-21    SHREE MAHAVIR  TS06UB1158  250  46.82     900   \n",
       "27 2022-11-19 2022-11-20  JEEVAKA NETTING  TS07UC7799  242  54.65     900   \n",
       "28 2022-11-19 2022-11-21  JEEVAKA NETTING   AP35X7665  243  42.02     900   \n",
       "29 2022-11-21 2022-11-22    APPLE SURAIDO  AP28TD0788  256  44.26     900   \n",
       "30 2022-11-21 2022-11-22      KAMINI IRON  TS07UA9099  265   45.5     900   \n",
       "34 2022-11-22 2022-11-23    APPLE SURAIDO  TS07UC0804  278  44.96     900   \n",
       "35 2022-11-22 2022-11-23    SHREE MAHAVIR  TS06UA9279  287  43.89     900   \n",
       "36 2022-11-23 2022-11-24    APPLE SURAIDO   TS31T1988  290  45.32     900   \n",
       "\n",
       "      TOTAL  \n",
       "0   46575.0  \n",
       "1   44091.0  \n",
       "2   42246.0  \n",
       "3   49779.0  \n",
       "4   43713.0  \n",
       "5   46143.0  \n",
       "9   54306.0  \n",
       "10  54396.0  \n",
       "14    40842  \n",
       "15    47196  \n",
       "16    42939  \n",
       "17    44154  \n",
       "18    41220  \n",
       "19    50247  \n",
       "20    41472  \n",
       "21    45711  \n",
       "25    41472  \n",
       "26    42138  \n",
       "27    49185  \n",
       "28    37818  \n",
       "29    39834  \n",
       "30    40950  \n",
       "34    40464  \n",
       "35    39501  \n",
       "36    40788  "
      ]
     },
     "execution_count": 20,
     "metadata": {},
     "output_type": "execute_result"
    }
   ],
   "source": [
    "df.head(25)"
   ]
  },
  {
   "cell_type": "code",
   "execution_count": 21,
   "id": "2d69aa20",
   "metadata": {
    "execution": {
     "iopub.execute_input": "2025-03-06T17:28:07.610490Z",
     "iopub.status.busy": "2025-03-06T17:28:07.610081Z",
     "iopub.status.idle": "2025-03-06T17:28:07.622337Z",
     "shell.execute_reply": "2025-03-06T17:28:07.621035Z"
    },
    "papermill": {
     "duration": 0.025747,
     "end_time": "2025-03-06T17:28:07.625072",
     "exception": false,
     "start_time": "2025-03-06T17:28:07.599325",
     "status": "completed"
    },
    "tags": []
   },
   "outputs": [
    {
     "name": "stdout",
     "output_type": "stream",
     "text": [
      "PARTY\n",
      "APPLE SURAIDO                  148\n",
      "KAMINI IRON & STEEL            108\n",
      "JEEVAKA NETTING                 87\n",
      "ILC IRON & STEEL                60\n",
      "AARAL MARKETING                 48\n",
      "M/S KAMINI IRON & STEEL         47\n",
      "M/S AARAL MARKETING             45\n",
      "M/S JEEVAKA NETTING             44\n",
      "BABA AKHILA SAI JYOTHI          40\n",
      "M/S APPLE SURAIDO FITTING       35\n",
      "M/S I.L.C IRON & STEEL          33\n",
      "M/S APPLE SURAIDO FITTINGS      32\n",
      "M/S APPLE SURAIDO               30\n",
      "KAMINI IRON                     28\n",
      "M/S KOTHARI ISPAT               26\n",
      "M/S SWASTIK STEELS              25\n",
      "KANIKA ISPAT                    24\n",
      "VANYA STEELS                    23\n",
      "M/S RAJENDER METALLIC           22\n",
      "A.S IRON & STEEL                20\n",
      "RAJENDER METALLICS              18\n",
      "SD CORP                         18\n",
      "M/S AKASH STEELS                17\n",
      "M/S KAMINI IRON & STEELS        16\n",
      "KAMINI IRON AND STEEL           15\n",
      "M/S VANYA STEELS                14\n",
      "TN COMMERCIAL                   14\n",
      "M/S KAMINI IRON                 13\n",
      "M/S SRI KRISHNA STEELS          13\n",
      "SHREE MAHAVIR                   13\n",
      "M/S SUSHMA SALES                13\n",
      "M/S ARCHANA IRON TRADERS        12\n",
      "M/S S.D CORP                    12\n",
      "M/S KANIKA ISPAT                12\n",
      "ARCHANA IRON                    11\n",
      "M/S SATVIK GLOBAL               11\n",
      "M/S ANUPAM FUELS                11\n",
      "M/S BABA AKHILA JYOTHI          10\n",
      "SATVIK GLOBAL                   10\n",
      "KAMINI IRON &STEEL              10\n",
      "RAM SHYAM ENTERPRISES           10\n",
      "M/S SHREE MAHAVIR STEELS        10\n",
      "M/S ILC IRON & STEEL             9\n",
      "BHADRASHREE STEEL                9\n",
      "T N COMMERCIALS                  9\n",
      "SRI KRISHNA STEELS               8\n",
      "M/S T.N COMMERCIAL               8\n",
      "M/S VANYA STEELS                 8\n",
      "SHREE MAHAVIR STEELS             8\n",
      "I.L.C IRON & STEEL               8\n",
      "KARNATAKA FERRO                  8\n",
      "T N COMMERCIAL                   7\n",
      "VANYA STEEL                      7\n",
      "M/S SHARMA STEELS                7\n",
      "RAJENDRA METALLICS               6\n",
      "S.D CORPORATION                  6\n",
      "SHREE MAHAVIR STEEL              6\n",
      "M/S APPLE SURAIDO FIITTINGS      6\n",
      "A S IRON & STEEL                 6\n",
      "M/S RAJENDER METTALIC            6\n",
      "Name: count, dtype: int64\n"
     ]
    }
   ],
   "source": [
    "counts = df['PARTY'].value_counts()\n",
    "print((counts.head(60)))\n"
   ]
  },
  {
   "cell_type": "code",
   "execution_count": 22,
   "id": "3252bfb2",
   "metadata": {
    "execution": {
     "iopub.execute_input": "2025-03-06T17:28:07.656639Z",
     "iopub.status.busy": "2025-03-06T17:28:07.656239Z",
     "iopub.status.idle": "2025-03-06T17:28:07.663540Z",
     "shell.execute_reply": "2025-03-06T17:28:07.662068Z"
    },
    "papermill": {
     "duration": 0.021149,
     "end_time": "2025-03-06T17:28:07.665941",
     "exception": false,
     "start_time": "2025-03-06T17:28:07.644792",
     "status": "completed"
    },
    "tags": []
   },
   "outputs": [
    {
     "data": {
      "text/plain": [
       "180"
      ]
     },
     "execution_count": 22,
     "metadata": {},
     "output_type": "execute_result"
    }
   ],
   "source": [
    "len(counts)"
   ]
  },
  {
   "cell_type": "code",
   "execution_count": 23,
   "id": "3e3cef01",
   "metadata": {
    "execution": {
     "iopub.execute_input": "2025-03-06T17:28:07.696325Z",
     "iopub.status.busy": "2025-03-06T17:28:07.695953Z",
     "iopub.status.idle": "2025-03-06T17:28:07.705198Z",
     "shell.execute_reply": "2025-03-06T17:28:07.701510Z"
    },
    "papermill": {
     "duration": 0.024683,
     "end_time": "2025-03-06T17:28:07.707751",
     "exception": false,
     "start_time": "2025-03-06T17:28:07.683068",
     "status": "completed"
    },
    "tags": []
   },
   "outputs": [
    {
     "data": {
      "text/plain": [
       "\"\\ndf['PARTY'] = df['PARTY'].apply(lambda x: 'M/S KAMINI IRON & STEEL' if 'KAMINI' in x else x)\\ndf['PARTY'] = df['PARTY'].apply(lambda x: 'M/S APPLE SURAIDO FITTINGS' if 'APPLE' in x else x)\\ndf['PARTY'] = df['PARTY'].apply(lambda x: 'M/S JEEVAKA NETTING ' if 'JEEVAKA' in x else x)\\ndf['PARTY'] = df['PARTY'].apply(lambda x: 'M/S ILC IRON & STEEL ' if 'ILC' in x else x)\\ndf['PARTY'] = df['PARTY'].apply(lambda x: 'M/S ILC IRON & STEEL ' if 'I.L.C' in x else x)\\ndf['PARTY'] = df['PARTY'].apply(lambda x: 'M/S AARAL MARKETING ' if 'AARAL' in x else x)\\ndf['PARTY'] = df['PARTY'].apply(lambda x: 'M/S ARCHANA IRON TRADERS' if 'ARCHANA' in x else x) \\n\""
      ]
     },
     "execution_count": 23,
     "metadata": {},
     "output_type": "execute_result"
    }
   ],
   "source": [
    "\"\"\"\n",
    "df['PARTY'] = df['PARTY'].apply(lambda x: 'M/S KAMINI IRON & STEEL' if 'KAMINI' in x else x)\n",
    "df['PARTY'] = df['PARTY'].apply(lambda x: 'M/S APPLE SURAIDO FITTINGS' if 'APPLE' in x else x)\n",
    "df['PARTY'] = df['PARTY'].apply(lambda x: 'M/S JEEVAKA NETTING ' if 'JEEVAKA' in x else x)\n",
    "df['PARTY'] = df['PARTY'].apply(lambda x: 'M/S ILC IRON & STEEL ' if 'ILC' in x else x)\n",
    "df['PARTY'] = df['PARTY'].apply(lambda x: 'M/S ILC IRON & STEEL ' if 'I.L.C' in x else x)\n",
    "df['PARTY'] = df['PARTY'].apply(lambda x: 'M/S AARAL MARKETING ' if 'AARAL' in x else x)\n",
    "df['PARTY'] = df['PARTY'].apply(lambda x: 'M/S ARCHANA IRON TRADERS' if 'ARCHANA' in x else x) \n",
    "\"\"\"\n"
   ]
  },
  {
   "cell_type": "code",
   "execution_count": 24,
   "id": "ed2d0743",
   "metadata": {
    "execution": {
     "iopub.execute_input": "2025-03-06T17:28:07.730560Z",
     "iopub.status.busy": "2025-03-06T17:28:07.730015Z",
     "iopub.status.idle": "2025-03-06T17:28:07.738489Z",
     "shell.execute_reply": "2025-03-06T17:28:07.737339Z"
    },
    "papermill": {
     "duration": 0.022728,
     "end_time": "2025-03-06T17:28:07.740561",
     "exception": false,
     "start_time": "2025-03-06T17:28:07.717833",
     "status": "completed"
    },
    "tags": []
   },
   "outputs": [
    {
     "data": {
      "text/plain": [
       "'party_map = {\\n    \\'KAMINI\\': \\'M/S KAMINI IRON & STEEL\\',\\n    \\'APPLE\\': \\'M/S APPLE SURAIDO FITTINGS\\',\\n    \\'JEEVAKA\\': \\'M/S JEEVAKA NETTING\\',\\n    \\'ILC\\': \\'M/S ILC IRON & STEEL\\',\\n    \\'I.L.C\\': \\'M/S ILC IRON & STEEL\\',\\n    \\'AARAL\\': \\'M/S AARAL MARKETING\\',\\n    \\'BABA\\': \\'M/S BABA AKHILA JYOTHI\\',\\n    \\'ARCHANA\\': \\'M/S ARCHANA IRON TRADERS\\',\\n    \"SD CORP\": \"M/S SD CORP\",\\n    \"S.D CORP\": \"M/S SD CORP\",\\n    \"S.D CORPORATION\": \"M/S SD CORP\",\\n    \"S D CORP\": \"M/S SD CORP\",\\n    \\'SD CROP\\': \"M/S SD CORP\", \\n    \"TN COMMERCIAL\": \"M/S T.N COMMERCIAL\",\\n    \"T N COMMERCIALS\": \"M/S T.N COMMERCIAL\",\\n    \"T.N COMMERCIAL\": \"M/S T.N COMMERCIAL\",\\n    \"T N COMMERCIAL\": \"M/S T.N COMMERCIAL\",\\n    \"TN COMMERCIALS\": \"M/S T.N COMMERCIAL\",\\n    \"T N COMMERICIALS\": \"M/S T.N COMMERCIAL\",\\n    \\n    \"SHREE MAHAVIR\": \"M/S SHREE MAHAVIR STEELS\",\\n    \"SHREE MAHAVIR STEELS\": \"M/S SHREE MAHAVIR STEELS\",\\n    \"SHREE MAHAVIR STEEL\": \"M/S SHREE MAHAVIR STEELS\",\\n    \\n    \"KANIKA ISPAT\": \"M/S KANIKA ISPAT\",\\n    \"M/S KANIKA ISPAT PVT LTD\": \"M/S KANIKA ISPAT\",\\n    \\n    \"VANYA STEELS\": \"M/S VANYA STEELS\",\\n    \"VANYA STEEL\": \"M/S VANYA STEELS\",\\n    \\n    \"A.S IRON & STEEL\": \"M/S A.S IRON & STEEL\",\\n    \"A S IRON & STEEL\": \"M/S A.S IRON & STEEL\",\\n    \\'AS IRON & STEEL \\':\"M/S A.S IRON & STEEL\",\\n    \"RAJENDER METALLICS\": \"M/S RAJENDER METALLIC\",\\n    \"M/S RAJENDER METTALIC\": \"M/S RAJENDER METALLIC\",\\n    \"RAJENDRA METALLIC\": \"M/S RAJENDER METALLIC\",\\n    \"RAJENDRA METALLICS\": \"M/S RAJENDER METALLIC\",\\n    \\n    \"BHADRASHREE STEEL\": \"M/S BHADRASHREE STEEL\",\\n    \"M/S BHADRASHREE STEEL\": \"M/S BHADRASHREE STEEL\",\\n    \"BHADRA SHREE STEELS\": \"M/S BHADRASHREE STEEL\",\\n    \\n    \"M/S HARIOM PIPE INDUSTRIES\": \"M/S HARIOM PIPE INDUSTRIES\",\\n    \"M/S HARIOM PIPES\": \"M/S HARIOM PIPE INDUSTRIES\",\\n    \\'HARI OM PIPE\\':\"M/S HARIOM PIPE INDUSTRIES\",\\n    \"SATVIK GLOBAL\": \"M/S SATVIK GLOBAL\",\\n    \\'KARNATAKA FERRO\\':\\'M/S KARNATAKA FERRO\\',\\n    \\'SRI KRISHNA STEELS\\':\\'M/S SRI KRISHNA STEELS \\',\\n    \\'SRI KRISHNA STEEL\\':\\'M/S SRI KRISHNA STEELS \\'\\n}\\ndf[\\'PARTY\\'] = df[\\'PARTY\\'].apply(lambda x: next(\\n    (replacement for key, replacement in party_map.items() if key in x), x\\n))'"
      ]
     },
     "execution_count": 24,
     "metadata": {},
     "output_type": "execute_result"
    }
   ],
   "source": [
    "\"\"\"party_map = {\n",
    "    'KAMINI': 'M/S KAMINI IRON & STEEL',\n",
    "    'APPLE': 'M/S APPLE SURAIDO FITTINGS',\n",
    "    'JEEVAKA': 'M/S JEEVAKA NETTING',\n",
    "    'ILC': 'M/S ILC IRON & STEEL',\n",
    "    'I.L.C': 'M/S ILC IRON & STEEL',\n",
    "    'AARAL': 'M/S AARAL MARKETING',\n",
    "    'BABA': 'M/S BABA AKHILA JYOTHI',\n",
    "    'ARCHANA': 'M/S ARCHANA IRON TRADERS',\n",
    "    \"SD CORP\": \"M/S SD CORP\",\n",
    "    \"S.D CORP\": \"M/S SD CORP\",\n",
    "    \"S.D CORPORATION\": \"M/S SD CORP\",\n",
    "    \"S D CORP\": \"M/S SD CORP\",\n",
    "    'SD CROP': \"M/S SD CORP\", \n",
    "    \"TN COMMERCIAL\": \"M/S T.N COMMERCIAL\",\n",
    "    \"T N COMMERCIALS\": \"M/S T.N COMMERCIAL\",\n",
    "    \"T.N COMMERCIAL\": \"M/S T.N COMMERCIAL\",\n",
    "    \"T N COMMERCIAL\": \"M/S T.N COMMERCIAL\",\n",
    "    \"TN COMMERCIALS\": \"M/S T.N COMMERCIAL\",\n",
    "    \"T N COMMERICIALS\": \"M/S T.N COMMERCIAL\",\n",
    "    \n",
    "    \"SHREE MAHAVIR\": \"M/S SHREE MAHAVIR STEELS\",\n",
    "    \"SHREE MAHAVIR STEELS\": \"M/S SHREE MAHAVIR STEELS\",\n",
    "    \"SHREE MAHAVIR STEEL\": \"M/S SHREE MAHAVIR STEELS\",\n",
    "    \n",
    "    \"KANIKA ISPAT\": \"M/S KANIKA ISPAT\",\n",
    "    \"M/S KANIKA ISPAT PVT LTD\": \"M/S KANIKA ISPAT\",\n",
    "    \n",
    "    \"VANYA STEELS\": \"M/S VANYA STEELS\",\n",
    "    \"VANYA STEEL\": \"M/S VANYA STEELS\",\n",
    "    \n",
    "    \"A.S IRON & STEEL\": \"M/S A.S IRON & STEEL\",\n",
    "    \"A S IRON & STEEL\": \"M/S A.S IRON & STEEL\",\n",
    "    'AS IRON & STEEL ':\"M/S A.S IRON & STEEL\",\n",
    "    \"RAJENDER METALLICS\": \"M/S RAJENDER METALLIC\",\n",
    "    \"M/S RAJENDER METTALIC\": \"M/S RAJENDER METALLIC\",\n",
    "    \"RAJENDRA METALLIC\": \"M/S RAJENDER METALLIC\",\n",
    "    \"RAJENDRA METALLICS\": \"M/S RAJENDER METALLIC\",\n",
    "    \n",
    "    \"BHADRASHREE STEEL\": \"M/S BHADRASHREE STEEL\",\n",
    "    \"M/S BHADRASHREE STEEL\": \"M/S BHADRASHREE STEEL\",\n",
    "    \"BHADRA SHREE STEELS\": \"M/S BHADRASHREE STEEL\",\n",
    "    \n",
    "    \"M/S HARIOM PIPE INDUSTRIES\": \"M/S HARIOM PIPE INDUSTRIES\",\n",
    "    \"M/S HARIOM PIPES\": \"M/S HARIOM PIPE INDUSTRIES\",\n",
    "    'HARI OM PIPE':\"M/S HARIOM PIPE INDUSTRIES\",\n",
    "    \"SATVIK GLOBAL\": \"M/S SATVIK GLOBAL\",\n",
    "    'KARNATAKA FERRO':'M/S KARNATAKA FERRO',\n",
    "    'SRI KRISHNA STEELS':'M/S SRI KRISHNA STEELS ',\n",
    "    'SRI KRISHNA STEEL':'M/S SRI KRISHNA STEELS '\n",
    "}\n",
    "df['PARTY'] = df['PARTY'].apply(lambda x: next(\n",
    "    (replacement for key, replacement in party_map.items() if key in x), x\n",
    "))\"\"\""
   ]
  },
  {
   "cell_type": "code",
   "execution_count": 25,
   "id": "cbb74a2e",
   "metadata": {
    "execution": {
     "iopub.execute_input": "2025-03-06T17:28:07.762532Z",
     "iopub.status.busy": "2025-03-06T17:28:07.762146Z",
     "iopub.status.idle": "2025-03-06T17:28:07.768472Z",
     "shell.execute_reply": "2025-03-06T17:28:07.767222Z"
    },
    "papermill": {
     "duration": 0.019543,
     "end_time": "2025-03-06T17:28:07.770469",
     "exception": false,
     "start_time": "2025-03-06T17:28:07.750926",
     "status": "completed"
    },
    "tags": []
   },
   "outputs": [
    {
     "data": {
      "text/plain": [
       "\"import pandas as pd\\nimport difflib\\n\\n# Example function using fuzzy matching\\ndef get_closest_match(value, mapping, threshold=0.7):\\n    matches = difflib.get_close_matches(value, mapping.keys(), n=1, cutoff=threshold)\\n    return mapping[matches[0]] if matches else value\\n\\ndf['PARTY'] = df['PARTY'].apply(lambda x: get_closest_match(x, party_map))\""
      ]
     },
     "execution_count": 25,
     "metadata": {},
     "output_type": "execute_result"
    }
   ],
   "source": [
    "\"\"\"import pandas as pd\n",
    "import difflib\n",
    "\n",
    "# Example function using fuzzy matching\n",
    "def get_closest_match(value, mapping, threshold=0.7):\n",
    "    matches = difflib.get_close_matches(value, mapping.keys(), n=1, cutoff=threshold)\n",
    "    return mapping[matches[0]] if matches else value\n",
    "\n",
    "df['PARTY'] = df['PARTY'].apply(lambda x: get_closest_match(x, party_map))\"\"\"\n"
   ]
  },
  {
   "cell_type": "code",
   "execution_count": 26,
   "id": "abeef8ae",
   "metadata": {
    "execution": {
     "iopub.execute_input": "2025-03-06T17:28:07.793647Z",
     "iopub.status.busy": "2025-03-06T17:28:07.793137Z",
     "iopub.status.idle": "2025-03-06T17:28:15.905388Z",
     "shell.execute_reply": "2025-03-06T17:28:15.903844Z"
    },
    "papermill": {
     "duration": 8.126446,
     "end_time": "2025-03-06T17:28:15.907359",
     "exception": false,
     "start_time": "2025-03-06T17:28:07.780913",
     "status": "completed"
    },
    "tags": []
   },
   "outputs": [
    {
     "name": "stdout",
     "output_type": "stream",
     "text": [
      "Collecting rapidfuzz\r\n",
      "  Downloading rapidfuzz-3.12.2-cp310-cp310-manylinux_2_17_x86_64.manylinux2014_x86_64.whl.metadata (12 kB)\r\n",
      "Downloading rapidfuzz-3.12.2-cp310-cp310-manylinux_2_17_x86_64.manylinux2014_x86_64.whl (3.1 MB)\r\n",
      "\u001b[2K   \u001b[90m━━━━━━━━━━━━━━━━━━━━━━━━━━━━━━━━━━━━━━━━\u001b[0m \u001b[32m3.1/3.1 MB\u001b[0m \u001b[31m56.2 MB/s\u001b[0m eta \u001b[36m0:00:00\u001b[0m\r\n",
      "\u001b[?25hInstalling collected packages: rapidfuzz\r\n",
      "Successfully installed rapidfuzz-3.12.2\r\n",
      "Note: you may need to restart the kernel to use updated packages.\n"
     ]
    }
   ],
   "source": [
    "pip install rapidfuzz"
   ]
  },
  {
   "cell_type": "code",
   "execution_count": 27,
   "id": "16b0afd4",
   "metadata": {
    "execution": {
     "iopub.execute_input": "2025-03-06T17:28:15.929876Z",
     "iopub.status.busy": "2025-03-06T17:28:15.929471Z",
     "iopub.status.idle": "2025-03-06T17:28:16.013938Z",
     "shell.execute_reply": "2025-03-06T17:28:16.012894Z"
    },
    "papermill": {
     "duration": 0.097832,
     "end_time": "2025-03-06T17:28:16.015898",
     "exception": false,
     "start_time": "2025-03-06T17:28:15.918066",
     "status": "completed"
    },
    "tags": []
   },
   "outputs": [],
   "source": [
    "from rapidfuzz import process\n",
    "# List of standard party names\n",
    "unique_parties = [\n",
    "    \"M/S APPLE SURAIDO FITTINGS\",\n",
    "    \"M/S KAMINI IRON & STEEL\",\n",
    "    \"M/S ILC IRON & STEEL\",\n",
    "    \"M/S JEEVAKA NETTING\",\n",
    "    \"M/S AARAL MARKETING\",\n",
    "    \"M/S BABA AKHILA JYOTHI\",\n",
    "    \"M/S ARCHANA IRON TRADERS\",\n",
    "    \"M/S KOTHARI ISPAT\",\n",
    "    \"M/S SWASTIK STEELS\",\n",
    "    \"M/S KANIKA ISPAT\",\n",
    "    \"M/S VANYA STEELS\",\n",
    "    \"M/S RAJENDER METALLIC\",\n",
    "    \"M/S A.S IRON & STEEL\",\n",
    "    \"M/S SD CORP\",\n",
    "    \"M/S AKASH STEELS\",\n",
    "    \"M/S VANYA STEELS\",\n",
    "    \"M/S SRI KRISHNA STEELS\",\n",
    "    \"M/S SUSHMA SALES\",\n",
    "    \"M/S ANUPAM FUELS\",\n",
    "    \"M/S SATVIK GLOBAL\",\n",
    "    \"RAM SHYAM ENTERPRISES\",\n",
    "    \"M/S SHREE MAHAVIR STEELS\",\n",
    "    \"M/S BHADRASHREE STEEL\",\n",
    "    \"M/S T.N COMMERCIAL\",\n",
    "    \"KARNATAKA FERRO\",\n",
    "    \"M/S SHARMA STEELS\",\n",
    "    \"M/S SHREEM TRADERS\",\n",
    "    \"M/S RADHA STEEL\",\n",
    "    \"M/S ACS ETERNAL METAL\",\n",
    "    \"M/S PRANAY ISPAT\",\n",
    "    \"M/S HARIOM PIPE INDUSTRIES\",\n",
    "    \"M/S TUNICS SPONGE\",\n",
    "    \"M/S TANUSH ISPAT\",\n",
    "]\n",
    "# Function to find the best match using (fuzzy matching)\n",
    "def get_best_match(value, choices, threshold=73):\n",
    "    match = process.extractOne(value, choices, score_cutoff=threshold)\n",
    "    return match[0] if match else value  # Return best match or original value\n",
    "\n",
    "# Apply fuzzy matching to clean the 'PARTY' column\n",
    "df['PARTY'] = df['PARTY'].apply(lambda x: get_best_match(x, unique_parties))\n",
    "\n"
   ]
  },
  {
   "cell_type": "code",
   "execution_count": 28,
   "id": "664ebbb9",
   "metadata": {
    "execution": {
     "iopub.execute_input": "2025-03-06T17:28:16.037893Z",
     "iopub.status.busy": "2025-03-06T17:28:16.037508Z",
     "iopub.status.idle": "2025-03-06T17:28:16.050879Z",
     "shell.execute_reply": "2025-03-06T17:28:16.049445Z"
    },
    "papermill": {
     "duration": 0.026494,
     "end_time": "2025-03-06T17:28:16.052732",
     "exception": false,
     "start_time": "2025-03-06T17:28:16.026238",
     "status": "completed"
    },
    "tags": []
   },
   "outputs": [
    {
     "name": "stdout",
     "output_type": "stream",
     "text": [
      "Unmatched Values for Review:\n",
      "['BINDHU SARIA' 'AGARWAL SPONGE' 'GARG STEEL TRADING'\n",
      " 'SAIVIJAY PRAGATI STEEL' 'S.D CORPORATION' 'V R INTERNATIONAL' 'RAJ EXIM']\n",
      "PARTY\n",
      "M/S KAMINI IRON & STEEL       271\n",
      "M/S APPLE SURAIDO FITTINGS    258\n",
      "M/S ILC IRON & STEEL          142\n",
      "M/S JEEVAKA NETTING           137\n",
      "M/S AARAL MARKETING            94\n",
      "M/S RAJENDER METALLIC          67\n",
      "M/S BABA AKHILA JYOTHI         57\n",
      "M/S T.N COMMERCIAL             56\n",
      "M/S VANYA STEELS               54\n",
      "M/S SD CORP                    51\n",
      "M/S SHREE MAHAVIR STEELS       42\n",
      "M/S KANIKA ISPAT               40\n",
      "M/S ARCHANA IRON TRADERS       33\n",
      "M/S A.S IRON & STEEL           31\n",
      "M/S SWASTIK STEELS             31\n",
      "M/S KOTHARI ISPAT              27\n",
      "M/S BHADRASHREE STEEL          27\n",
      "M/S SRI KRISHNA STEELS         25\n",
      "M/S SATVIK GLOBAL              21\n",
      "M/S ANUPAM FUELS               20\n",
      "M/S AKASH STEELS               18\n",
      "RAM SHYAM ENTERPRISES          18\n",
      "M/S SUSHMA SALES               17\n",
      "KARNATAKA FERRO                13\n",
      "M/S RADHA STEEL                11\n",
      "M/S HARIOM PIPE INDUSTRIES     10\n",
      "M/S SHARMA STEELS               9\n",
      "M/S PRANAY ISPAT                8\n",
      "M/S SHREEM TRADERS              7\n",
      "M/S ACS ETERNAL METAL           6\n",
      "S.D CORPORATION                 6\n",
      "M/S TUNICS SPONGE               6\n",
      "M/S TANUSH ISPAT                3\n",
      "BINDHU SARIA                    2\n",
      "GARG STEEL TRADING              2\n",
      "SAIVIJAY PRAGATI STEEL          2\n",
      "V R INTERNATIONAL               1\n",
      "RAJ EXIM                        1\n",
      "AGARWAL SPONGE                  1\n",
      "Name: count, dtype: int64\n"
     ]
    }
   ],
   "source": [
    "# printing unmatched values\n",
    "unmatched = df[~df['PARTY'].isin(unique_parties)]\n",
    "if not unmatched.empty:\n",
    "    print(\"Unmatched Values for Review:\")\n",
    "    print(unmatched['PARTY'].unique())\n",
    "\n",
    "# Display cleaned df\n",
    "print(df['PARTY'].value_counts())"
   ]
  },
  {
   "cell_type": "code",
   "execution_count": 29,
   "id": "49dc886b",
   "metadata": {
    "execution": {
     "iopub.execute_input": "2025-03-06T17:28:16.075761Z",
     "iopub.status.busy": "2025-03-06T17:28:16.075370Z",
     "iopub.status.idle": "2025-03-06T17:28:16.082371Z",
     "shell.execute_reply": "2025-03-06T17:28:16.081314Z"
    },
    "papermill": {
     "duration": 0.020774,
     "end_time": "2025-03-06T17:28:16.084164",
     "exception": false,
     "start_time": "2025-03-06T17:28:16.063390",
     "status": "completed"
    },
    "tags": []
   },
   "outputs": [],
   "source": [
    "party_map = {\n",
    "\n",
    "    \"S.D CORPORATION\": \"M/S SD CORP\",\n",
    "\n",
    "}\n",
    "df['PARTY'] = df['PARTY'].apply(lambda x: next(\n",
    "    (replacement for key, replacement in party_map.items() if key in x), x\n",
    "))"
   ]
  },
  {
   "cell_type": "code",
   "execution_count": 30,
   "id": "08e94a3a",
   "metadata": {
    "execution": {
     "iopub.execute_input": "2025-03-06T17:28:16.106713Z",
     "iopub.status.busy": "2025-03-06T17:28:16.106352Z",
     "iopub.status.idle": "2025-03-06T17:28:16.112558Z",
     "shell.execute_reply": "2025-03-06T17:28:16.111585Z"
    },
    "papermill": {
     "duration": 0.019671,
     "end_time": "2025-03-06T17:28:16.114420",
     "exception": false,
     "start_time": "2025-03-06T17:28:16.094749",
     "status": "completed"
    },
    "tags": []
   },
   "outputs": [
    {
     "data": {
      "text/plain": [
       "'# Dictionary mapping variations to standardized names\\nstandardization_map = {\\n    \"M/S SD CORP\": [\"SD CORP\", \"S.D CORP\", \"S.D CORPORATION\", \"S D CORP\"],\\n    \"M/S T.N COMMERCIAL\": [\"TN COMMERCIAL\", \"T N COMMERCIALS\", \"T.N COMMERCIAL\", \"T N COMMERCIAL\", \"TN COMMERCIALS\", \"T N COMMERICIALS\"],\\n    \"M/S SHREE MAHAVIR STEELS\": [\"SHREE MAHAVIR\", \"SHREE MAHAVIR STEELS\", \"SHREE MAHAVIR STEEL\"],\\n    \"M/S KANIKA ISPAT\": [\"KANIKA ISPAT\", \"M/S KANIKA ISPAT PVT LTD\"],\\n    \"M/S VANYA STEELS\": [\"VANYA STEELS\", \"VANYA STEEL\"],\\n    \"M/S A.S IRON & STEEL\": [\"A.S IRON & STEEL\", \"A S IRON & STEEL\"],\\n    \"M/S RAJENDER METALLIC\": [\"RAJENDER METALLICS\", \"M/S RAJENDER METTALIC\", \"RAJENDRA METALLIC\", \"RAJENDRA METALLICS\"],\\n    \"M/S BHADRASHREE STEEL\": [\"BHADRASHREE STEEL\", \"M/S BHADRASHREE STEEL\", \"BHADRA SHREE STEELS\"],\\n    \"M/S HARIOM PIPE INDUSTRIES\": [\"M/S HARIOM PIPE INDUSTRIES\", \"M/S HARIOM PIPES\"],\\n    \"M/S SATVIK GLOBAL\": [\"SATVIK GLOBAL\"],\\n}\\n\\n# Function to replace variations in the original dataset\\ndef replace_variations(df, column, mapping):\\n    for standard, variations in mapping.items():\\n        df[column] = df[column].replace(variations + [standard], standard)\\n\\n# Apply replacements\\nreplace_variations(df, \\'PARTY\\', standardization_map)\\n\\n# Remove duplicates while maintaining order\\ndf = df.drop_duplicates(subset=[\\'PARTY\\'])\\n\\n# Print result\\nprint(df)\\n'"
      ]
     },
     "execution_count": 30,
     "metadata": {},
     "output_type": "execute_result"
    }
   ],
   "source": [
    "\"\"\"# Dictionary mapping variations to standardized names\n",
    "standardization_map = {\n",
    "    \"M/S SD CORP\": [\"SD CORP\", \"S.D CORP\", \"S.D CORPORATION\", \"S D CORP\"],\n",
    "    \"M/S T.N COMMERCIAL\": [\"TN COMMERCIAL\", \"T N COMMERCIALS\", \"T.N COMMERCIAL\", \"T N COMMERCIAL\", \"TN COMMERCIALS\", \"T N COMMERICIALS\"],\n",
    "    \"M/S SHREE MAHAVIR STEELS\": [\"SHREE MAHAVIR\", \"SHREE MAHAVIR STEELS\", \"SHREE MAHAVIR STEEL\"],\n",
    "    \"M/S KANIKA ISPAT\": [\"KANIKA ISPAT\", \"M/S KANIKA ISPAT PVT LTD\"],\n",
    "    \"M/S VANYA STEELS\": [\"VANYA STEELS\", \"VANYA STEEL\"],\n",
    "    \"M/S A.S IRON & STEEL\": [\"A.S IRON & STEEL\", \"A S IRON & STEEL\"],\n",
    "    \"M/S RAJENDER METALLIC\": [\"RAJENDER METALLICS\", \"M/S RAJENDER METTALIC\", \"RAJENDRA METALLIC\", \"RAJENDRA METALLICS\"],\n",
    "    \"M/S BHADRASHREE STEEL\": [\"BHADRASHREE STEEL\", \"M/S BHADRASHREE STEEL\", \"BHADRA SHREE STEELS\"],\n",
    "    \"M/S HARIOM PIPE INDUSTRIES\": [\"M/S HARIOM PIPE INDUSTRIES\", \"M/S HARIOM PIPES\"],\n",
    "    \"M/S SATVIK GLOBAL\": [\"SATVIK GLOBAL\"],\n",
    "}\n",
    "\n",
    "# Function to replace variations in the original dataset\n",
    "def replace_variations(df, column, mapping):\n",
    "    for standard, variations in mapping.items():\n",
    "        df[column] = df[column].replace(variations + [standard], standard)\n",
    "\n",
    "# Apply replacements\n",
    "replace_variations(df, 'PARTY', standardization_map)\n",
    "\n",
    "# Remove duplicates while maintaining order\n",
    "df = df.drop_duplicates(subset=['PARTY'])\n",
    "\n",
    "# Print result\n",
    "print(df)\n",
    "\"\"\""
   ]
  },
  {
   "cell_type": "code",
   "execution_count": 31,
   "id": "fb599e2f",
   "metadata": {
    "execution": {
     "iopub.execute_input": "2025-03-06T17:28:16.137458Z",
     "iopub.status.busy": "2025-03-06T17:28:16.137121Z",
     "iopub.status.idle": "2025-03-06T17:28:16.144439Z",
     "shell.execute_reply": "2025-03-06T17:28:16.143064Z"
    },
    "papermill": {
     "duration": 0.02119,
     "end_time": "2025-03-06T17:28:16.146415",
     "exception": false,
     "start_time": "2025-03-06T17:28:16.125225",
     "status": "completed"
    },
    "tags": []
   },
   "outputs": [
    {
     "name": "stdout",
     "output_type": "stream",
     "text": [
      "PARTY\n",
      "M/S KAMINI IRON & STEEL       271\n",
      "M/S APPLE SURAIDO FITTINGS    258\n",
      "M/S ILC IRON & STEEL          142\n",
      "M/S JEEVAKA NETTING           137\n",
      "M/S AARAL MARKETING            94\n",
      "M/S RAJENDER METALLIC          67\n",
      "M/S BABA AKHILA JYOTHI         57\n",
      "M/S SD CORP                    57\n",
      "M/S T.N COMMERCIAL             56\n",
      "M/S VANYA STEELS               54\n",
      "M/S SHREE MAHAVIR STEELS       42\n",
      "M/S KANIKA ISPAT               40\n",
      "M/S ARCHANA IRON TRADERS       33\n",
      "M/S A.S IRON & STEEL           31\n",
      "M/S SWASTIK STEELS             31\n",
      "M/S KOTHARI ISPAT              27\n",
      "M/S BHADRASHREE STEEL          27\n",
      "M/S SRI KRISHNA STEELS         25\n",
      "M/S SATVIK GLOBAL              21\n",
      "M/S ANUPAM FUELS               20\n",
      "M/S AKASH STEELS               18\n",
      "RAM SHYAM ENTERPRISES          18\n",
      "M/S SUSHMA SALES               17\n",
      "KARNATAKA FERRO                13\n",
      "M/S RADHA STEEL                11\n",
      "M/S HARIOM PIPE INDUSTRIES     10\n",
      "M/S SHARMA STEELS               9\n",
      "M/S PRANAY ISPAT                8\n",
      "M/S SHREEM TRADERS              7\n",
      "M/S ACS ETERNAL METAL           6\n",
      "M/S TUNICS SPONGE               6\n",
      "M/S TANUSH ISPAT                3\n",
      "BINDHU SARIA                    2\n",
      "GARG STEEL TRADING              2\n",
      "SAIVIJAY PRAGATI STEEL          2\n",
      "V R INTERNATIONAL               1\n",
      "RAJ EXIM                        1\n",
      "AGARWAL SPONGE                  1\n",
      "Name: count, dtype: int64\n"
     ]
    }
   ],
   "source": [
    "counts = df['PARTY'].value_counts()\n",
    "print((counts.head(60)))"
   ]
  },
  {
   "cell_type": "code",
   "execution_count": 32,
   "id": "67d47e88",
   "metadata": {
    "execution": {
     "iopub.execute_input": "2025-03-06T17:28:16.169335Z",
     "iopub.status.busy": "2025-03-06T17:28:16.169002Z",
     "iopub.status.idle": "2025-03-06T17:28:16.174931Z",
     "shell.execute_reply": "2025-03-06T17:28:16.173750Z"
    },
    "papermill": {
     "duration": 0.019521,
     "end_time": "2025-03-06T17:28:16.176760",
     "exception": false,
     "start_time": "2025-03-06T17:28:16.157239",
     "status": "completed"
    },
    "tags": []
   },
   "outputs": [
    {
     "data": {
      "text/plain": [
       "\"df['LO DATE'] = pd.to_datetime(df['LO DATE'])  # Ensure 'LO DATE' is in datetime format\\n\\ndf['year'] = df['LO DATE'].dt.year\\ndf['month'] = df['LO DATE'].dt.month\\ndf['day'] = df['LO DATE'].dt.day\\ndf\""
      ]
     },
     "execution_count": 32,
     "metadata": {},
     "output_type": "execute_result"
    }
   ],
   "source": [
    "\"\"\"df['LO DATE'] = pd.to_datetime(df['LO DATE'])  # Ensure 'LO DATE' is in datetime format\n",
    "\n",
    "df['year'] = df['LO DATE'].dt.year\n",
    "df['month'] = df['LO DATE'].dt.month\n",
    "df['day'] = df['LO DATE'].dt.day\n",
    "df\"\"\""
   ]
  },
  {
   "cell_type": "code",
   "execution_count": 33,
   "id": "e5f2557a",
   "metadata": {
    "execution": {
     "iopub.execute_input": "2025-03-06T17:28:16.199928Z",
     "iopub.status.busy": "2025-03-06T17:28:16.199507Z",
     "iopub.status.idle": "2025-03-06T17:28:16.225283Z",
     "shell.execute_reply": "2025-03-06T17:28:16.224090Z"
    },
    "papermill": {
     "duration": 0.039442,
     "end_time": "2025-03-06T17:28:16.227061",
     "exception": false,
     "start_time": "2025-03-06T17:28:16.187619",
     "status": "completed"
    },
    "tags": []
   },
   "outputs": [
    {
     "data": {
      "text/html": [
       "<div>\n",
       "<style scoped>\n",
       "    .dataframe tbody tr th:only-of-type {\n",
       "        vertical-align: middle;\n",
       "    }\n",
       "\n",
       "    .dataframe tbody tr th {\n",
       "        vertical-align: top;\n",
       "    }\n",
       "\n",
       "    .dataframe thead th {\n",
       "        text-align: right;\n",
       "    }\n",
       "</style>\n",
       "<table border=\"1\" class=\"dataframe\">\n",
       "  <thead>\n",
       "    <tr style=\"text-align: right;\">\n",
       "      <th></th>\n",
       "      <th>LO DATE</th>\n",
       "      <th>UN DATE</th>\n",
       "      <th>PARTY</th>\n",
       "      <th>VECHILE NO</th>\n",
       "      <th>GC</th>\n",
       "      <th>L.W</th>\n",
       "      <th>FRIGHT</th>\n",
       "      <th>TOTAL</th>\n",
       "      <th>LO_year</th>\n",
       "      <th>UN_year</th>\n",
       "      <th>LO_month</th>\n",
       "      <th>UN_month</th>\n",
       "      <th>LO_day</th>\n",
       "      <th>UN_day</th>\n",
       "    </tr>\n",
       "  </thead>\n",
       "  <tbody>\n",
       "    <tr>\n",
       "      <th>2259</th>\n",
       "      <td>2025-01-10</td>\n",
       "      <td>2025-01-12</td>\n",
       "      <td>M/S KAMINI IRON &amp; STEEL</td>\n",
       "      <td>TS06UC7299</td>\n",
       "      <td>3088</td>\n",
       "      <td>44.96</td>\n",
       "      <td>1000</td>\n",
       "      <td>44960</td>\n",
       "      <td>2025</td>\n",
       "      <td>2025</td>\n",
       "      <td>1</td>\n",
       "      <td>1</td>\n",
       "      <td>10</td>\n",
       "      <td>12</td>\n",
       "    </tr>\n",
       "    <tr>\n",
       "      <th>2260</th>\n",
       "      <td>2025-01-09</td>\n",
       "      <td>2025-01-12</td>\n",
       "      <td>M/S KAMINI IRON &amp; STEEL</td>\n",
       "      <td>TS07UF4994</td>\n",
       "      <td>3078</td>\n",
       "      <td>51.63</td>\n",
       "      <td>1000</td>\n",
       "      <td>51630</td>\n",
       "      <td>2025</td>\n",
       "      <td>2025</td>\n",
       "      <td>1</td>\n",
       "      <td>1</td>\n",
       "      <td>9</td>\n",
       "      <td>12</td>\n",
       "    </tr>\n",
       "    <tr>\n",
       "      <th>2261</th>\n",
       "      <td>2025-01-12</td>\n",
       "      <td>2025-01-13</td>\n",
       "      <td>M/S APPLE SURAIDO FITTINGS</td>\n",
       "      <td>TS07UH4239</td>\n",
       "      <td>3158</td>\n",
       "      <td>44.99</td>\n",
       "      <td>1000</td>\n",
       "      <td>44990</td>\n",
       "      <td>2025</td>\n",
       "      <td>2025</td>\n",
       "      <td>1</td>\n",
       "      <td>1</td>\n",
       "      <td>12</td>\n",
       "      <td>13</td>\n",
       "    </tr>\n",
       "    <tr>\n",
       "      <th>2262</th>\n",
       "      <td>2025-01-11</td>\n",
       "      <td>2025-01-14</td>\n",
       "      <td>M/S APPLE SURAIDO FITTINGS</td>\n",
       "      <td>TS07UE2111</td>\n",
       "      <td>3169</td>\n",
       "      <td>51.85</td>\n",
       "      <td>1000</td>\n",
       "      <td>51850</td>\n",
       "      <td>2025</td>\n",
       "      <td>2025</td>\n",
       "      <td>1</td>\n",
       "      <td>1</td>\n",
       "      <td>11</td>\n",
       "      <td>14</td>\n",
       "    </tr>\n",
       "    <tr>\n",
       "      <th>2263</th>\n",
       "      <td>2025-01-11</td>\n",
       "      <td>2025-01-14</td>\n",
       "      <td>M/S APPLE SURAIDO FITTINGS</td>\n",
       "      <td>TS07UC8019</td>\n",
       "      <td>3097</td>\n",
       "      <td>46.66</td>\n",
       "      <td>1000</td>\n",
       "      <td>46660</td>\n",
       "      <td>2025</td>\n",
       "      <td>2025</td>\n",
       "      <td>1</td>\n",
       "      <td>1</td>\n",
       "      <td>11</td>\n",
       "      <td>14</td>\n",
       "    </tr>\n",
       "  </tbody>\n",
       "</table>\n",
       "</div>"
      ],
      "text/plain": [
       "        LO DATE    UN DATE                       PARTY  VECHILE NO    GC  \\\n",
       "2259 2025-01-10 2025-01-12     M/S KAMINI IRON & STEEL  TS06UC7299  3088   \n",
       "2260 2025-01-09 2025-01-12     M/S KAMINI IRON & STEEL  TS07UF4994  3078   \n",
       "2261 2025-01-12 2025-01-13  M/S APPLE SURAIDO FITTINGS  TS07UH4239  3158   \n",
       "2262 2025-01-11 2025-01-14  M/S APPLE SURAIDO FITTINGS  TS07UE2111  3169   \n",
       "2263 2025-01-11 2025-01-14  M/S APPLE SURAIDO FITTINGS  TS07UC8019  3097   \n",
       "\n",
       "        L.W  FRIGHT  TOTAL  LO_year  UN_year  LO_month  UN_month  LO_day  \\\n",
       "2259  44.96    1000  44960     2025     2025         1         1      10   \n",
       "2260  51.63    1000  51630     2025     2025         1         1       9   \n",
       "2261  44.99    1000  44990     2025     2025         1         1      12   \n",
       "2262  51.85    1000  51850     2025     2025         1         1      11   \n",
       "2263  46.66    1000  46660     2025     2025         1         1      11   \n",
       "\n",
       "      UN_day  \n",
       "2259      12  \n",
       "2260      12  \n",
       "2261      13  \n",
       "2262      14  \n",
       "2263      14  "
      ]
     },
     "execution_count": 33,
     "metadata": {},
     "output_type": "execute_result"
    }
   ],
   "source": [
    "# Extract year, month, and day for both columns\n",
    "df[['LO_year', 'UN_year']] = df[['LO DATE', 'UN DATE']].apply(lambda x: x.dt.year)\n",
    "df[['LO_month', 'UN_month']] = df[['LO DATE', 'UN DATE']].apply(lambda x: x.dt.month)\n",
    "df[['LO_day', 'UN_day']] = df[['LO DATE', 'UN DATE']].apply(lambda x: x.dt.day)\n",
    "df.tail()"
   ]
  },
  {
   "cell_type": "code",
   "execution_count": 34,
   "id": "eaa42cbc",
   "metadata": {
    "execution": {
     "iopub.execute_input": "2025-03-06T17:28:16.250685Z",
     "iopub.status.busy": "2025-03-06T17:28:16.250318Z",
     "iopub.status.idle": "2025-03-06T17:28:16.257647Z",
     "shell.execute_reply": "2025-03-06T17:28:16.256742Z"
    },
    "papermill": {
     "duration": 0.021442,
     "end_time": "2025-03-06T17:28:16.259501",
     "exception": false,
     "start_time": "2025-03-06T17:28:16.238059",
     "status": "completed"
    },
    "tags": []
   },
   "outputs": [
    {
     "data": {
      "text/plain": [
       "LO DATE       datetime64[ns]\n",
       "UN DATE       datetime64[ns]\n",
       "PARTY                 object\n",
       "VECHILE NO            object\n",
       "GC                     Int64\n",
       "L.W                   object\n",
       "FRIGHT                 Int64\n",
       "TOTAL                 object\n",
       "LO_year                int32\n",
       "UN_year                int32\n",
       "LO_month               int32\n",
       "UN_month               int32\n",
       "LO_day                 int32\n",
       "UN_day                 int32\n",
       "dtype: object"
      ]
     },
     "execution_count": 34,
     "metadata": {},
     "output_type": "execute_result"
    }
   ],
   "source": [
    "df.dtypes"
   ]
  },
  {
   "cell_type": "code",
   "execution_count": 35,
   "id": "5d339bfe",
   "metadata": {
    "execution": {
     "iopub.execute_input": "2025-03-06T17:28:16.283456Z",
     "iopub.status.busy": "2025-03-06T17:28:16.283072Z",
     "iopub.status.idle": "2025-03-06T17:28:16.287300Z",
     "shell.execute_reply": "2025-03-06T17:28:16.286235Z"
    },
    "papermill": {
     "duration": 0.018261,
     "end_time": "2025-03-06T17:28:16.289148",
     "exception": false,
     "start_time": "2025-03-06T17:28:16.270887",
     "status": "completed"
    },
    "tags": []
   },
   "outputs": [],
   "source": [
    "# display(your_function(default_value)) remember to add it on last line of cell while pushing"
   ]
  },
  {
   "cell_type": "code",
   "execution_count": 36,
   "id": "ed6b3243",
   "metadata": {
    "execution": {
     "iopub.execute_input": "2025-03-06T17:28:16.313774Z",
     "iopub.status.busy": "2025-03-06T17:28:16.313370Z",
     "iopub.status.idle": "2025-03-06T17:28:22.153562Z",
     "shell.execute_reply": "2025-03-06T17:28:22.152036Z"
    },
    "papermill": {
     "duration": 5.854479,
     "end_time": "2025-03-06T17:28:22.155621",
     "exception": false,
     "start_time": "2025-03-06T17:28:16.301142",
     "status": "completed"
    },
    "tags": []
   },
   "outputs": [
    {
     "name": "stdout",
     "output_type": "stream",
     "text": [
      "Collecting snowflake-connector-python\r\n",
      "  Downloading snowflake_connector_python-3.14.0-cp310-cp310-manylinux_2_17_x86_64.manylinux2014_x86_64.whl.metadata (67 kB)\r\n",
      "\u001b[2K     \u001b[90m━━━━━━━━━━━━━━━━━━━━━━━━━━━━━━━━━━━━━━━━\u001b[0m \u001b[32m67.8/67.8 kB\u001b[0m \u001b[31m2.7 MB/s\u001b[0m eta \u001b[36m0:00:00\u001b[0m\r\n",
      "\u001b[?25hRequirement already satisfied: pandas in /usr/local/lib/python3.10/dist-packages (2.2.2)\r\n",
      "Requirement already satisfied: sqlalchemy in /usr/local/lib/python3.10/dist-packages (2.0.36)\r\n",
      "Collecting asn1crypto<2.0.0,>0.24.0 (from snowflake-connector-python)\r\n",
      "  Downloading asn1crypto-1.5.1-py2.py3-none-any.whl.metadata (13 kB)\r\n",
      "Requirement already satisfied: cffi<2.0.0,>=1.9 in /usr/local/lib/python3.10/dist-packages (from snowflake-connector-python) (1.17.1)\r\n",
      "Requirement already satisfied: cryptography>=3.1.0 in /usr/local/lib/python3.10/dist-packages (from snowflake-connector-python) (43.0.3)\r\n",
      "Requirement already satisfied: pyOpenSSL<26.0.0,>=22.0.0 in /usr/local/lib/python3.10/dist-packages (from snowflake-connector-python) (24.2.1)\r\n",
      "Requirement already satisfied: pyjwt<3.0.0 in /usr/local/lib/python3.10/dist-packages (from snowflake-connector-python) (2.10.1)\r\n",
      "Requirement already satisfied: pytz in /usr/local/lib/python3.10/dist-packages (from snowflake-connector-python) (2024.2)\r\n",
      "Requirement already satisfied: requests<3.0.0 in /usr/local/lib/python3.10/dist-packages (from snowflake-connector-python) (2.32.3)\r\n",
      "Requirement already satisfied: packaging in /usr/local/lib/python3.10/dist-packages (from snowflake-connector-python) (24.2)\r\n",
      "Requirement already satisfied: charset_normalizer<4,>=2 in /usr/local/lib/python3.10/dist-packages (from snowflake-connector-python) (3.4.0)\r\n",
      "Requirement already satisfied: idna<4,>=2.5 in /usr/local/lib/python3.10/dist-packages (from snowflake-connector-python) (3.10)\r\n",
      "Requirement already satisfied: certifi>=2017.4.17 in /usr/local/lib/python3.10/dist-packages (from snowflake-connector-python) (2024.12.14)\r\n",
      "Requirement already satisfied: typing_extensions<5,>=4.3 in /usr/local/lib/python3.10/dist-packages (from snowflake-connector-python) (4.12.2)\r\n",
      "Requirement already satisfied: filelock<4,>=3.5 in /usr/local/lib/python3.10/dist-packages (from snowflake-connector-python) (3.16.1)\r\n",
      "Requirement already satisfied: sortedcontainers>=2.4.0 in /usr/local/lib/python3.10/dist-packages (from snowflake-connector-python) (2.4.0)\r\n",
      "Requirement already satisfied: platformdirs<5.0.0,>=2.6.0 in /usr/local/lib/python3.10/dist-packages (from snowflake-connector-python) (4.3.6)\r\n",
      "Collecting tomlkit (from snowflake-connector-python)\r\n",
      "  Downloading tomlkit-0.13.2-py3-none-any.whl.metadata (2.7 kB)\r\n",
      "Requirement already satisfied: numpy>=1.22.4 in /usr/local/lib/python3.10/dist-packages (from pandas) (1.26.4)\r\n",
      "Requirement already satisfied: python-dateutil>=2.8.2 in /usr/local/lib/python3.10/dist-packages (from pandas) (2.8.2)\r\n",
      "Requirement already satisfied: tzdata>=2022.7 in /usr/local/lib/python3.10/dist-packages (from pandas) (2024.2)\r\n",
      "Requirement already satisfied: greenlet!=0.4.17 in /usr/local/lib/python3.10/dist-packages (from sqlalchemy) (3.1.1)\r\n",
      "Requirement already satisfied: pycparser in /usr/local/lib/python3.10/dist-packages (from cffi<2.0.0,>=1.9->snowflake-connector-python) (2.22)\r\n",
      "Requirement already satisfied: mkl_fft in /usr/local/lib/python3.10/dist-packages (from numpy>=1.22.4->pandas) (1.3.8)\r\n",
      "Requirement already satisfied: mkl_random in /usr/local/lib/python3.10/dist-packages (from numpy>=1.22.4->pandas) (1.2.4)\r\n",
      "Requirement already satisfied: mkl_umath in /usr/local/lib/python3.10/dist-packages (from numpy>=1.22.4->pandas) (0.1.1)\r\n",
      "Requirement already satisfied: mkl in /usr/local/lib/python3.10/dist-packages (from numpy>=1.22.4->pandas) (2025.0.1)\r\n",
      "Requirement already satisfied: tbb4py in /usr/local/lib/python3.10/dist-packages (from numpy>=1.22.4->pandas) (2022.0.0)\r\n",
      "Requirement already satisfied: mkl-service in /usr/local/lib/python3.10/dist-packages (from numpy>=1.22.4->pandas) (2.4.1)\r\n",
      "Requirement already satisfied: six>=1.5 in /usr/local/lib/python3.10/dist-packages (from python-dateutil>=2.8.2->pandas) (1.17.0)\r\n",
      "Requirement already satisfied: urllib3<3,>=1.21.1 in /usr/local/lib/python3.10/dist-packages (from requests<3.0.0->snowflake-connector-python) (2.2.3)\r\n",
      "Requirement already satisfied: intel-openmp>=2024 in /usr/local/lib/python3.10/dist-packages (from mkl->numpy>=1.22.4->pandas) (2024.2.0)\r\n",
      "Requirement already satisfied: tbb==2022.* in /usr/local/lib/python3.10/dist-packages (from mkl->numpy>=1.22.4->pandas) (2022.0.0)\r\n",
      "Requirement already satisfied: tcmlib==1.* in /usr/local/lib/python3.10/dist-packages (from tbb==2022.*->mkl->numpy>=1.22.4->pandas) (1.2.0)\r\n",
      "Requirement already satisfied: intel-cmplr-lib-rt in /usr/local/lib/python3.10/dist-packages (from mkl_umath->numpy>=1.22.4->pandas) (2024.2.0)\r\n",
      "Requirement already satisfied: intel-cmplr-lib-ur==2024.2.0 in /usr/local/lib/python3.10/dist-packages (from intel-openmp>=2024->mkl->numpy>=1.22.4->pandas) (2024.2.0)\r\n",
      "Downloading snowflake_connector_python-3.14.0-cp310-cp310-manylinux_2_17_x86_64.manylinux2014_x86_64.whl (2.5 MB)\r\n",
      "\u001b[2K   \u001b[90m━━━━━━━━━━━━━━━━━━━━━━━━━━━━━━━━━━━━━━━━\u001b[0m \u001b[32m2.5/2.5 MB\u001b[0m \u001b[31m48.5 MB/s\u001b[0m eta \u001b[36m0:00:00\u001b[0m\r\n",
      "\u001b[?25hDownloading asn1crypto-1.5.1-py2.py3-none-any.whl (105 kB)\r\n",
      "\u001b[2K   \u001b[90m━━━━━━━━━━━━━━━━━━━━━━━━━━━━━━━━━━━━━━━━\u001b[0m \u001b[32m105.0/105.0 kB\u001b[0m \u001b[31m4.9 MB/s\u001b[0m eta \u001b[36m0:00:00\u001b[0m\r\n",
      "\u001b[?25hDownloading tomlkit-0.13.2-py3-none-any.whl (37 kB)\r\n",
      "Installing collected packages: asn1crypto, tomlkit, snowflake-connector-python\r\n",
      "Successfully installed asn1crypto-1.5.1 snowflake-connector-python-3.14.0 tomlkit-0.13.2\r\n",
      "Note: you may need to restart the kernel to use updated packages.\n"
     ]
    }
   ],
   "source": [
    "pip install snowflake-connector-python pandas sqlalchemy"
   ]
  },
  {
   "cell_type": "code",
   "execution_count": 37,
   "id": "a0dc9b02",
   "metadata": {
    "execution": {
     "iopub.execute_input": "2025-03-06T17:28:22.182538Z",
     "iopub.status.busy": "2025-03-06T17:28:22.182171Z",
     "iopub.status.idle": "2025-03-06T17:28:26.980429Z",
     "shell.execute_reply": "2025-03-06T17:28:26.979219Z"
    },
    "papermill": {
     "duration": 4.8139,
     "end_time": "2025-03-06T17:28:26.982409",
     "exception": false,
     "start_time": "2025-03-06T17:28:22.168509",
     "status": "completed"
    },
    "tags": []
   },
   "outputs": [
    {
     "name": "stdout",
     "output_type": "stream",
     "text": [
      "Collecting snowflake-sqlalchemy\r\n",
      "  Downloading snowflake_sqlalchemy-1.7.3-py3-none-any.whl.metadata (28 kB)\r\n",
      "Requirement already satisfied: snowflake-connector-python<4.0.0 in /usr/local/lib/python3.10/dist-packages (from snowflake-sqlalchemy) (3.14.0)\r\n",
      "Requirement already satisfied: sqlalchemy>=1.4.19 in /usr/local/lib/python3.10/dist-packages (from snowflake-sqlalchemy) (2.0.36)\r\n",
      "Requirement already satisfied: asn1crypto<2.0.0,>0.24.0 in /usr/local/lib/python3.10/dist-packages (from snowflake-connector-python<4.0.0->snowflake-sqlalchemy) (1.5.1)\r\n",
      "Requirement already satisfied: cffi<2.0.0,>=1.9 in /usr/local/lib/python3.10/dist-packages (from snowflake-connector-python<4.0.0->snowflake-sqlalchemy) (1.17.1)\r\n",
      "Requirement already satisfied: cryptography>=3.1.0 in /usr/local/lib/python3.10/dist-packages (from snowflake-connector-python<4.0.0->snowflake-sqlalchemy) (43.0.3)\r\n",
      "Requirement already satisfied: pyOpenSSL<26.0.0,>=22.0.0 in /usr/local/lib/python3.10/dist-packages (from snowflake-connector-python<4.0.0->snowflake-sqlalchemy) (24.2.1)\r\n",
      "Requirement already satisfied: pyjwt<3.0.0 in /usr/local/lib/python3.10/dist-packages (from snowflake-connector-python<4.0.0->snowflake-sqlalchemy) (2.10.1)\r\n",
      "Requirement already satisfied: pytz in /usr/local/lib/python3.10/dist-packages (from snowflake-connector-python<4.0.0->snowflake-sqlalchemy) (2024.2)\r\n",
      "Requirement already satisfied: requests<3.0.0 in /usr/local/lib/python3.10/dist-packages (from snowflake-connector-python<4.0.0->snowflake-sqlalchemy) (2.32.3)\r\n",
      "Requirement already satisfied: packaging in /usr/local/lib/python3.10/dist-packages (from snowflake-connector-python<4.0.0->snowflake-sqlalchemy) (24.2)\r\n",
      "Requirement already satisfied: charset_normalizer<4,>=2 in /usr/local/lib/python3.10/dist-packages (from snowflake-connector-python<4.0.0->snowflake-sqlalchemy) (3.4.0)\r\n",
      "Requirement already satisfied: idna<4,>=2.5 in /usr/local/lib/python3.10/dist-packages (from snowflake-connector-python<4.0.0->snowflake-sqlalchemy) (3.10)\r\n",
      "Requirement already satisfied: certifi>=2017.4.17 in /usr/local/lib/python3.10/dist-packages (from snowflake-connector-python<4.0.0->snowflake-sqlalchemy) (2024.12.14)\r\n",
      "Requirement already satisfied: typing_extensions<5,>=4.3 in /usr/local/lib/python3.10/dist-packages (from snowflake-connector-python<4.0.0->snowflake-sqlalchemy) (4.12.2)\r\n",
      "Requirement already satisfied: filelock<4,>=3.5 in /usr/local/lib/python3.10/dist-packages (from snowflake-connector-python<4.0.0->snowflake-sqlalchemy) (3.16.1)\r\n",
      "Requirement already satisfied: sortedcontainers>=2.4.0 in /usr/local/lib/python3.10/dist-packages (from snowflake-connector-python<4.0.0->snowflake-sqlalchemy) (2.4.0)\r\n",
      "Requirement already satisfied: platformdirs<5.0.0,>=2.6.0 in /usr/local/lib/python3.10/dist-packages (from snowflake-connector-python<4.0.0->snowflake-sqlalchemy) (4.3.6)\r\n",
      "Requirement already satisfied: tomlkit in /usr/local/lib/python3.10/dist-packages (from snowflake-connector-python<4.0.0->snowflake-sqlalchemy) (0.13.2)\r\n",
      "Requirement already satisfied: greenlet!=0.4.17 in /usr/local/lib/python3.10/dist-packages (from sqlalchemy>=1.4.19->snowflake-sqlalchemy) (3.1.1)\r\n",
      "Requirement already satisfied: pycparser in /usr/local/lib/python3.10/dist-packages (from cffi<2.0.0,>=1.9->snowflake-connector-python<4.0.0->snowflake-sqlalchemy) (2.22)\r\n",
      "Requirement already satisfied: urllib3<3,>=1.21.1 in /usr/local/lib/python3.10/dist-packages (from requests<3.0.0->snowflake-connector-python<4.0.0->snowflake-sqlalchemy) (2.2.3)\r\n",
      "Downloading snowflake_sqlalchemy-1.7.3-py3-none-any.whl (70 kB)\r\n",
      "\u001b[2K   \u001b[90m━━━━━━━━━━━━━━━━━━━━━━━━━━━━━━━━━━━━━━━━\u001b[0m \u001b[32m70.0/70.0 kB\u001b[0m \u001b[31m2.8 MB/s\u001b[0m eta \u001b[36m0:00:00\u001b[0m\r\n",
      "\u001b[?25hInstalling collected packages: snowflake-sqlalchemy\r\n",
      "Successfully installed snowflake-sqlalchemy-1.7.3\r\n"
     ]
    }
   ],
   "source": [
    "!pip install --upgrade snowflake-sqlalchemy\n"
   ]
  },
  {
   "cell_type": "code",
   "execution_count": 38,
   "id": "b32cb73b",
   "metadata": {
    "execution": {
     "iopub.execute_input": "2025-03-06T17:28:27.009272Z",
     "iopub.status.busy": "2025-03-06T17:28:27.008871Z",
     "iopub.status.idle": "2025-03-06T17:28:28.629600Z",
     "shell.execute_reply": "2025-03-06T17:28:28.628406Z"
    },
    "papermill": {
     "duration": 1.636534,
     "end_time": "2025-03-06T17:28:28.631791",
     "exception": false,
     "start_time": "2025-03-06T17:28:26.995257",
     "status": "completed"
    },
    "tags": []
   },
   "outputs": [
    {
     "name": "stdout",
     "output_type": "stream",
     "text": [
      "Snowflake SQLAlchemy installed successfully!\n"
     ]
    }
   ],
   "source": [
    "import snowflake.sqlalchemy\n",
    "print(\"Snowflake SQLAlchemy installed successfully!\")"
   ]
  },
  {
   "cell_type": "code",
   "execution_count": 39,
   "id": "b713a2a7",
   "metadata": {
    "execution": {
     "iopub.execute_input": "2025-03-06T17:28:28.658696Z",
     "iopub.status.busy": "2025-03-06T17:28:28.658061Z",
     "iopub.status.idle": "2025-03-06T17:28:30.859322Z",
     "shell.execute_reply": "2025-03-06T17:28:30.857964Z"
    },
    "papermill": {
     "duration": 2.216869,
     "end_time": "2025-03-06T17:28:30.861226",
     "exception": false,
     "start_time": "2025-03-06T17:28:28.644357",
     "status": "completed"
    },
    "tags": []
   },
   "outputs": [
    {
     "name": "stdout",
     "output_type": "stream",
     "text": [
      "Connected to Snowflake successfully!\n"
     ]
    }
   ],
   "source": [
    "import snowflake.connector\n",
    "from sqlalchemy import create_engine\n",
    "import urllib.parse\n",
    "import json\n",
    "\n",
    "# Load secrets from Kaggle\n",
    "from kaggle_secrets import UserSecretsClient\n",
    "user_secrets = UserSecretsClient()\n",
    "secrets = json.loads(user_secrets.get_secret(\"snowflake\"))  # Label must match exactly\n",
    "user = secrets.get(\"SNOWFLAKE_USER\")\n",
    "password = secrets.get(\"SNOWFLAKE_PASSWORD\")\n",
    "# Snowflake credentials\n",
    "account = \"HWXSBYU-JU26328\"\n",
    "role = \"ACCOUNTADMIN\"\n",
    "warehouse = \"COMPUTE_WH\"\n",
    "database = \"TRANSPORT_DATA\"\n",
    "schema = \"PUBLIC\"\n",
    "\n",
    "# URL encode the password (important if it contains special characters like @, !, etc.)\n",
    "encoded_password = urllib.parse.quote(password)\n",
    "\n",
    "# Create SQLAlchemy Engine for Snowflake\n",
    "engine = create_engine(\n",
    "    f\"snowflake://{user}:{encoded_password}@{account}/{database}/{schema}?warehouse={warehouse}&role={role}\"\n",
    ")\n",
    "\n",
    "# Test Connection\n",
    "conn = engine.connect()\n",
    "print(\"Connected to Snowflake successfully!\")\n",
    "conn.close()\n"
   ]
  },
  {
   "cell_type": "code",
   "execution_count": 40,
   "id": "4b821ea2",
   "metadata": {
    "execution": {
     "iopub.execute_input": "2025-03-06T17:28:30.887788Z",
     "iopub.status.busy": "2025-03-06T17:28:30.887392Z",
     "iopub.status.idle": "2025-03-06T17:28:30.895507Z",
     "shell.execute_reply": "2025-03-06T17:28:30.894239Z"
    },
    "papermill": {
     "duration": 0.023398,
     "end_time": "2025-03-06T17:28:30.897352",
     "exception": false,
     "start_time": "2025-03-06T17:28:30.873954",
     "status": "completed"
    },
    "tags": []
   },
   "outputs": [
    {
     "name": "stdout",
     "output_type": "stream",
     "text": [
      "LO DATE       0\n",
      "UN DATE       0\n",
      "PARTY         0\n",
      "VECHILE NO    0\n",
      "GC            0\n",
      "L.W           0\n",
      "FRIGHT        0\n",
      "TOTAL         0\n",
      "LO_year       0\n",
      "UN_year       0\n",
      "LO_month      0\n",
      "UN_month      0\n",
      "LO_day        0\n",
      "UN_day        0\n",
      "dtype: int64\n"
     ]
    }
   ],
   "source": [
    "print(df.isnull().sum())  # Shows count of NaN values in each column\n"
   ]
  },
  {
   "cell_type": "code",
   "execution_count": 41,
   "id": "215dd600",
   "metadata": {
    "execution": {
     "iopub.execute_input": "2025-03-06T17:28:30.924378Z",
     "iopub.status.busy": "2025-03-06T17:28:30.923998Z",
     "iopub.status.idle": "2025-03-06T17:28:30.930607Z",
     "shell.execute_reply": "2025-03-06T17:28:30.929338Z"
    },
    "papermill": {
     "duration": 0.022026,
     "end_time": "2025-03-06T17:28:30.932199",
     "exception": false,
     "start_time": "2025-03-06T17:28:30.910173",
     "status": "completed"
    },
    "tags": []
   },
   "outputs": [
    {
     "name": "stdout",
     "output_type": "stream",
     "text": [
      "LO DATE       datetime64[ns]\n",
      "UN DATE       datetime64[ns]\n",
      "PARTY                 object\n",
      "VECHILE NO            object\n",
      "GC                     Int64\n",
      "L.W                   object\n",
      "FRIGHT                 Int64\n",
      "TOTAL                 object\n",
      "LO_year                int32\n",
      "UN_year                int32\n",
      "LO_month               int32\n",
      "UN_month               int32\n",
      "LO_day                 int32\n",
      "UN_day                 int32\n",
      "dtype: object\n"
     ]
    }
   ],
   "source": [
    "print(df.dtypes)\n"
   ]
  },
  {
   "cell_type": "code",
   "execution_count": 42,
   "id": "6d81ed59",
   "metadata": {
    "execution": {
     "iopub.execute_input": "2025-03-06T17:28:30.958773Z",
     "iopub.status.busy": "2025-03-06T17:28:30.958409Z",
     "iopub.status.idle": "2025-03-06T17:28:30.964832Z",
     "shell.execute_reply": "2025-03-06T17:28:30.963526Z"
    },
    "papermill": {
     "duration": 0.021947,
     "end_time": "2025-03-06T17:28:30.966815",
     "exception": false,
     "start_time": "2025-03-06T17:28:30.944868",
     "status": "completed"
    },
    "tags": []
   },
   "outputs": [],
   "source": [
    "df[\"L.W\"] = pd.to_numeric(df[\"L.W\"], errors=\"coerce\")\n",
    "df[\"TOTAL\"] = pd.to_numeric(df[\"TOTAL\"], errors=\"coerce\")\n"
   ]
  },
  {
   "cell_type": "code",
   "execution_count": 43,
   "id": "3fa58f65",
   "metadata": {
    "execution": {
     "iopub.execute_input": "2025-03-06T17:28:30.993354Z",
     "iopub.status.busy": "2025-03-06T17:28:30.992992Z",
     "iopub.status.idle": "2025-03-06T17:28:37.037939Z",
     "shell.execute_reply": "2025-03-06T17:28:37.036562Z"
    },
    "papermill": {
     "duration": 6.060338,
     "end_time": "2025-03-06T17:28:37.039860",
     "exception": false,
     "start_time": "2025-03-06T17:28:30.979522",
     "status": "completed"
    },
    "tags": []
   },
   "outputs": [
    {
     "name": "stdout",
     "output_type": "stream",
     "text": [
      "Data uploaded to Snowflake successfully!\n"
     ]
    }
   ],
   "source": [
    "df.to_sql(\"Transport_Details\", con=engine, if_exists=\"replace\", index=False)\n",
    "print(\"Data uploaded to Snowflake successfully!\")\n"
   ]
  }
 ],
 "metadata": {
  "kaggle": {
   "accelerator": "none",
   "dataSources": [
    {
     "datasetId": 6578727,
     "sourceId": 10625314,
     "sourceType": "datasetVersion"
    }
   ],
   "dockerImageVersionId": 30839,
   "isGpuEnabled": false,
   "isInternetEnabled": true,
   "language": "python",
   "sourceType": "notebook"
  },
  "kernelspec": {
   "display_name": "Python 3",
   "language": "python",
   "name": "python3"
  },
  "language_info": {
   "codemirror_mode": {
    "name": "ipython",
    "version": 3
   },
   "file_extension": ".py",
   "mimetype": "text/x-python",
   "name": "python",
   "nbconvert_exporter": "python",
   "pygments_lexer": "ipython3",
   "version": "3.10.12"
  },
  "papermill": {
   "default_parameters": {},
   "duration": 40.525992,
   "end_time": "2025-03-06T17:28:38.076353",
   "environment_variables": {},
   "exception": null,
   "input_path": "__notebook__.ipynb",
   "output_path": "__notebook__.ipynb",
   "parameters": {},
   "start_time": "2025-03-06T17:27:57.550361",
   "version": "2.6.0"
  }
 },
 "nbformat": 4,
 "nbformat_minor": 5
}
